{
 "cells": [
  {
   "cell_type": "code",
   "execution_count": 1,
   "metadata": {},
   "outputs": [
    {
     "data": {
      "text/html": [
       "<script>\n",
       "code_show=true; \n",
       "function code_toggle() {\n",
       " if (code_show){\n",
       " $('div.input').hide();\n",
       " } else {\n",
       " $('div.input').show();\n",
       " }\n",
       " code_show = !code_show\n",
       "} \n",
       "$( document ).ready(code_toggle);\n",
       "</script>\n",
       "<form action=\"javascript:code_toggle()\"><input type=\"submit\" value=\"Click here to toggle on/off the raw code.\"></form>"
      ],
      "text/plain": [
       "<IPython.core.display.HTML object>"
      ]
     },
     "execution_count": 1,
     "metadata": {},
     "output_type": "execute_result"
    }
   ],
   "source": [
    "from IPython.display import HTML\n",
    "HTML('''<script>\n",
    "code_show=true; \n",
    "function code_toggle() {\n",
    " if (code_show){\n",
    " $('div.input').hide();\n",
    " } else {\n",
    " $('div.input').show();\n",
    " }\n",
    " code_show = !code_show\n",
    "} \n",
    "$( document ).ready(code_toggle);\n",
    "</script>\n",
    "<form action=\"javascript:code_toggle()\"><input type=\"submit\" value=\"Click here to toggle on/off the raw code.\"></form>''')"
   ]
  },
  {
   "cell_type": "markdown",
   "metadata": {},
   "source": [
    "# &#128013; [One Point Tutorial] Visualization - Practice\n",
    "<p style='text-align: right;'> Python을 활용한 데이터 시각화 </p>\n",
    "<p style='text-align: right;'> December, 2019</p>\n",
    "\n",
    "---\n",
    "\n",
    "## *<font color=\"green\">실제 데이터(제주도 버스 승하차 데이터)</font>*를 기반으로 실습을 해보자!\n",
    "\n",
    "\n",
    "### 학습 목표\n",
    "`다양한 형태의 데이터`에 대한 핵심적인 시각화 기법을 이해하고 실습함\n",
    "\n",
    "### 목차\n",
    " 1. folium Basic\n",
    " 2. folium Advanced\n",
    "\n",
    " "
   ]
  },
  {
   "cell_type": "markdown",
   "metadata": {},
   "source": [
    "### <font color=\"royalblue\">첫번째</font>: Import module\n",
    "- 데이터를 불러오고 시각화를 시키기 위해 필요한 모듈을 불러옵니다!"
   ]
  },
  {
   "cell_type": "code",
   "execution_count": 2,
   "metadata": {},
   "outputs": [],
   "source": [
    "import numpy as np\n",
    "import pandas as pd\n",
    "import matplotlib as mpl\n",
    "import matplotlib.pyplot as plt\n",
    "%matplotlib inline\n",
    "import seaborn as sns\n",
    "import folium\n",
    "\n",
    "import os"
   ]
  },
  {
   "cell_type": "code",
   "execution_count": 3,
   "metadata": {},
   "outputs": [
    {
     "name": "stdout",
     "output_type": "stream",
     "text": [
      "Current Working Directory is changed.\n"
     ]
    }
   ],
   "source": [
    "try:\n",
    "    os.chdir(\"D:\\Portfolio\\[project]daycon-제주버스정류장 승하차 예측\")\n",
    "    print(\"Current Working Directory is changed.\")\n",
    "except OSError:\n",
    "    print(\"Can't change Current Working Directory.\") "
   ]
  },
  {
   "cell_type": "markdown",
   "metadata": {},
   "source": [
    "다음 친구는 경고 메세지를 안 뜨게 해주는 모듈인데 보기 편하도록 불러오도록 하겠습니다.<br>\n",
    "(안 불러와도 크게 지장은 없는 친구입니다!)"
   ]
  },
  {
   "cell_type": "code",
   "execution_count": 4,
   "metadata": {},
   "outputs": [],
   "source": [
    "import warnings\n",
    "warnings.filterwarnings('ignore')"
   ]
  },
  {
   "cell_type": "markdown",
   "metadata": {},
   "source": [
    "다음으로, 그래프 테마를 적용하겠습니다."
   ]
  },
  {
   "cell_type": "code",
   "execution_count": 5,
   "metadata": {},
   "outputs": [],
   "source": [
    "plt.style.use('ggplot')"
   ]
  },
  {
   "cell_type": "markdown",
   "metadata": {},
   "source": [
    "### <font color=\"royalblue\">두번째</font>: import data (데이터 불러오기)\n",
    "\n",
    "- 먼저 데이터부터 다운로드 받고, 각자의 작업폴더로 파일을 이동합니다."
   ]
  },
  {
   "cell_type": "code",
   "execution_count": 6,
   "metadata": {},
   "outputs": [
    {
     "data": {
      "text/html": [
       "<div>\n",
       "<style scoped>\n",
       "    .dataframe tbody tr th:only-of-type {\n",
       "        vertical-align: middle;\n",
       "    }\n",
       "\n",
       "    .dataframe tbody tr th {\n",
       "        vertical-align: top;\n",
       "    }\n",
       "\n",
       "    .dataframe thead th {\n",
       "        text-align: right;\n",
       "    }\n",
       "</style>\n",
       "<table border=\"1\" class=\"dataframe\">\n",
       "  <thead>\n",
       "    <tr style=\"text-align: right;\">\n",
       "      <th></th>\n",
       "      <th>id</th>\n",
       "      <th>date</th>\n",
       "      <th>bus_route_id</th>\n",
       "      <th>in_out</th>\n",
       "      <th>station_code</th>\n",
       "      <th>station_name</th>\n",
       "      <th>latitude</th>\n",
       "      <th>longitude</th>\n",
       "      <th>6~7_ride</th>\n",
       "      <th>7~8_ride</th>\n",
       "      <th>...</th>\n",
       "      <th>9~10_ride</th>\n",
       "      <th>10~11_ride</th>\n",
       "      <th>11~12_ride</th>\n",
       "      <th>6~7_takeoff</th>\n",
       "      <th>7~8_takeoff</th>\n",
       "      <th>8~9_takeoff</th>\n",
       "      <th>9~10_takeoff</th>\n",
       "      <th>10~11_takeoff</th>\n",
       "      <th>11~12_takeoff</th>\n",
       "      <th>18~20_ride</th>\n",
       "    </tr>\n",
       "  </thead>\n",
       "  <tbody>\n",
       "    <tr>\n",
       "      <th>0</th>\n",
       "      <td>0</td>\n",
       "      <td>2019-09-01</td>\n",
       "      <td>4270000</td>\n",
       "      <td>시외</td>\n",
       "      <td>344</td>\n",
       "      <td>제주썬호텔</td>\n",
       "      <td>33.48990</td>\n",
       "      <td>126.49373</td>\n",
       "      <td>0.0</td>\n",
       "      <td>1.0</td>\n",
       "      <td>...</td>\n",
       "      <td>5.0</td>\n",
       "      <td>2.0</td>\n",
       "      <td>6.0</td>\n",
       "      <td>0.0</td>\n",
       "      <td>0.0</td>\n",
       "      <td>0.0</td>\n",
       "      <td>0.0</td>\n",
       "      <td>0.0</td>\n",
       "      <td>0.0</td>\n",
       "      <td>0.0</td>\n",
       "    </tr>\n",
       "    <tr>\n",
       "      <th>1</th>\n",
       "      <td>1</td>\n",
       "      <td>2019-09-01</td>\n",
       "      <td>4270000</td>\n",
       "      <td>시외</td>\n",
       "      <td>357</td>\n",
       "      <td>한라병원</td>\n",
       "      <td>33.48944</td>\n",
       "      <td>126.48508</td>\n",
       "      <td>1.0</td>\n",
       "      <td>4.0</td>\n",
       "      <td>...</td>\n",
       "      <td>2.0</td>\n",
       "      <td>5.0</td>\n",
       "      <td>6.0</td>\n",
       "      <td>0.0</td>\n",
       "      <td>0.0</td>\n",
       "      <td>0.0</td>\n",
       "      <td>0.0</td>\n",
       "      <td>0.0</td>\n",
       "      <td>0.0</td>\n",
       "      <td>5.0</td>\n",
       "    </tr>\n",
       "    <tr>\n",
       "      <th>2</th>\n",
       "      <td>2</td>\n",
       "      <td>2019-09-01</td>\n",
       "      <td>4270000</td>\n",
       "      <td>시외</td>\n",
       "      <td>432</td>\n",
       "      <td>정존마을</td>\n",
       "      <td>33.48181</td>\n",
       "      <td>126.47352</td>\n",
       "      <td>1.0</td>\n",
       "      <td>1.0</td>\n",
       "      <td>...</td>\n",
       "      <td>2.0</td>\n",
       "      <td>0.0</td>\n",
       "      <td>0.0</td>\n",
       "      <td>0.0</td>\n",
       "      <td>0.0</td>\n",
       "      <td>0.0</td>\n",
       "      <td>0.0</td>\n",
       "      <td>0.0</td>\n",
       "      <td>0.0</td>\n",
       "      <td>2.0</td>\n",
       "    </tr>\n",
       "    <tr>\n",
       "      <th>3</th>\n",
       "      <td>3</td>\n",
       "      <td>2019-09-01</td>\n",
       "      <td>4270000</td>\n",
       "      <td>시내</td>\n",
       "      <td>1579</td>\n",
       "      <td>제주국제공항(600번)</td>\n",
       "      <td>33.50577</td>\n",
       "      <td>126.49252</td>\n",
       "      <td>0.0</td>\n",
       "      <td>17.0</td>\n",
       "      <td>...</td>\n",
       "      <td>26.0</td>\n",
       "      <td>14.0</td>\n",
       "      <td>16.0</td>\n",
       "      <td>0.0</td>\n",
       "      <td>0.0</td>\n",
       "      <td>0.0</td>\n",
       "      <td>0.0</td>\n",
       "      <td>0.0</td>\n",
       "      <td>0.0</td>\n",
       "      <td>53.0</td>\n",
       "    </tr>\n",
       "    <tr>\n",
       "      <th>4</th>\n",
       "      <td>4</td>\n",
       "      <td>2019-09-01</td>\n",
       "      <td>4270000</td>\n",
       "      <td>시내</td>\n",
       "      <td>1646</td>\n",
       "      <td>중문관광단지입구</td>\n",
       "      <td>33.25579</td>\n",
       "      <td>126.41260</td>\n",
       "      <td>0.0</td>\n",
       "      <td>0.0</td>\n",
       "      <td>...</td>\n",
       "      <td>0.0</td>\n",
       "      <td>0.0</td>\n",
       "      <td>0.0</td>\n",
       "      <td>0.0</td>\n",
       "      <td>0.0</td>\n",
       "      <td>0.0</td>\n",
       "      <td>1.0</td>\n",
       "      <td>0.0</td>\n",
       "      <td>0.0</td>\n",
       "      <td>0.0</td>\n",
       "    </tr>\n",
       "  </tbody>\n",
       "</table>\n",
       "<p>5 rows × 21 columns</p>\n",
       "</div>"
      ],
      "text/plain": [
       "   id        date  bus_route_id in_out  station_code  station_name  latitude  \\\n",
       "0   0  2019-09-01       4270000     시외           344         제주썬호텔  33.48990   \n",
       "1   1  2019-09-01       4270000     시외           357          한라병원  33.48944   \n",
       "2   2  2019-09-01       4270000     시외           432          정존마을  33.48181   \n",
       "3   3  2019-09-01       4270000     시내          1579  제주국제공항(600번)  33.50577   \n",
       "4   4  2019-09-01       4270000     시내          1646      중문관광단지입구  33.25579   \n",
       "\n",
       "   longitude  6~7_ride  7~8_ride  ...  9~10_ride  10~11_ride  11~12_ride  \\\n",
       "0  126.49373       0.0       1.0  ...        5.0         2.0         6.0   \n",
       "1  126.48508       1.0       4.0  ...        2.0         5.0         6.0   \n",
       "2  126.47352       1.0       1.0  ...        2.0         0.0         0.0   \n",
       "3  126.49252       0.0      17.0  ...       26.0        14.0        16.0   \n",
       "4  126.41260       0.0       0.0  ...        0.0         0.0         0.0   \n",
       "\n",
       "   6~7_takeoff  7~8_takeoff  8~9_takeoff  9~10_takeoff  10~11_takeoff  \\\n",
       "0          0.0          0.0          0.0           0.0            0.0   \n",
       "1          0.0          0.0          0.0           0.0            0.0   \n",
       "2          0.0          0.0          0.0           0.0            0.0   \n",
       "3          0.0          0.0          0.0           0.0            0.0   \n",
       "4          0.0          0.0          0.0           1.0            0.0   \n",
       "\n",
       "   11~12_takeoff  18~20_ride  \n",
       "0            0.0         0.0  \n",
       "1            0.0         5.0  \n",
       "2            0.0         2.0  \n",
       "3            0.0        53.0  \n",
       "4            0.0         0.0  \n",
       "\n",
       "[5 rows x 21 columns]"
      ]
     },
     "execution_count": 6,
     "metadata": {},
     "output_type": "execute_result"
    }
   ],
   "source": [
    "data = pd.read_csv(\"train.csv\", encoding=\"utf8\") #encoding 방법은 개인 컴퓨터마다 다를 수 있습니다 !\n",
    "data.head()"
   ]
  },
  {
   "cell_type": "markdown",
   "metadata": {},
   "source": [
    "**<train.csv dataset 설명>**  \n",
    "2019년 9월 제주도의 각 날짜, 출근시간(6시~12시)의 버스 정류장별 승하차 인원, 퇴근시간(18시~20시)의 버스 정류장별 승차 인원 기록\n",
    "\n",
    "- 제대로 된 시각화를 위해서 변수에 대한 이해는 필수적이며, 역으로 변수에 대한 이해를 위해서도 시각화는 필수적입니다."
   ]
  },
  {
   "cell_type": "markdown",
   "metadata": {},
   "source": [
    "#### <div style=text-align:center> [ Table Description ] </div>\n",
    "|변수명|설명|\n",
    "|:---:|:---:|\n",
    "|id|해당 데이터에서의 고유한 ID|\n",
    "|date|날짜|\n",
    "|bus_route_id|버스 노선 ID|\n",
    "|in_out|시내버스, 시외버스 구분|\n",
    "|station_code|해당 승하차 정류소의 ID|\n",
    "|station_name|해당 승하차 정류소의 이름|\n",
    "|latitude|해당 버스 정류장의 위도 (같은 정류장 이름이어도 버스의 진행 방향에 따라 다를 수 있음)|\n",
    "|longtitude|해당 버스 정류장의 경도 (같은 정류장 이름이어도 버스의 진행 방향에 따라 다를 수 있음)|\n",
    "|6~7_ride|6:00:00부터 6:59:59까지 승차한 인원 수|\n",
    "|7~8_ride|7:00:00부터 7:59:59까지 승차한 인원 수|\n",
    "|8~9_ride|8:00:00부터 8:59:59까지 승차한 인원 수|\n",
    "|9~10_ride|9:00:00부터 9:59:59까지 승차한 인원 수|\n",
    "|10~11_ride|10:00:00부터 10:59:59까지 승차한 인원 수|\n",
    "|11~12_ride|11:00:00부터 11:59:59까지 승차한 인원 수|\n",
    "|6~7_takeoff|6:00:00부터 6:59:59까지 하차한 인원 수|\n",
    "|7~8_takeoff|7:00:00부터 7:59:59까지 하차한 인원 수|\n",
    "|8~9_takeoff|8:00:00부터 8:59:59까지 하차한 인원 수|\n",
    "|9~10_takeoff|9:00:00부터 9:59:59까지 하차한 인원 수|\n",
    "|10~11_takeoff|10:00:00부터 10:59:59까지 하차한 인원 수|\n",
    "|11~12_takeoff|11:00:00부터 11:59:59까지 하차한 인원 수|\n",
    "|18~20_ride|18:00:00부터 19:59:59까지 승차한 인원 수|"
   ]
  },
  {
   "cell_type": "markdown",
   "metadata": {},
   "source": [
    "### <font color=\"royalblue\">세번째</font> : 데이터 살펴보기 (간단한 EDA)\n",
    "\n",
    "#### 데이터 살펴보기"
   ]
  },
  {
   "cell_type": "code",
   "execution_count": 7,
   "metadata": {},
   "outputs": [
    {
     "name": "stdout",
     "output_type": "stream",
     "text": [
      "<class 'pandas.core.frame.DataFrame'>\n",
      "RangeIndex: 415423 entries, 0 to 415422\n",
      "Data columns (total 21 columns):\n",
      "id               415423 non-null int64\n",
      "date             415423 non-null object\n",
      "bus_route_id     415423 non-null int64\n",
      "in_out           415423 non-null object\n",
      "station_code     415423 non-null int64\n",
      "station_name     415423 non-null object\n",
      "latitude         415423 non-null float64\n",
      "longitude        415423 non-null float64\n",
      "6~7_ride         415423 non-null float64\n",
      "7~8_ride         415423 non-null float64\n",
      "8~9_ride         415423 non-null float64\n",
      "9~10_ride        415423 non-null float64\n",
      "10~11_ride       415423 non-null float64\n",
      "11~12_ride       415423 non-null float64\n",
      "6~7_takeoff      415423 non-null float64\n",
      "7~8_takeoff      415423 non-null float64\n",
      "8~9_takeoff      415423 non-null float64\n",
      "9~10_takeoff     415423 non-null float64\n",
      "10~11_takeoff    415423 non-null float64\n",
      "11~12_takeoff    415423 non-null float64\n",
      "18~20_ride       415423 non-null float64\n",
      "dtypes: float64(15), int64(3), object(3)\n",
      "memory usage: 66.6+ MB\n"
     ]
    }
   ],
   "source": [
    "data.info()"
   ]
  },
  {
   "cell_type": "markdown",
   "metadata": {},
   "source": [
    "- data는 데이터프레임의 형태를 가지고 있구나 !"
   ]
  },
  {
   "cell_type": "code",
   "execution_count": 8,
   "metadata": {},
   "outputs": [
    {
     "data": {
      "text/plain": [
       "(415423, 21)"
      ]
     },
     "execution_count": 8,
     "metadata": {},
     "output_type": "execute_result"
    }
   ],
   "source": [
    "data.shape"
   ]
  },
  {
   "cell_type": "markdown",
   "metadata": {},
   "source": [
    "- 행은 총 415423개, 열은 총 21개가 있구나 !"
   ]
  },
  {
   "cell_type": "code",
   "execution_count": 9,
   "metadata": {},
   "outputs": [
    {
     "data": {
      "text/html": [
       "<div>\n",
       "<style scoped>\n",
       "    .dataframe tbody tr th:only-of-type {\n",
       "        vertical-align: middle;\n",
       "    }\n",
       "\n",
       "    .dataframe tbody tr th {\n",
       "        vertical-align: top;\n",
       "    }\n",
       "\n",
       "    .dataframe thead th {\n",
       "        text-align: right;\n",
       "    }\n",
       "</style>\n",
       "<table border=\"1\" class=\"dataframe\">\n",
       "  <thead>\n",
       "    <tr style=\"text-align: right;\">\n",
       "      <th></th>\n",
       "      <th>id</th>\n",
       "      <th>bus_route_id</th>\n",
       "      <th>station_code</th>\n",
       "      <th>latitude</th>\n",
       "      <th>longitude</th>\n",
       "      <th>6~7_ride</th>\n",
       "      <th>7~8_ride</th>\n",
       "      <th>8~9_ride</th>\n",
       "      <th>9~10_ride</th>\n",
       "      <th>10~11_ride</th>\n",
       "      <th>11~12_ride</th>\n",
       "      <th>6~7_takeoff</th>\n",
       "      <th>7~8_takeoff</th>\n",
       "      <th>8~9_takeoff</th>\n",
       "      <th>9~10_takeoff</th>\n",
       "      <th>10~11_takeoff</th>\n",
       "      <th>11~12_takeoff</th>\n",
       "      <th>18~20_ride</th>\n",
       "    </tr>\n",
       "  </thead>\n",
       "  <tbody>\n",
       "    <tr>\n",
       "      <th>count</th>\n",
       "      <td>415423.000000</td>\n",
       "      <td>4.154230e+05</td>\n",
       "      <td>4.154230e+05</td>\n",
       "      <td>415423.000000</td>\n",
       "      <td>415423.000000</td>\n",
       "      <td>415423.000000</td>\n",
       "      <td>415423.000000</td>\n",
       "      <td>415423.000000</td>\n",
       "      <td>415423.000000</td>\n",
       "      <td>415423.000000</td>\n",
       "      <td>415423.000000</td>\n",
       "      <td>415423.000000</td>\n",
       "      <td>415423.000000</td>\n",
       "      <td>415423.000000</td>\n",
       "      <td>415423.000000</td>\n",
       "      <td>415423.000000</td>\n",
       "      <td>415423.000000</td>\n",
       "      <td>415423.000000</td>\n",
       "    </tr>\n",
       "    <tr>\n",
       "      <th>mean</th>\n",
       "      <td>207711.000000</td>\n",
       "      <td>2.691935e+07</td>\n",
       "      <td>4.209311e+04</td>\n",
       "      <td>33.420375</td>\n",
       "      <td>126.533574</td>\n",
       "      <td>0.305893</td>\n",
       "      <td>0.829699</td>\n",
       "      <td>0.815350</td>\n",
       "      <td>0.642475</td>\n",
       "      <td>0.599618</td>\n",
       "      <td>0.579393</td>\n",
       "      <td>0.112870</td>\n",
       "      <td>0.344870</td>\n",
       "      <td>0.516481</td>\n",
       "      <td>0.430922</td>\n",
       "      <td>0.408001</td>\n",
       "      <td>0.402874</td>\n",
       "      <td>1.242095</td>\n",
       "    </tr>\n",
       "    <tr>\n",
       "      <th>std</th>\n",
       "      <td>119922.434776</td>\n",
       "      <td>3.924652e+06</td>\n",
       "      <td>4.971504e+05</td>\n",
       "      <td>0.107996</td>\n",
       "      <td>0.140986</td>\n",
       "      <td>1.109766</td>\n",
       "      <td>2.255116</td>\n",
       "      <td>2.317561</td>\n",
       "      <td>1.959844</td>\n",
       "      <td>1.885941</td>\n",
       "      <td>1.942137</td>\n",
       "      <td>0.597714</td>\n",
       "      <td>1.279179</td>\n",
       "      <td>1.658850</td>\n",
       "      <td>1.485124</td>\n",
       "      <td>1.412839</td>\n",
       "      <td>1.446080</td>\n",
       "      <td>4.722287</td>\n",
       "    </tr>\n",
       "    <tr>\n",
       "      <th>min</th>\n",
       "      <td>0.000000</td>\n",
       "      <td>4.270000e+06</td>\n",
       "      <td>1.000000e+00</td>\n",
       "      <td>33.208350</td>\n",
       "      <td>126.165040</td>\n",
       "      <td>0.000000</td>\n",
       "      <td>0.000000</td>\n",
       "      <td>0.000000</td>\n",
       "      <td>0.000000</td>\n",
       "      <td>0.000000</td>\n",
       "      <td>0.000000</td>\n",
       "      <td>0.000000</td>\n",
       "      <td>0.000000</td>\n",
       "      <td>0.000000</td>\n",
       "      <td>0.000000</td>\n",
       "      <td>0.000000</td>\n",
       "      <td>0.000000</td>\n",
       "      <td>0.000000</td>\n",
       "    </tr>\n",
       "    <tr>\n",
       "      <th>25%</th>\n",
       "      <td>103855.500000</td>\n",
       "      <td>2.346000e+07</td>\n",
       "      <td>3.200000e+02</td>\n",
       "      <td>33.291080</td>\n",
       "      <td>126.475780</td>\n",
       "      <td>0.000000</td>\n",
       "      <td>0.000000</td>\n",
       "      <td>0.000000</td>\n",
       "      <td>0.000000</td>\n",
       "      <td>0.000000</td>\n",
       "      <td>0.000000</td>\n",
       "      <td>0.000000</td>\n",
       "      <td>0.000000</td>\n",
       "      <td>0.000000</td>\n",
       "      <td>0.000000</td>\n",
       "      <td>0.000000</td>\n",
       "      <td>0.000000</td>\n",
       "      <td>0.000000</td>\n",
       "    </tr>\n",
       "    <tr>\n",
       "      <th>50%</th>\n",
       "      <td>207711.000000</td>\n",
       "      <td>2.803000e+07</td>\n",
       "      <td>1.130000e+03</td>\n",
       "      <td>33.478850</td>\n",
       "      <td>126.529770</td>\n",
       "      <td>0.000000</td>\n",
       "      <td>0.000000</td>\n",
       "      <td>0.000000</td>\n",
       "      <td>0.000000</td>\n",
       "      <td>0.000000</td>\n",
       "      <td>0.000000</td>\n",
       "      <td>0.000000</td>\n",
       "      <td>0.000000</td>\n",
       "      <td>0.000000</td>\n",
       "      <td>0.000000</td>\n",
       "      <td>0.000000</td>\n",
       "      <td>0.000000</td>\n",
       "      <td>0.000000</td>\n",
       "    </tr>\n",
       "    <tr>\n",
       "      <th>75%</th>\n",
       "      <td>311566.500000</td>\n",
       "      <td>3.003000e+07</td>\n",
       "      <td>2.226000e+03</td>\n",
       "      <td>33.500020</td>\n",
       "      <td>126.575890</td>\n",
       "      <td>0.000000</td>\n",
       "      <td>1.000000</td>\n",
       "      <td>1.000000</td>\n",
       "      <td>1.000000</td>\n",
       "      <td>0.000000</td>\n",
       "      <td>0.000000</td>\n",
       "      <td>0.000000</td>\n",
       "      <td>0.000000</td>\n",
       "      <td>0.000000</td>\n",
       "      <td>0.000000</td>\n",
       "      <td>0.000000</td>\n",
       "      <td>0.000000</td>\n",
       "      <td>1.000000</td>\n",
       "    </tr>\n",
       "    <tr>\n",
       "      <th>max</th>\n",
       "      <td>415422.000000</td>\n",
       "      <td>3.282000e+07</td>\n",
       "      <td>6.115101e+06</td>\n",
       "      <td>33.963640</td>\n",
       "      <td>126.965670</td>\n",
       "      <td>85.000000</td>\n",
       "      <td>94.000000</td>\n",
       "      <td>136.000000</td>\n",
       "      <td>78.000000</td>\n",
       "      <td>124.000000</td>\n",
       "      <td>99.000000</td>\n",
       "      <td>45.000000</td>\n",
       "      <td>66.000000</td>\n",
       "      <td>59.000000</td>\n",
       "      <td>65.000000</td>\n",
       "      <td>52.000000</td>\n",
       "      <td>81.000000</td>\n",
       "      <td>272.000000</td>\n",
       "    </tr>\n",
       "  </tbody>\n",
       "</table>\n",
       "</div>"
      ],
      "text/plain": [
       "                  id  bus_route_id  station_code       latitude  \\\n",
       "count  415423.000000  4.154230e+05  4.154230e+05  415423.000000   \n",
       "mean   207711.000000  2.691935e+07  4.209311e+04      33.420375   \n",
       "std    119922.434776  3.924652e+06  4.971504e+05       0.107996   \n",
       "min         0.000000  4.270000e+06  1.000000e+00      33.208350   \n",
       "25%    103855.500000  2.346000e+07  3.200000e+02      33.291080   \n",
       "50%    207711.000000  2.803000e+07  1.130000e+03      33.478850   \n",
       "75%    311566.500000  3.003000e+07  2.226000e+03      33.500020   \n",
       "max    415422.000000  3.282000e+07  6.115101e+06      33.963640   \n",
       "\n",
       "           longitude       6~7_ride       7~8_ride       8~9_ride  \\\n",
       "count  415423.000000  415423.000000  415423.000000  415423.000000   \n",
       "mean      126.533574       0.305893       0.829699       0.815350   \n",
       "std         0.140986       1.109766       2.255116       2.317561   \n",
       "min       126.165040       0.000000       0.000000       0.000000   \n",
       "25%       126.475780       0.000000       0.000000       0.000000   \n",
       "50%       126.529770       0.000000       0.000000       0.000000   \n",
       "75%       126.575890       0.000000       1.000000       1.000000   \n",
       "max       126.965670      85.000000      94.000000     136.000000   \n",
       "\n",
       "           9~10_ride     10~11_ride     11~12_ride    6~7_takeoff  \\\n",
       "count  415423.000000  415423.000000  415423.000000  415423.000000   \n",
       "mean        0.642475       0.599618       0.579393       0.112870   \n",
       "std         1.959844       1.885941       1.942137       0.597714   \n",
       "min         0.000000       0.000000       0.000000       0.000000   \n",
       "25%         0.000000       0.000000       0.000000       0.000000   \n",
       "50%         0.000000       0.000000       0.000000       0.000000   \n",
       "75%         1.000000       0.000000       0.000000       0.000000   \n",
       "max        78.000000     124.000000      99.000000      45.000000   \n",
       "\n",
       "         7~8_takeoff    8~9_takeoff   9~10_takeoff  10~11_takeoff  \\\n",
       "count  415423.000000  415423.000000  415423.000000  415423.000000   \n",
       "mean        0.344870       0.516481       0.430922       0.408001   \n",
       "std         1.279179       1.658850       1.485124       1.412839   \n",
       "min         0.000000       0.000000       0.000000       0.000000   \n",
       "25%         0.000000       0.000000       0.000000       0.000000   \n",
       "50%         0.000000       0.000000       0.000000       0.000000   \n",
       "75%         0.000000       0.000000       0.000000       0.000000   \n",
       "max        66.000000      59.000000      65.000000      52.000000   \n",
       "\n",
       "       11~12_takeoff     18~20_ride  \n",
       "count  415423.000000  415423.000000  \n",
       "mean        0.402874       1.242095  \n",
       "std         1.446080       4.722287  \n",
       "min         0.000000       0.000000  \n",
       "25%         0.000000       0.000000  \n",
       "50%         0.000000       0.000000  \n",
       "75%         0.000000       1.000000  \n",
       "max        81.000000     272.000000  "
      ]
     },
     "execution_count": 9,
     "metadata": {},
     "output_type": "execute_result"
    }
   ],
   "source": [
    "data.describe()"
   ]
  },
  {
   "cell_type": "markdown",
   "metadata": {},
   "source": [
    "- describe() 함수는 int 형태 변수들의 빈도, 평균, 편차, 최솟값, 25%, 50%, 75%, 최댓값을 보여준다 !"
   ]
  },
  {
   "cell_type": "markdown",
   "metadata": {},
   "source": [
    "#### 데이터 변수 변환"
   ]
  },
  {
   "cell_type": "markdown",
   "metadata": {},
   "source": [
    "#### 1. date 변수 변환\n",
    "\n",
    "\n",
    "- date 변수를 datetime으로 변수형으로 변환해준다 !"
   ]
  },
  {
   "cell_type": "code",
   "execution_count": 10,
   "metadata": {},
   "outputs": [],
   "source": [
    "data['date'] = pd.to_datetime(data['date'])"
   ]
  },
  {
   "cell_type": "code",
   "execution_count": 11,
   "metadata": {},
   "outputs": [],
   "source": [
    "data['weekday'] = data['date'].dt.weekday #data에 새로운 변수 'weekday' 추가 -> 요일 정보"
   ]
  },
  {
   "cell_type": "markdown",
   "metadata": {},
   "source": [
    "- weekday 변수의 값으로는 0~6까지의 값이 들어간다 !"
   ]
  },
  {
   "cell_type": "markdown",
   "metadata": {},
   "source": [
    "#### 2. in_out 변수 변환\n",
    "\n",
    "- 시내와 시외로 나누어져 있는 in_out 변수를 변환해주자 !"
   ]
  },
  {
   "cell_type": "code",
   "execution_count": 12,
   "metadata": {},
   "outputs": [
    {
     "data": {
      "text/plain": [
       "시내    408500\n",
       "시외      6923\n",
       "Name: in_out, dtype: int64"
      ]
     },
     "execution_count": 12,
     "metadata": {},
     "output_type": "execute_result"
    }
   ],
   "source": [
    "data['in_out'].value_counts() #value_counts() 함수는 변수값의 빈도를 세어준다 !"
   ]
  },
  {
   "cell_type": "markdown",
   "metadata": {},
   "source": [
    "- 시내에 비해 시외가 값이 많이 작군 !\n",
    "- 그렇다면, map 함수를 이용하여 'in_out' 변수를 binary 변수화 시켜보자 !"
   ]
  },
  {
   "cell_type": "code",
   "execution_count": 13,
   "metadata": {},
   "outputs": [],
   "source": [
    "data['in_out'] = data['in_out'].map({'시내':0,'시외':1})"
   ]
  },
  {
   "cell_type": "markdown",
   "metadata": {},
   "source": [
    "### <font color=\"royalblue\">네번째</font> : 데이터 시각화\n",
    "\n",
    "### <font color=\"hotpink\">지도</font> 시각화\n",
    "\n",
    "#### 지도 시각화에 이용할 데이터 확인\n",
    "\n",
    "- 전체 데이터부터 확인해보자!"
   ]
  },
  {
   "cell_type": "code",
   "execution_count": 14,
   "metadata": {},
   "outputs": [
    {
     "data": {
      "text/html": [
       "<div>\n",
       "<style scoped>\n",
       "    .dataframe tbody tr th:only-of-type {\n",
       "        vertical-align: middle;\n",
       "    }\n",
       "\n",
       "    .dataframe tbody tr th {\n",
       "        vertical-align: top;\n",
       "    }\n",
       "\n",
       "    .dataframe thead th {\n",
       "        text-align: right;\n",
       "    }\n",
       "</style>\n",
       "<table border=\"1\" class=\"dataframe\">\n",
       "  <thead>\n",
       "    <tr style=\"text-align: right;\">\n",
       "      <th></th>\n",
       "      <th>id</th>\n",
       "      <th>date</th>\n",
       "      <th>bus_route_id</th>\n",
       "      <th>in_out</th>\n",
       "      <th>station_code</th>\n",
       "      <th>station_name</th>\n",
       "      <th>latitude</th>\n",
       "      <th>longitude</th>\n",
       "      <th>6~7_ride</th>\n",
       "      <th>7~8_ride</th>\n",
       "      <th>...</th>\n",
       "      <th>10~11_ride</th>\n",
       "      <th>11~12_ride</th>\n",
       "      <th>6~7_takeoff</th>\n",
       "      <th>7~8_takeoff</th>\n",
       "      <th>8~9_takeoff</th>\n",
       "      <th>9~10_takeoff</th>\n",
       "      <th>10~11_takeoff</th>\n",
       "      <th>11~12_takeoff</th>\n",
       "      <th>18~20_ride</th>\n",
       "      <th>weekday</th>\n",
       "    </tr>\n",
       "  </thead>\n",
       "  <tbody>\n",
       "    <tr>\n",
       "      <th>0</th>\n",
       "      <td>0</td>\n",
       "      <td>2019-09-01</td>\n",
       "      <td>4270000</td>\n",
       "      <td>1</td>\n",
       "      <td>344</td>\n",
       "      <td>제주썬호텔</td>\n",
       "      <td>33.48990</td>\n",
       "      <td>126.49373</td>\n",
       "      <td>0.0</td>\n",
       "      <td>1.0</td>\n",
       "      <td>...</td>\n",
       "      <td>2.0</td>\n",
       "      <td>6.0</td>\n",
       "      <td>0.0</td>\n",
       "      <td>0.0</td>\n",
       "      <td>0.0</td>\n",
       "      <td>0.0</td>\n",
       "      <td>0.0</td>\n",
       "      <td>0.0</td>\n",
       "      <td>0.0</td>\n",
       "      <td>6</td>\n",
       "    </tr>\n",
       "    <tr>\n",
       "      <th>1</th>\n",
       "      <td>1</td>\n",
       "      <td>2019-09-01</td>\n",
       "      <td>4270000</td>\n",
       "      <td>1</td>\n",
       "      <td>357</td>\n",
       "      <td>한라병원</td>\n",
       "      <td>33.48944</td>\n",
       "      <td>126.48508</td>\n",
       "      <td>1.0</td>\n",
       "      <td>4.0</td>\n",
       "      <td>...</td>\n",
       "      <td>5.0</td>\n",
       "      <td>6.0</td>\n",
       "      <td>0.0</td>\n",
       "      <td>0.0</td>\n",
       "      <td>0.0</td>\n",
       "      <td>0.0</td>\n",
       "      <td>0.0</td>\n",
       "      <td>0.0</td>\n",
       "      <td>5.0</td>\n",
       "      <td>6</td>\n",
       "    </tr>\n",
       "    <tr>\n",
       "      <th>2</th>\n",
       "      <td>2</td>\n",
       "      <td>2019-09-01</td>\n",
       "      <td>4270000</td>\n",
       "      <td>1</td>\n",
       "      <td>432</td>\n",
       "      <td>정존마을</td>\n",
       "      <td>33.48181</td>\n",
       "      <td>126.47352</td>\n",
       "      <td>1.0</td>\n",
       "      <td>1.0</td>\n",
       "      <td>...</td>\n",
       "      <td>0.0</td>\n",
       "      <td>0.0</td>\n",
       "      <td>0.0</td>\n",
       "      <td>0.0</td>\n",
       "      <td>0.0</td>\n",
       "      <td>0.0</td>\n",
       "      <td>0.0</td>\n",
       "      <td>0.0</td>\n",
       "      <td>2.0</td>\n",
       "      <td>6</td>\n",
       "    </tr>\n",
       "    <tr>\n",
       "      <th>3</th>\n",
       "      <td>3</td>\n",
       "      <td>2019-09-01</td>\n",
       "      <td>4270000</td>\n",
       "      <td>0</td>\n",
       "      <td>1579</td>\n",
       "      <td>제주국제공항(600번)</td>\n",
       "      <td>33.50577</td>\n",
       "      <td>126.49252</td>\n",
       "      <td>0.0</td>\n",
       "      <td>17.0</td>\n",
       "      <td>...</td>\n",
       "      <td>14.0</td>\n",
       "      <td>16.0</td>\n",
       "      <td>0.0</td>\n",
       "      <td>0.0</td>\n",
       "      <td>0.0</td>\n",
       "      <td>0.0</td>\n",
       "      <td>0.0</td>\n",
       "      <td>0.0</td>\n",
       "      <td>53.0</td>\n",
       "      <td>6</td>\n",
       "    </tr>\n",
       "    <tr>\n",
       "      <th>4</th>\n",
       "      <td>4</td>\n",
       "      <td>2019-09-01</td>\n",
       "      <td>4270000</td>\n",
       "      <td>0</td>\n",
       "      <td>1646</td>\n",
       "      <td>중문관광단지입구</td>\n",
       "      <td>33.25579</td>\n",
       "      <td>126.41260</td>\n",
       "      <td>0.0</td>\n",
       "      <td>0.0</td>\n",
       "      <td>...</td>\n",
       "      <td>0.0</td>\n",
       "      <td>0.0</td>\n",
       "      <td>0.0</td>\n",
       "      <td>0.0</td>\n",
       "      <td>0.0</td>\n",
       "      <td>1.0</td>\n",
       "      <td>0.0</td>\n",
       "      <td>0.0</td>\n",
       "      <td>0.0</td>\n",
       "      <td>6</td>\n",
       "    </tr>\n",
       "  </tbody>\n",
       "</table>\n",
       "<p>5 rows × 22 columns</p>\n",
       "</div>"
      ],
      "text/plain": [
       "   id       date  bus_route_id  in_out  station_code  station_name  latitude  \\\n",
       "0   0 2019-09-01       4270000       1           344         제주썬호텔  33.48990   \n",
       "1   1 2019-09-01       4270000       1           357          한라병원  33.48944   \n",
       "2   2 2019-09-01       4270000       1           432          정존마을  33.48181   \n",
       "3   3 2019-09-01       4270000       0          1579  제주국제공항(600번)  33.50577   \n",
       "4   4 2019-09-01       4270000       0          1646      중문관광단지입구  33.25579   \n",
       "\n",
       "   longitude  6~7_ride  7~8_ride  ...  10~11_ride  11~12_ride  6~7_takeoff  \\\n",
       "0  126.49373       0.0       1.0  ...         2.0         6.0          0.0   \n",
       "1  126.48508       1.0       4.0  ...         5.0         6.0          0.0   \n",
       "2  126.47352       1.0       1.0  ...         0.0         0.0          0.0   \n",
       "3  126.49252       0.0      17.0  ...        14.0        16.0          0.0   \n",
       "4  126.41260       0.0       0.0  ...         0.0         0.0          0.0   \n",
       "\n",
       "   7~8_takeoff  8~9_takeoff  9~10_takeoff  10~11_takeoff  11~12_takeoff  \\\n",
       "0          0.0          0.0           0.0            0.0            0.0   \n",
       "1          0.0          0.0           0.0            0.0            0.0   \n",
       "2          0.0          0.0           0.0            0.0            0.0   \n",
       "3          0.0          0.0           0.0            0.0            0.0   \n",
       "4          0.0          0.0           1.0            0.0            0.0   \n",
       "\n",
       "   18~20_ride  weekday  \n",
       "0         0.0        6  \n",
       "1         5.0        6  \n",
       "2         2.0        6  \n",
       "3        53.0        6  \n",
       "4         0.0        6  \n",
       "\n",
       "[5 rows x 22 columns]"
      ]
     },
     "execution_count": 14,
     "metadata": {},
     "output_type": "execute_result"
    }
   ],
   "source": [
    "data.head()"
   ]
  },
  {
   "cell_type": "markdown",
   "metadata": {},
   "source": [
    "### <font color=\"orange\">지도 시각화 기본</font>_정류장의 위치를 나타내보자!\n",
    "\n",
    "- 위도와 경도, 정류장 이름을 가져오자 !"
   ]
  },
  {
   "cell_type": "code",
   "execution_count": 15,
   "metadata": {},
   "outputs": [
    {
     "data": {
      "text/html": [
       "<div>\n",
       "<style scoped>\n",
       "    .dataframe tbody tr th:only-of-type {\n",
       "        vertical-align: middle;\n",
       "    }\n",
       "\n",
       "    .dataframe tbody tr th {\n",
       "        vertical-align: top;\n",
       "    }\n",
       "\n",
       "    .dataframe thead th {\n",
       "        text-align: right;\n",
       "    }\n",
       "</style>\n",
       "<table border=\"1\" class=\"dataframe\">\n",
       "  <thead>\n",
       "    <tr style=\"text-align: right;\">\n",
       "      <th></th>\n",
       "      <th>station_name</th>\n",
       "      <th>latitude</th>\n",
       "      <th>longitude</th>\n",
       "    </tr>\n",
       "  </thead>\n",
       "  <tbody>\n",
       "    <tr>\n",
       "      <th>0</th>\n",
       "      <td>제주썬호텔</td>\n",
       "      <td>33.48990</td>\n",
       "      <td>126.49373</td>\n",
       "    </tr>\n",
       "    <tr>\n",
       "      <th>1</th>\n",
       "      <td>한라병원</td>\n",
       "      <td>33.48944</td>\n",
       "      <td>126.48508</td>\n",
       "    </tr>\n",
       "    <tr>\n",
       "      <th>2</th>\n",
       "      <td>정존마을</td>\n",
       "      <td>33.48181</td>\n",
       "      <td>126.47352</td>\n",
       "    </tr>\n",
       "    <tr>\n",
       "      <th>3</th>\n",
       "      <td>제주국제공항(600번)</td>\n",
       "      <td>33.50577</td>\n",
       "      <td>126.49252</td>\n",
       "    </tr>\n",
       "    <tr>\n",
       "      <th>4</th>\n",
       "      <td>중문관광단지입구</td>\n",
       "      <td>33.25579</td>\n",
       "      <td>126.41260</td>\n",
       "    </tr>\n",
       "  </tbody>\n",
       "</table>\n",
       "</div>"
      ],
      "text/plain": [
       "   station_name  latitude  longitude\n",
       "0         제주썬호텔  33.48990  126.49373\n",
       "1          한라병원  33.48944  126.48508\n",
       "2          정존마을  33.48181  126.47352\n",
       "3  제주국제공항(600번)  33.50577  126.49252\n",
       "4      중문관광단지입구  33.25579  126.41260"
      ]
     },
     "execution_count": 15,
     "metadata": {},
     "output_type": "execute_result"
    }
   ],
   "source": [
    "addr2 = data[['station_name','latitude','longitude']] # 정류장 이름, 위도, 경도 뽑아내기\n",
    "addr2 = addr2.drop_duplicates() # 위치 정보가 중복될 수 있으므로 중복 행 제거\n",
    "addr2.head()"
   ]
  },
  {
   "cell_type": "markdown",
   "metadata": {},
   "source": [
    "- 데이터 양이 너무 많으면 지도 시각화 하기가 힘들기 때문에 특정 위치 정보를 추출하자 !"
   ]
  },
  {
   "cell_type": "code",
   "execution_count": 16,
   "metadata": {},
   "outputs": [],
   "source": [
    "addr2_front = addr2.sort_values(by=['latitude'], axis=0).head(10)\n",
    "addr2_tail = addr2.sort_values(by=['latitude'], axis=0).tail(10)"
   ]
  },
  {
   "cell_type": "markdown",
   "metadata": {},
   "source": [
    "- folium.Marker 함수를 이용하자 !"
   ]
  },
  {
   "cell_type": "code",
   "execution_count": 17,
   "metadata": {},
   "outputs": [
    {
     "data": {
      "text/plain": [
       "latitude      33.213454\n",
       "longitude    126.268891\n",
       "dtype: float64"
      ]
     },
     "execution_count": 17,
     "metadata": {},
     "output_type": "execute_result"
    }
   ],
   "source": [
    "addr2_front[['latitude','longitude']].mean()"
   ]
  },
  {
   "cell_type": "code",
   "execution_count": 18,
   "metadata": {},
   "outputs": [
    {
     "data": {
      "text/plain": [
       "latitude      33.962469\n",
       "longitude    126.295546\n",
       "dtype: float64"
      ]
     },
     "execution_count": 18,
     "metadata": {},
     "output_type": "execute_result"
    }
   ],
   "source": [
    "addr2_tail[['latitude','longitude']].mean()"
   ]
  },
  {
   "cell_type": "markdown",
   "metadata": {},
   "source": [
    "#### addr2_front부터 이용하자 !\n",
    "- addr2_front의 위/경도 평균으로 초기 지도 객체를 생성해주도록 하겠다 !"
   ]
  },
  {
   "cell_type": "code",
   "execution_count": 19,
   "metadata": {},
   "outputs": [
    {
     "data": {
      "text/html": [
       "<div style=\"width:100%;\"><div style=\"position:relative;width:100%;height:0;padding-bottom:60%;\"><iframe src=\"data:text/html;charset=utf-8;base64,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\" style=\"position:absolute;width:100%;height:100%;left:0;top:0;border:none !important;\" allowfullscreen webkitallowfullscreen mozallowfullscreen></iframe></div></div>"
      ],
      "text/plain": [
       "<folium.folium.Map at 0x1c4011c4160>"
      ]
     },
     "execution_count": 19,
     "metadata": {},
     "output_type": "execute_result"
    }
   ],
   "source": [
    "# 초기 지도 객체 생성\n",
    "map_osm = folium.Map(location=[33.2134, 126.2688], zoom_start = 12)\n",
    "map_osm"
   ]
  },
  {
   "cell_type": "markdown",
   "metadata": {},
   "source": [
    "- 이제 정류장의 위치를 표시해보자 !\n",
    "- 아이콘은 구름으로 설정해보자 !"
   ]
  },
  {
   "cell_type": "code",
   "execution_count": 20,
   "metadata": {},
   "outputs": [
    {
     "data": {
      "text/html": [
       "<div style=\"width:100%;\"><div style=\"position:relative;width:100%;height:0;padding-bottom:60%;\"><iframe src=\"data:text/html;charset=utf-8;base64,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\" style=\"position:absolute;width:100%;height:100%;left:0;top:0;border:none !important;\" allowfullscreen webkitallowfullscreen mozallowfullscreen></iframe></div></div>"
      ],
      "text/plain": [
       "<folium.folium.Map at 0x1c4011c4160>"
      ]
     },
     "execution_count": 20,
     "metadata": {},
     "output_type": "execute_result"
    }
   ],
   "source": [
    "for item in addr2_front.index:\n",
    "    lat = addr2_front.loc[item, 'latitude']\n",
    "    long = addr2_front.loc[item, 'longitude']\n",
    "    folium.Marker([lat, long], #위도 경도\n",
    "        popup = addr2_front.loc[item,'station_name'],\n",
    "        icon=folium.Icon(icon='cloud')\n",
    "    ).add_to(map_osm)\n",
    "map_osm"
   ]
  },
  {
   "cell_type": "markdown",
   "metadata": {},
   "source": [
    "#### addr2_tail도 이용하자 !\n",
    "\n",
    "- addr2_tail의 위/경도 평균으로 초기 지도 객체를 생성해주도록 하겠다 !\n",
    "- 테마도 한번 바꿔볼까?"
   ]
  },
  {
   "cell_type": "code",
   "execution_count": 21,
   "metadata": {},
   "outputs": [
    {
     "data": {
      "text/html": [
       "<div style=\"width:100%;\"><div style=\"position:relative;width:100%;height:0;padding-bottom:60%;\"><iframe src=\"data:text/html;charset=utf-8;base64,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\" style=\"position:absolute;width:100%;height:100%;left:0;top:0;border:none !important;\" allowfullscreen webkitallowfullscreen mozallowfullscreen></iframe></div></div>"
      ],
      "text/plain": [
       "<folium.folium.Map at 0x1c4011d5898>"
      ]
     },
     "execution_count": 21,
     "metadata": {},
     "output_type": "execute_result"
    }
   ],
   "source": [
    "# 초기 지도 객체 생성\n",
    "map_osm = folium.Map(location=[33.9624, 126.2955], tiles='Stamen Toner', zoom_start = 15)\n",
    "map_osm"
   ]
  },
  {
   "cell_type": "markdown",
   "metadata": {},
   "source": [
    "- 이번에는 새로운 아이콘을 적용해보자 !"
   ]
  },
  {
   "cell_type": "code",
   "execution_count": 22,
   "metadata": {},
   "outputs": [
    {
     "data": {
      "text/html": [
       "<div style=\"width:100%;\"><div style=\"position:relative;width:100%;height:0;padding-bottom:60%;\"><iframe src=\"data:text/html;charset=utf-8;base64,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\" style=\"position:absolute;width:100%;height:100%;left:0;top:0;border:none !important;\" allowfullscreen webkitallowfullscreen mozallowfullscreen></iframe></div></div>"
      ],
      "text/plain": [
       "<folium.folium.Map at 0x1c4011d5898>"
      ]
     },
     "execution_count": 22,
     "metadata": {},
     "output_type": "execute_result"
    }
   ],
   "source": [
    "for item in addr2_tail.index:\n",
    "    lat = addr2_tail.loc[item, 'latitude']\n",
    "    long = addr2_tail.loc[item, 'longitude']\n",
    "    folium.Marker([lat, long], #위도 경도\n",
    "        popup = addr2_tail.loc[item,'station_name'],\n",
    "        icon=folium.Icon(color='red',icon='info-sign')\n",
    "    ).add_to(map_osm)\n",
    "map_osm"
   ]
  },
  {
   "cell_type": "markdown",
   "metadata": {},
   "source": [
    "- 색은 바꿀 수 있고, 아이콘은 i라고 뜬다 !\n",
    "- tiles 옵션을 통해 지도가 보여지는 이미지도 바꿨다 !\n",
    "- 각 아이콘 누르면 정류장 이름이 뜬다 !"
   ]
  },
  {
   "cell_type": "markdown",
   "metadata": {},
   "source": [
    "### <font color=\"orange\">지도 시각화 심화</font>_특정 값과 연계하여 위치 시각화를 해보자 !\n",
    "\n",
    "- 지도 시각화를 하기 위해 필요한 데이터는 위도와 경도 !\n",
    "- 전체 데이터에서 station_code (정류장 코드)와 latitude, longitude (위도/경도) 변수를 뽑아내자! "
   ]
  },
  {
   "cell_type": "code",
   "execution_count": 23,
   "metadata": {},
   "outputs": [
    {
     "data": {
      "text/html": [
       "<div>\n",
       "<style scoped>\n",
       "    .dataframe tbody tr th:only-of-type {\n",
       "        vertical-align: middle;\n",
       "    }\n",
       "\n",
       "    .dataframe tbody tr th {\n",
       "        vertical-align: top;\n",
       "    }\n",
       "\n",
       "    .dataframe thead th {\n",
       "        text-align: right;\n",
       "    }\n",
       "</style>\n",
       "<table border=\"1\" class=\"dataframe\">\n",
       "  <thead>\n",
       "    <tr style=\"text-align: right;\">\n",
       "      <th></th>\n",
       "      <th>station_code</th>\n",
       "      <th>latitude</th>\n",
       "      <th>longitude</th>\n",
       "    </tr>\n",
       "  </thead>\n",
       "  <tbody>\n",
       "    <tr>\n",
       "      <th>0</th>\n",
       "      <td>344</td>\n",
       "      <td>33.48990</td>\n",
       "      <td>126.49373</td>\n",
       "    </tr>\n",
       "    <tr>\n",
       "      <th>1</th>\n",
       "      <td>357</td>\n",
       "      <td>33.48944</td>\n",
       "      <td>126.48508</td>\n",
       "    </tr>\n",
       "    <tr>\n",
       "      <th>2</th>\n",
       "      <td>432</td>\n",
       "      <td>33.48181</td>\n",
       "      <td>126.47352</td>\n",
       "    </tr>\n",
       "    <tr>\n",
       "      <th>3</th>\n",
       "      <td>1579</td>\n",
       "      <td>33.50577</td>\n",
       "      <td>126.49252</td>\n",
       "    </tr>\n",
       "    <tr>\n",
       "      <th>4</th>\n",
       "      <td>1646</td>\n",
       "      <td>33.25579</td>\n",
       "      <td>126.41260</td>\n",
       "    </tr>\n",
       "  </tbody>\n",
       "</table>\n",
       "</div>"
      ],
      "text/plain": [
       "   station_code  latitude  longitude\n",
       "0           344  33.48990  126.49373\n",
       "1           357  33.48944  126.48508\n",
       "2           432  33.48181  126.47352\n",
       "3          1579  33.50577  126.49252\n",
       "4          1646  33.25579  126.41260"
      ]
     },
     "execution_count": 23,
     "metadata": {},
     "output_type": "execute_result"
    }
   ],
   "source": [
    "addr = data[['station_code','latitude','longitude']] # 정류장 코드, 위도, 경도 뽑아내기\n",
    "addr = addr.drop_duplicates() # 위치 정보가 중복될 수 있으므로 중복 행 제거\n",
    "addr.head()"
   ]
  },
  {
   "cell_type": "code",
   "execution_count": 24,
   "metadata": {},
   "outputs": [
    {
     "data": {
      "text/html": [
       "<div>\n",
       "<style scoped>\n",
       "    .dataframe tbody tr th:only-of-type {\n",
       "        vertical-align: middle;\n",
       "    }\n",
       "\n",
       "    .dataframe tbody tr th {\n",
       "        vertical-align: top;\n",
       "    }\n",
       "\n",
       "    .dataframe thead th {\n",
       "        text-align: right;\n",
       "    }\n",
       "</style>\n",
       "<table border=\"1\" class=\"dataframe\">\n",
       "  <thead>\n",
       "    <tr style=\"text-align: right;\">\n",
       "      <th></th>\n",
       "      <th>station_code</th>\n",
       "      <th>ppl_sum</th>\n",
       "    </tr>\n",
       "  </thead>\n",
       "  <tbody>\n",
       "    <tr>\n",
       "      <th>0</th>\n",
       "      <td>1</td>\n",
       "      <td>263.0</td>\n",
       "    </tr>\n",
       "    <tr>\n",
       "      <th>1</th>\n",
       "      <td>2</td>\n",
       "      <td>237.0</td>\n",
       "    </tr>\n",
       "    <tr>\n",
       "      <th>2</th>\n",
       "      <td>3</td>\n",
       "      <td>28.0</td>\n",
       "    </tr>\n",
       "    <tr>\n",
       "      <th>3</th>\n",
       "      <td>4</td>\n",
       "      <td>457.0</td>\n",
       "    </tr>\n",
       "    <tr>\n",
       "      <th>4</th>\n",
       "      <td>5</td>\n",
       "      <td>168.0</td>\n",
       "    </tr>\n",
       "  </tbody>\n",
       "</table>\n",
       "</div>"
      ],
      "text/plain": [
       "   station_code  ppl_sum\n",
       "0             1    263.0\n",
       "1             2    237.0\n",
       "2             3     28.0\n",
       "3             4    457.0\n",
       "4             5    168.0"
      ]
     },
     "execution_count": 24,
     "metadata": {},
     "output_type": "execute_result"
    }
   ],
   "source": [
    "ppl = data.groupby(['station_code'], as_index=False).sum() #station_name으로 그룹화하여 sum()을 통해 더해준 변수 ppl에 저장\n",
    "ppl = ppl[['station_code','8~9_ride','8~9_takeoff']] #ppl에서 8~9시 승하차 데이터 뽑아낸다 !\n",
    "\n",
    "ppl['ppl_sum'] = ppl['8~9_ride']+ppl['8~9_takeoff'] # 승하차 인원 더해준 값 ppl에 지정\n",
    "ppl = ppl[['station_code','ppl_sum']] # 정류장 이름과 총 승하차 인원만 뽑아줌\n",
    "\n",
    "ppl.head()"
   ]
  },
  {
   "cell_type": "markdown",
   "metadata": {},
   "source": [
    "- 그렇다면 어떤 데이터를 시각화해볼까?\n",
    "- 8~9 시간대의 각 정류장 별 승/하차 인원을 지도에 보여줘볼까?\n",
    "- 그렇다면 8~9 시간대의 각 정류장 별 승/하차 인원의 정보를 알기 위해 데이터를 처리해야해!\n",
    "\n",
    "- 이제 위도, 경도, 정류장 이름, 총 승하차 인원 정보가 담긴 데이터들을 합쳐주자 !\n",
    "- pandas에 내장되어 있는 merge 함수를 이용해주면 된다 !"
   ]
  },
  {
   "cell_type": "code",
   "execution_count": 25,
   "metadata": {},
   "outputs": [
    {
     "data": {
      "text/html": [
       "<div>\n",
       "<style scoped>\n",
       "    .dataframe tbody tr th:only-of-type {\n",
       "        vertical-align: middle;\n",
       "    }\n",
       "\n",
       "    .dataframe tbody tr th {\n",
       "        vertical-align: top;\n",
       "    }\n",
       "\n",
       "    .dataframe thead th {\n",
       "        text-align: right;\n",
       "    }\n",
       "</style>\n",
       "<table border=\"1\" class=\"dataframe\">\n",
       "  <thead>\n",
       "    <tr style=\"text-align: right;\">\n",
       "      <th></th>\n",
       "      <th>station_code</th>\n",
       "      <th>ppl_sum</th>\n",
       "      <th>latitude</th>\n",
       "      <th>longitude</th>\n",
       "    </tr>\n",
       "  </thead>\n",
       "  <tbody>\n",
       "    <tr>\n",
       "      <th>3533</th>\n",
       "      <td>6115019</td>\n",
       "      <td>4.0</td>\n",
       "      <td>33.94561</td>\n",
       "      <td>126.32767</td>\n",
       "    </tr>\n",
       "    <tr>\n",
       "      <th>3534</th>\n",
       "      <td>6115020</td>\n",
       "      <td>6.0</td>\n",
       "      <td>33.94603</td>\n",
       "      <td>126.32886</td>\n",
       "    </tr>\n",
       "    <tr>\n",
       "      <th>3535</th>\n",
       "      <td>6115023</td>\n",
       "      <td>0.0</td>\n",
       "      <td>33.95359</td>\n",
       "      <td>126.33134</td>\n",
       "    </tr>\n",
       "    <tr>\n",
       "      <th>3536</th>\n",
       "      <td>6115024</td>\n",
       "      <td>56.0</td>\n",
       "      <td>33.95134</td>\n",
       "      <td>126.32771</td>\n",
       "    </tr>\n",
       "    <tr>\n",
       "      <th>3537</th>\n",
       "      <td>6115025</td>\n",
       "      <td>0.0</td>\n",
       "      <td>33.94864</td>\n",
       "      <td>126.33099</td>\n",
       "    </tr>\n",
       "  </tbody>\n",
       "</table>\n",
       "</div>"
      ],
      "text/plain": [
       "      station_code  ppl_sum  latitude  longitude\n",
       "3533       6115019      4.0  33.94561  126.32767\n",
       "3534       6115020      6.0  33.94603  126.32886\n",
       "3535       6115023      0.0  33.95359  126.33134\n",
       "3536       6115024     56.0  33.95134  126.32771\n",
       "3537       6115025      0.0  33.94864  126.33099"
      ]
     },
     "execution_count": 25,
     "metadata": {},
     "output_type": "execute_result"
    }
   ],
   "source": [
    "map_info = pd.merge(ppl, addr, how='inner') # inner join은 교집합 의미 !\n",
    "map_info.head()\n",
    "\n",
    "# 지도에 표시하기엔 데이터 양 많으니 station_code 상위 30개만 뽑아보자!\n",
    "map_front = map_info.head(30)\n",
    "map_front.head()\n",
    "\n",
    "# 이번엔 하위!\n",
    "map_tail = map_info.tail(30)\n",
    "map_tail.head()"
   ]
  },
  {
   "cell_type": "markdown",
   "metadata": {},
   "source": [
    "- 우와! 정류장 코드와 총 승하차 인원, 위도/경도만 나타내는 데이터프레임이 만들어졌다 !"
   ]
  },
  {
   "cell_type": "markdown",
   "metadata": {},
   "source": [
    "#### 본격적 지도 시각화 시작 !\n",
    "\n",
    "- 가장 먼저 처음에 로딩할 지도 객체를 생성해준다 !\n",
    "- folium.Map 함수 이용 !\n",
    "\n",
    "- 초기 지도 객체 생성해줄 때 초기 위도, 경도 값 필요하므로 일단 가지고 있는 데이터의 위도와 경도 평균으로 해주자 !\n",
    "- 아까 만들어놓은 map_info 사용 !"
   ]
  },
  {
   "cell_type": "code",
   "execution_count": 26,
   "metadata": {},
   "outputs": [
    {
     "data": {
      "text/plain": [
       "latitude      33.396730\n",
       "longitude    126.532185\n",
       "dtype: float64"
      ]
     },
     "execution_count": 26,
     "metadata": {},
     "output_type": "execute_result"
    }
   ],
   "source": [
    "map_info[['latitude','longitude']].mean()"
   ]
  },
  {
   "cell_type": "code",
   "execution_count": 27,
   "metadata": {},
   "outputs": [
    {
     "data": {
      "text/html": [
       "<div style=\"width:100%;\"><div style=\"position:relative;width:100%;height:0;padding-bottom:60%;\"><iframe src=\"data:text/html;charset=utf-8;base64,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\" style=\"position:absolute;width:100%;height:100%;left:0;top:0;border:none !important;\" allowfullscreen webkitallowfullscreen mozallowfullscreen></iframe></div></div>"
      ],
      "text/plain": [
       "<folium.folium.Map at 0x1c4004f2ef0>"
      ]
     },
     "execution_count": 27,
     "metadata": {},
     "output_type": "execute_result"
    }
   ],
   "source": [
    "# 초기 지도 객체 생성\n",
    "map_osm = folium.Map(location=[33.3967, 126.5321], zoom_start = 11)\n",
    "map_osm"
   ]
  },
  {
   "cell_type": "markdown",
   "metadata": {},
   "source": [
    "- 오 ~ 제주도의 거의 대부분이 나왔군 !"
   ]
  },
  {
   "cell_type": "code",
   "execution_count": 28,
   "metadata": {
    "scrolled": true
   },
   "outputs": [
    {
     "data": {
      "text/html": [
       "<div style=\"width:100%;\"><div style=\"position:relative;width:100%;height:0;padding-bottom:60%;\"><iframe src=\"data:text/html;charset=utf-8;base64,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\" style=\"position:absolute;width:100%;height:100%;left:0;top:0;border:none !important;\" allowfullscreen webkitallowfullscreen mozallowfullscreen></iframe></div></div>"
      ],
      "text/plain": [
       "<folium.folium.Map at 0x1c4004f2ef0>"
      ]
     },
     "execution_count": 28,
     "metadata": {},
     "output_type": "execute_result"
    }
   ],
   "source": [
    "for item in map_front.index:\n",
    "    lat = map_front.loc[item, 'latitude']\n",
    "    long = map_front.loc[item, 'longitude']\n",
    "    folium.CircleMarker([lat, long], #위도 경도\n",
    "        radius = map_front.loc[item,'ppl_sum']/100,\n",
    "        popup = map_front.loc[item,'station_code'],\n",
    "        color = \"green\",\n",
    "        fill = True\n",
    "    ).add_to(map_osm)\n",
    "    \n",
    "map_osm"
   ]
  },
  {
   "cell_type": "markdown",
   "metadata": {},
   "source": [
    "- 상위 30개가 지도에 표시되었고, 원은 총 승하차 인원을 의미한다 !"
   ]
  },
  {
   "cell_type": "code",
   "execution_count": 29,
   "metadata": {},
   "outputs": [
    {
     "data": {
      "text/html": [
       "<div style=\"width:100%;\"><div style=\"position:relative;width:100%;height:0;padding-bottom:60%;\"><iframe src=\"data:text/html;charset=utf-8;base64,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\" style=\"position:absolute;width:100%;height:100%;left:0;top:0;border:none !important;\" allowfullscreen webkitallowfullscreen mozallowfullscreen></iframe></div></div>"
      ],
      "text/plain": [
       "<folium.folium.Map at 0x1c4004f2ef0>"
      ]
     },
     "execution_count": 29,
     "metadata": {},
     "output_type": "execute_result"
    }
   ],
   "source": [
    "for item in map_tail.index:\n",
    "    lat = map_tail.loc[item, 'latitude']\n",
    "    long = map_tail.loc[item, 'longitude']\n",
    "    folium.CircleMarker([lat, long], #위도 경도\n",
    "        radius = map_tail.loc[item,'ppl_sum']/100,\n",
    "        popup = map_tail.loc[item,'station_code'],\n",
    "        color = \"green\",\n",
    "        fill = True\n",
    "    ).add_to(map_osm)\n",
    "    \n",
    "map_osm"
   ]
  },
  {
   "cell_type": "markdown",
   "metadata": {},
   "source": [
    "- 하위 30개의 버스정류장은 초록색으로 표시되었는데, 이는 서귀포시쪽에 있는 것을 지도를 통해 알 수 있다 !\n",
    "- 원을 클릭하면 정류장 코드를 알 수 있다 !"
   ]
  }
 ],
 "metadata": {
  "kernelspec": {
   "display_name": "Python 3",
   "language": "python",
   "name": "python3"
  },
  "language_info": {
   "codemirror_mode": {
    "name": "ipython",
    "version": 3
   },
   "file_extension": ".py",
   "mimetype": "text/x-python",
   "name": "python",
   "nbconvert_exporter": "python",
   "pygments_lexer": "ipython3",
   "version": "3.7.3"
  }
 },
 "nbformat": 4,
 "nbformat_minor": 2
}
