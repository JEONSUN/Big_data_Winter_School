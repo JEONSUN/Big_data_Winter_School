{
 "cells": [
  {
   "cell_type": "markdown",
   "metadata": {},
   "source": [
    "# DACON 데이터 사이언스 \n",
    "\n",
    ">##  1st Week \n",
    "    >##  1단계 파이썬 기초"
   ]
  },
  {
   "cell_type": "markdown",
   "metadata": {},
   "source": [
    "## I. 아나콘다 & 주피터 "
   ]
  },
  {
   "cell_type": "markdown",
   "metadata": {},
   "source": [
    "파이썬 파일 생성\n",
    "- 파일을 생성할 땐 언제나 **Rename**하는 습관!"
   ]
  },
  {
   "cell_type": "markdown",
   "metadata": {},
   "source": [
    "### **자주 쓰는 단축키**"
   ]
  },
  {
   "cell_type": "markdown",
   "metadata": {},
   "source": [
    "코드실행\n",
    "- **`Ctrl + Enter`** : 선택한 셀을 실행합니다.\n",
    "- **`Shift + Enter`** : 선택한 셀을 실행하고 다음 셀로 넘어갑니다. 만약 다음 셀이 없을 경우 셀을 생성합니다.\n",
    "- 여러 셀을 선택하고 한꺼번에 구동할 수도 있습니다."
   ]
  },
  {
   "cell_type": "markdown",
   "metadata": {},
   "source": [
    "셀 추가\n",
    "- **`A`** : 새로운 셀을 선택한 셀 위에 추가합니다.\n",
    "- **`B`** : 새로운 셀을 선택한 셀 아래에 추가합니다."
   ]
  },
  {
   "cell_type": "markdown",
   "metadata": {},
   "source": [
    "셀 속성 변경\n",
    "- **`Y`** : 선택한 셀을 Code입력모드로\n",
    "- **`M`** : 선택한 셀을 마크다운(Markdown)입력모드로\n",
    "- 마크다운 문법 참고 링크: https://gist.github.com/ihoneymon/652be052a0727ad59601"
   ]
  },
  {
   "cell_type": "markdown",
   "metadata": {},
   "source": [
    "셀 복사/붙여넣기 & 삭제하기/되돌리기\n",
    "- **`X`** : 선택한 셀을 잘라내기\n",
    "- **`C`** : 선택한 셀을 복사하기\n",
    "- **`V`** : 복사한 셀을 선택한 셀 아래에 붙여넣기\n",
    "- **`D,D`** : 선택한 셀을 삭제하기\n",
    "- **`Z`** : 시행 되돌리기"
   ]
  },
  {
   "cell_type": "markdown",
   "metadata": {},
   "source": [
    "기타\n",
    "- **`Ctrl + B`** : 디렉토리창 숨기기/보이기\n",
    "- 함수에 커서를 두고 **`Shift + Tab`** : 함수 설명 보기(파라미터 확인할 때 좋습니다)\n",
    "- **`Settings`** :  \n",
    "`JupyterLab Theme`- 테마변경, `Advanced Setting Editer` - 기타 설정 변경 가능\n",
    "- **`Help`**: 각종 Reference들(Python, Numpy, Matplotlib, Pandas 등등)을 확인할 수 있습니다"
   ]
  },
  {
   "cell_type": "markdown",
   "metadata": {},
   "source": [
    "#### 들어가기 앞서  `파이썬의 도.. ` "
   ]
  },
  {
   "cell_type": "code",
   "execution_count": 10,
   "metadata": {
    "scrolled": true
   },
   "outputs": [
    {
     "name": "stdout",
     "output_type": "stream",
     "text": [
      "The Zen of Python, by Tim Peters\n",
      "\n",
      "Beautiful is better than ugly.\n",
      "Explicit is better than implicit.\n",
      "Simple is better than complex.\n",
      "Complex is better than complicated.\n",
      "Flat is better than nested.\n",
      "Sparse is better than dense.\n",
      "Readability counts.\n",
      "Special cases aren't special enough to break the rules.\n",
      "Although practicality beats purity.\n",
      "Errors should never pass silently.\n",
      "Unless explicitly silenced.\n",
      "In the face of ambiguity, refuse the temptation to guess.\n",
      "There should be one-- and preferably only one --obvious way to do it.\n",
      "Although that way may not be obvious at first unless you're Dutch.\n",
      "Now is better than never.\n",
      "Although never is often better than *right* now.\n",
      "If the implementation is hard to explain, it's a bad idea.\n",
      "If the implementation is easy to explain, it may be a good idea.\n",
      "Namespaces are one honking great idea -- let's do more of those!\n"
     ]
    }
   ],
   "source": [
    "import this"
   ]
  },
  {
   "cell_type": "markdown",
   "metadata": {},
   "source": [
    "중요한 것은 파이썬은 단순함과 가독성을 중시 한다는 것 그 한가지"
   ]
  },
  {
   "cell_type": "markdown",
   "metadata": {},
   "source": [
    "## Ⅱ. 파이썬 기본 문법\n",
    " \n",
    "### 01. 기초 자료형\n",
    "### 02. 사칙연산"
   ]
  },
  {
   "cell_type": "markdown",
   "metadata": {},
   "source": [
    "--------------"
   ]
  },
  {
   "cell_type": "markdown",
   "metadata": {},
   "source": [
    "> ### 숫자 자료형\n",
    "+ 정수형\n",
    "Integer\n",
    "+ 실수형\n",
    "Float\n",
    "+ 8진법 16진법 \n",
    "Octal , Hexadecimal"
   ]
  },
  {
   "cell_type": "markdown",
   "metadata": {},
   "source": [
    "#### 정수형\n",
    "양수 , 음수 , 0 의 정수형 자료"
   ]
  },
  {
   "cell_type": "code",
   "execution_count": 10,
   "metadata": {
    "scrolled": false
   },
   "outputs": [
    {
     "data": {
      "text/plain": [
       "int"
      ]
     },
     "execution_count": 10,
     "metadata": {},
     "output_type": "execute_result"
    }
   ],
   "source": [
    "type(112)  # 자료형의 타입을 알려주는 type 함수   "
   ]
  },
  {
   "cell_type": "code",
   "execution_count": 11,
   "metadata": {},
   "outputs": [
    {
     "name": "stdout",
     "output_type": "stream",
     "text": [
      "<class 'int'>\n",
      "<class 'int'>\n",
      "<class 'int'>\n"
     ]
    }
   ],
   "source": [
    "# 결과값을 출력해주는 print 함수를 통해 양수 음수 0 의 자료 Type 을 알아 봅시다 \n",
    "\n",
    "print( type(119) )\n",
    "\n",
    "print( type(-112) )\n",
    "\n",
    "print( type(0) ) #왜 print를 사용해야 될까요?"
   ]
  },
  {
   "cell_type": "markdown",
   "metadata": {},
   "source": [
    "#### 실수형\n",
    "소수점이 포함되 숫자 "
   ]
  },
  {
   "cell_type": "code",
   "execution_count": 16,
   "metadata": {},
   "outputs": [
    {
     "name": "stdout",
     "output_type": "stream",
     "text": [
      "<class 'float'>\n",
      "<class 'float'>\n",
      "<class 'float'>\n"
     ]
    }
   ],
   "source": [
    "print( type (1.19) )\n",
    "\n",
    "print( type( -0.12))\n",
    "\n",
    "print( type(-0.0))"
   ]
  },
  {
   "cell_type": "markdown",
   "metadata": {},
   "source": [
    "### 숫자형 자료 사칙연산"
   ]
  },
  {
   "cell_type": "markdown",
   "metadata": {},
   "source": [
    "+ 더하기 빼기"
   ]
  },
  {
   "cell_type": "code",
   "execution_count": 30,
   "metadata": {},
   "outputs": [
    {
     "name": "stdout",
     "output_type": "stream",
     "text": [
      "16\n",
      "<class 'int'>\n"
     ]
    }
   ],
   "source": [
    "a = 11 # a 변수에 11 저장 \n",
    "b = 5  # b 변수에 5 저장 \n",
    "\n",
    "print(a+b)\n",
    "\n",
    "print( type(a+b) )"
   ]
  },
  {
   "cell_type": "code",
   "execution_count": 29,
   "metadata": {},
   "outputs": [
    {
     "name": "stdout",
     "output_type": "stream",
     "text": [
      "5.0\n",
      "<class 'float'>\n"
     ]
    }
   ],
   "source": [
    "c = 6.0\n",
    "\n",
    "print(a-c)\n",
    "\n",
    "print( type(a-c))  # float ,형을 이용하여 사칙연산 시행시 float 으로 변환"
   ]
  },
  {
   "cell_type": "markdown",
   "metadata": {},
   "source": [
    "+ 곱하기 나누기 제곱"
   ]
  },
  {
   "cell_type": "code",
   "execution_count": 35,
   "metadata": {},
   "outputs": [
    {
     "name": "stdout",
     "output_type": "stream",
     "text": [
      "30\n",
      "3.3333333333333335\n",
      "1000\n"
     ]
    }
   ],
   "source": [
    "a = 10\n",
    "b = 3\n",
    "\n",
    "print(a * b)   #곱하기\n",
    "\n",
    "print(a / b)   #나누기\n",
    "\n",
    "print( a ** b) # 제곱 "
   ]
  },
  {
   "cell_type": "markdown",
   "metadata": {},
   "source": [
    "+ etc"
   ]
  },
  {
   "cell_type": "code",
   "execution_count": 38,
   "metadata": {
    "scrolled": true
   },
   "outputs": [
    {
     "name": "stdout",
     "output_type": "stream",
     "text": [
      "3\n",
      "1\n"
     ]
    }
   ],
   "source": [
    "a = 10\n",
    "b = 3\n",
    "\n",
    "print(a //b)   # 몫만 구하기\n",
    "\n",
    "print( a % b)  # 나머지 반환"
   ]
  },
  {
   "cell_type": "markdown",
   "metadata": {},
   "source": [
    "------------------------"
   ]
  },
  {
   "cell_type": "markdown",
   "metadata": {},
   "source": [
    "> ### 문자열 자료형\n",
    "+ String : 단어, 문자들로 구성된 집합\n",
    "\n",
    "'Hello'\n",
    "'안녕!' \n",
    "\"Let's start Python !\" \n",
    "\n",
    "문자열 자료형의 경우 위와 같이 '     '  혹은  \"     \"  로 둘러싸주시면 됩니다"
   ]
  },
  {
   "cell_type": "code",
   "execution_count": 39,
   "metadata": {},
   "outputs": [
    {
     "data": {
      "text/plain": [
       "str"
      ]
     },
     "execution_count": 39,
     "metadata": {},
     "output_type": "execute_result"
    }
   ],
   "source": [
    "type('Hello')"
   ]
  },
  {
   "cell_type": "code",
   "execution_count": 40,
   "metadata": {},
   "outputs": [
    {
     "data": {
      "text/plain": [
       "str"
      ]
     },
     "execution_count": 40,
     "metadata": {},
     "output_type": "execute_result"
    }
   ],
   "source": [
    "type('안녕!')"
   ]
  },
  {
   "cell_type": "code",
   "execution_count": 46,
   "metadata": {
    "scrolled": true
   },
   "outputs": [
    {
     "data": {
      "text/plain": [
       "str"
      ]
     },
     "execution_count": 46,
     "metadata": {},
     "output_type": "execute_result"
    }
   ],
   "source": [
    "type(\"Let's start Python!\")   # 문자열 안에 ''  을 포함시키고 싶을때는 큰따옴표 \" \" 로 둘러싸주시면 됩니다"
   ]
  },
  {
   "cell_type": "code",
   "execution_count": 47,
   "metadata": {},
   "outputs": [
    {
     "data": {
      "text/plain": [
       "str"
      ]
     },
     "execution_count": 47,
     "metadata": {},
     "output_type": "execute_result"
    }
   ],
   "source": [
    "type(\"Let\\'s start Python!\")  # 백슬래시 | 를 이용하여 문자임을 표시해주는 방법도 있습니다   #선택은 자유!"
   ]
  },
  {
   "cell_type": "markdown",
   "metadata": {},
   "source": [
    "***  \n",
    "자주 사용 되는 **`이스케이프 코드`** 알아보기\n",
    "\n",
    "    \\n\t:  문자열 안에서 줄을 바꿀 때 사용  \n",
    "    \\t\t:  문자열 사이에 탭 간격을 줄 때 사용  \n",
    "    \\\\\t:  문자 \\를 그대로 표현할 때 사용  \n",
    "    \\'\t:  작은따옴표(')를 그대로 표현할 때 사용  \n",
    "    \\\"\t:  큰따옴표(\")를 그대로 표현할 때 사용  \n",
    "***"
   ]
  },
  {
   "cell_type": "code",
   "execution_count": 56,
   "metadata": {},
   "outputs": [
    {
     "name": "stdout",
     "output_type": "stream",
     "text": [
      "Hello \n",
      " \t 'World' \n",
      "\n"
     ]
    }
   ],
   "source": [
    "print( 'Hello \\n \\t \\'World\\' \\n')"
   ]
  },
  {
   "cell_type": "markdown",
   "metadata": {},
   "source": [
    "### 문자열의 사칙 연산  \n",
    "파이썬은 특별하게 문자열을 더하고 곱할 수 있습니다"
   ]
  },
  {
   "cell_type": "code",
   "execution_count": 58,
   "metadata": {},
   "outputs": [
    {
     "name": "stdout",
     "output_type": "stream",
     "text": [
      "백견이불여일타\n"
     ]
    }
   ],
   "source": [
    "a = '백견이'\n",
    "b = '불여일타' \n",
    "print( a+b)"
   ]
  },
  {
   "cell_type": "code",
   "execution_count": 60,
   "metadata": {},
   "outputs": [
    {
     "name": "stdout",
     "output_type": "stream",
     "text": [
      "영차영차\n",
      "영차영차영차영차영차영차영차영차영차영차\n"
     ]
    }
   ],
   "source": [
    "c = '영차'\n",
    "\n",
    "print(c*2)\n",
    "print(c*10)"
   ]
  },
  {
   "cell_type": "markdown",
   "metadata": {},
   "source": [
    "### 문자열 심화  \n",
    "+ 문자열 길이 구하기\n",
    "+ 인덱싱\n",
    "+ 슬라이싱  "
   ]
  },
  {
   "cell_type": "code",
   "execution_count": 4,
   "metadata": {},
   "outputs": [
    {
     "data": {
      "text/plain": [
       "17"
      ]
     },
     "execution_count": 4,
     "metadata": {},
     "output_type": "execute_result"
    }
   ],
   "source": [
    "## 문자열 길이 구하기\n",
    "string_ = 'Data science Camp'\n",
    "\n",
    "len( string_ ) # 파이썬 내장함수인 len 은 띄어쓰기를 포함한 문자열의 길이를 반환해 줍니다"
   ]
  },
  {
   "cell_type": "code",
   "execution_count": 5,
   "metadata": {},
   "outputs": [
    {
     "data": {
      "text/plain": [
       "'D'"
      ]
     },
     "execution_count": 5,
     "metadata": {},
     "output_type": "execute_result"
    }
   ],
   "source": [
    "## 문자열 인덱싱 : 원하는 특정 문자만 뽑아내기\n",
    "string_[0]  # 첫번째 문자만 출력"
   ]
  },
  {
   "cell_type": "code",
   "execution_count": 6,
   "metadata": {},
   "outputs": [
    {
     "data": {
      "text/plain": [
       "'p'"
      ]
     },
     "execution_count": 6,
     "metadata": {},
     "output_type": "execute_result"
    }
   ],
   "source": [
    "string_[-1]   # 마지막 문자 출력"
   ]
  },
  {
   "cell_type": "code",
   "execution_count": 7,
   "metadata": {},
   "outputs": [
    {
     "data": {
      "text/plain": [
       "'D'"
      ]
     },
     "execution_count": 7,
     "metadata": {},
     "output_type": "execute_result"
    }
   ],
   "source": [
    "## 문자열 슬라이싱  \n",
    "string_[0:1]  #범위의 마지막 문자는 포함되지 않습니다  - 문자열의 첫번째 값만 출력"
   ]
  },
  {
   "cell_type": "code",
   "execution_count": 8,
   "metadata": {},
   "outputs": [
    {
     "data": {
      "text/plain": [
       "'science Camp'"
      ]
     },
     "execution_count": 8,
     "metadata": {},
     "output_type": "execute_result"
    }
   ],
   "source": [
    "string_[5:]  # 6번째 문자 부터 끝까지 출력"
   ]
  },
  {
   "cell_type": "code",
   "execution_count": 9,
   "metadata": {},
   "outputs": [
    {
     "data": {
      "text/plain": [
       "'Data '"
      ]
     },
     "execution_count": 9,
     "metadata": {},
     "output_type": "execute_result"
    }
   ],
   "source": [
    "string_[ :5] # 처음부터 5번째까지 출력"
   ]
  },
  {
   "cell_type": "markdown",
   "metadata": {},
   "source": [
    "> Quiz : 'science' 만 출력하고 싶다면 어떻게 해야 할까요?"
   ]
  },
  {
   "cell_type": "code",
   "execution_count": 80,
   "metadata": {},
   "outputs": [
    {
     "data": {
      "text/plain": [
       "'science'"
      ]
     },
     "execution_count": 80,
     "metadata": {},
     "output_type": "execute_result"
    }
   ],
   "source": [
    "string_[5:12]"
   ]
  },
  {
   "cell_type": "code",
   "execution_count": 1,
   "metadata": {},
   "outputs": [
    {
     "ename": "NameError",
     "evalue": "name 'string_' is not defined",
     "output_type": "error",
     "traceback": [
      "\u001b[1;31m---------------------------------------------------------------------------\u001b[0m",
      "\u001b[1;31mNameError\u001b[0m                                 Traceback (most recent call last)",
      "\u001b[1;32m<ipython-input-1-e75b219008e5>\u001b[0m in \u001b[0;36m<module>\u001b[1;34m\u001b[0m\n\u001b[0;32m      2\u001b[0m \u001b[1;31m# Camp 만 출력하기\u001b[0m\u001b[1;33m\u001b[0m\u001b[1;33m\u001b[0m\u001b[1;33m\u001b[0m\u001b[0m\n\u001b[0;32m      3\u001b[0m \u001b[1;33m\u001b[0m\u001b[0m\n\u001b[1;32m----> 4\u001b[1;33m \u001b[0mstring_\u001b[0m\u001b[1;33m[\u001b[0m\u001b[1;33m-\u001b[0m\u001b[1;36m4\u001b[0m\u001b[1;33m:\u001b[0m\u001b[1;33m]\u001b[0m    \u001b[1;31m# 뒤에서 4번째 숫자부터 끝까지 출력하기\u001b[0m\u001b[1;33m\u001b[0m\u001b[1;33m\u001b[0m\u001b[0m\n\u001b[0m",
      "\u001b[1;31mNameError\u001b[0m: name 'string_' is not defined"
     ]
    }
   ],
   "source": [
    "## - 를 사용하면 뒤에서부터 순서를 셀 수 있습니다\n",
    "# Camp 만 출력하기 \n",
    "\n",
    "string_[-4:]    # 뒤에서 4번째 숫자부터 끝까지 출력하기 "
   ]
  },
  {
   "cell_type": "markdown",
   "metadata": {},
   "source": [
    "  \n",
    "  \n",
    "  \n",
    "  \n",
    "  ----------------\n",
    "    "
   ]
  },
  {
   "cell_type": "markdown",
   "metadata": {},
   "source": [
    "> ### 리스트 자료형  \n",
    "숫자형 자료와 문자열 자료 등을 하나의 집합으로 모을 수 있는 리스트 입니다."
   ]
  },
  {
   "cell_type": "code",
   "execution_count": 10,
   "metadata": {},
   "outputs": [],
   "source": [
    "# 여러 가지 구조의 리스트 \n",
    "\n",
    "a = []  # 비어있는 리스트\n",
    "\n",
    "b = [0, 1, 2]   # 숫자형 자료가 들어있는 리스트\n",
    "\n",
    "c = ['Data', 'Science', 'too', 'easy']   # 문자열 자료\n",
    "\n",
    "d = [0, 1, 'Data', 'science'] # 숫자 + 문자열\n",
    "\n",
    "e = [2, 0, ['too', 'easy']]  # 숫자 + 문자열 리스트 - 리스트가 포함된 중첩 리스트 구조\n"
   ]
  },
  {
   "cell_type": "code",
   "execution_count": 11,
   "metadata": {},
   "outputs": [
    {
     "name": "stdout",
     "output_type": "stream",
     "text": [
      "<class 'list'> \n",
      "\n",
      "[]\n",
      "[0, 1, 2] \n",
      "\n",
      "['Data', 'Science', 'too', 'easy'] \n",
      "\n",
      "[0, 1, 'Data', 'science'] \n",
      "\n",
      "[2, 0, ['too', 'easy']] \n",
      "\n"
     ]
    }
   ],
   "source": [
    "print( type(a) ,'\\n')\n",
    "\n",
    "print(a ,'\\n')\n",
    "print(b ,'\\n')\n",
    "print(c ,'\\n')\n",
    "print(d ,'\\n')\n",
    "print(e ,'\\n')"
   ]
  },
  {
   "cell_type": "markdown",
   "metadata": {},
   "source": [
    "### 리스트 자료  심화\n",
    "+ 리스트 길이 구하기\n",
    "+ 인덱싱\n",
    "+ 슬라이싱 \n",
    "+ 리스트 관련 함수"
   ]
  },
  {
   "cell_type": "code",
   "execution_count": 16,
   "metadata": {},
   "outputs": [],
   "source": [
    "list_ = ['Data', 'Science', 101, 'Camp'] # 파이썬에서는 이미 list 라는 함수가 있기 때문에 "
   ]
  },
  {
   "cell_type": "code",
   "execution_count": 17,
   "metadata": {},
   "outputs": [
    {
     "data": {
      "text/plain": [
       "4"
      ]
     },
     "execution_count": 17,
     "metadata": {},
     "output_type": "execute_result"
    }
   ],
   "source": [
    "## 리스트 길이 구하기\n",
    "len(list_) "
   ]
  },
  {
   "cell_type": "code",
   "execution_count": 14,
   "metadata": {},
   "outputs": [
    {
     "name": "stdout",
     "output_type": "stream",
     "text": [
      "Science \n",
      "\n",
      "['Science', 101] \n",
      "\n",
      "<class 'str'> \n",
      "\n",
      "<class 'list'>\n"
     ]
    }
   ],
   "source": [
    "## 리스트 인덱싱과 슬라이싱\n",
    "\n",
    "print(list_[1], '\\n')\n",
    "print(list_[1:3], '\\n')\n",
    "\n",
    "### 리스트에서 인덱싱과 슬라이싱을 했을때의 자료 Type! \n",
    "print(type(list_[1]) ,'\\n')\n",
    "print( type(list_[1:3]))"
   ]
  },
  {
   "cell_type": "markdown",
   "metadata": {},
   "source": [
    "***리스트도 연산할 수 있다!***"
   ]
  },
  {
   "cell_type": "code",
   "execution_count": 116,
   "metadata": {
    "scrolled": false
   },
   "outputs": [
    {
     "name": "stdout",
     "output_type": "stream",
     "text": [
      "[1, 2, 3, 1, 2, 3]\n",
      "[1, 2, 3, 'Hello', 'World']\n"
     ]
    }
   ],
   "source": [
    "a = [1, 2, 3]\n",
    "b = ['Hello', 'World']\n",
    "\n",
    "print(a*2)\n",
    "print(a+b)\n",
    "\n",
    "#### 주의 할 점 ####\n",
    "# 아래와 같이 서로 다른 Type 의 자료형을 더해줄 경우에는 Error 가 뜹니다 \n",
    "# 같은 자료 구조 끼리만 연산 가능   ex) 숫자&숫자 , 문자&문자, 리스트&리스트\n",
    "\n",
    "#  print( a[0] + b[1])"
   ]
  },
  {
   "cell_type": "markdown",
   "metadata": {},
   "source": [
    "***추가***   \n",
    "*리스트 관련 함수*\n"
   ]
  },
  {
   "cell_type": "code",
   "execution_count": 142,
   "metadata": {},
   "outputs": [],
   "source": [
    "list_ = [2, 1, 3, 4]"
   ]
  },
  {
   "cell_type": "code",
   "execution_count": 143,
   "metadata": {
    "scrolled": true
   },
   "outputs": [
    {
     "name": "stdout",
     "output_type": "stream",
     "text": [
      "[2, 1, 3, 4, 5]\n"
     ]
    }
   ],
   "source": [
    "## 리스트에 요소 추가하기 : append\n",
    "\n",
    "list_.append(5)\n",
    "\n",
    "print(list_)"
   ]
  },
  {
   "cell_type": "code",
   "execution_count": 144,
   "metadata": {},
   "outputs": [
    {
     "name": "stdout",
     "output_type": "stream",
     "text": [
      "[2, 'and', 1, 3, 4, 5]\n"
     ]
    }
   ],
   "source": [
    "## 원하는 위치에 요소 삽입하기 : insert\n",
    "\n",
    "list_.insert(1, 'and')\n",
    "\n",
    "print(list_)"
   ]
  },
  {
   "cell_type": "code",
   "execution_count": 145,
   "metadata": {},
   "outputs": [
    {
     "name": "stdout",
     "output_type": "stream",
     "text": [
      "[2, 1, 3, 4, 5]\n"
     ]
    }
   ],
   "source": [
    "## 리스트 요소 제거 : remove\n",
    "# remove(*)는 리스트에서 첫 번째로 나오는 *을 삭제하는 함수입니다\n",
    "\n",
    "list_.remove('and')\n",
    "print(list_)"
   ]
  },
  {
   "cell_type": "code",
   "execution_count": 148,
   "metadata": {},
   "outputs": [
    {
     "name": "stdout",
     "output_type": "stream",
     "text": [
      "[1, 2, 3, 4, 5]\n"
     ]
    }
   ],
   "source": [
    "## 리스트 정렬 : sort\n",
    "\n",
    "list_.sort()\n",
    "\n",
    "print(list_)"
   ]
  },
  {
   "cell_type": "code",
   "execution_count": 149,
   "metadata": {
    "scrolled": true
   },
   "outputs": [
    {
     "name": "stdout",
     "output_type": "stream",
     "text": [
      "[5, 4, 3, 2, 1]\n"
     ]
    }
   ],
   "source": [
    "## 역순으로 정렬도 할 수 있습니다 \n",
    "### sort 뒤를 클릭 후 shift + tab 을 눌러 보시면  'sort'함수의 value 들을 확인 할 수 있습니다\n",
    "list_.sort(reverse= True)  # 역순을 True 로 설정하면!\n",
    "\n",
    "print( list_) #  거꾸로 배열이 됨을 확인 할 수 있습니다"
   ]
  },
  {
   "cell_type": "markdown",
   "metadata": {},
   "source": [
    "----------------\n",
    "  \n",
    " "
   ]
  },
  {
   "cell_type": "markdown",
   "metadata": {},
   "source": [
    "> ### 튜플 자료형\n",
    "리스트와 거의 유사하지만  \n",
    "차이점은 값을 *수정 및 삭제* 가 불가하다는 점이 다릅니다"
   ]
  },
  {
   "cell_type": "code",
   "execution_count": 150,
   "metadata": {},
   "outputs": [],
   "source": [
    "tuple_ = (1,2,3,4)"
   ]
  },
  {
   "cell_type": "code",
   "execution_count": 152,
   "metadata": {
    "scrolled": true
   },
   "outputs": [
    {
     "ename": "AttributeError",
     "evalue": "'tuple' object has no attribute 'append'",
     "output_type": "error",
     "traceback": [
      "\u001b[1;31m---------------------------------------------------------------------------\u001b[0m",
      "\u001b[1;31mAttributeError\u001b[0m                            Traceback (most recent call last)",
      "\u001b[1;32m<ipython-input-152-2b2f8ce99f14>\u001b[0m in \u001b[0;36m<module>\u001b[1;34m\u001b[0m\n\u001b[1;32m----> 1\u001b[1;33m \u001b[0mtuple\u001b[0m\u001b[1;33m.\u001b[0m\u001b[0mappend\u001b[0m\u001b[1;33m(\u001b[0m\u001b[1;36m5\u001b[0m\u001b[1;33m)\u001b[0m  \u001b[1;31m# 5 를 추가하려하자 Error 가 발생!\u001b[0m\u001b[1;33m\u001b[0m\u001b[1;33m\u001b[0m\u001b[0m\n\u001b[0m",
      "\u001b[1;31mAttributeError\u001b[0m: 'tuple' object has no attribute 'append'"
     ]
    }
   ],
   "source": [
    "tuple_.append(5)  # 5 를 추가하려하자 Error 가 발생!"
   ]
  },
  {
   "cell_type": "markdown",
   "metadata": {},
   "source": [
    "----------------------"
   ]
  },
  {
   "cell_type": "markdown",
   "metadata": {},
   "source": [
    "> ### 딕셔너리 자료형  \n",
    "  \n",
    "     이름: 송해  \n",
    "     출생년도 : 1927\n",
    "     방송 : 전국노래자랑  \n",
    "\n",
    "위 와 같이 대응 되는 구조를 갖는 자료를 딕셔너리 자료형이라고 합니다  \n",
    "\n",
    "Key 를 통해 Value를 얻는 구조 입니다.  \n",
    "\n",
    "*{Key1:Value1,  Key2:Value2,  Key3:Value3,  ...}*  \n"
   ]
  },
  {
   "cell_type": "code",
   "execution_count": 155,
   "metadata": {},
   "outputs": [
    {
     "name": "stdout",
     "output_type": "stream",
     "text": [
      "<class 'dict'>\n"
     ]
    }
   ],
   "source": [
    "dic =  { 'name':'IU' , 'age':27 ,'인기곡':['좋은날','마쉬멜로우','금요일에 만나요',23] }\n",
    "\n",
    "print(type(dic))"
   ]
  },
  {
   "cell_type": "markdown",
   "metadata": {},
   "source": [
    "딕셔너리에서 Key 를 사용하여 Value 얻기\n",
    "\n",
    "    아이유의 인기곡을 불러옵시다 \n",
    "    \n",
    "    Dict['Key'] 와 같이 대괄호를 이용하여 불러옵니다 "
   ]
  },
  {
   "cell_type": "code",
   "execution_count": 159,
   "metadata": {},
   "outputs": [
    {
     "data": {
      "text/plain": [
       "['좋은날', '마쉬멜로우', '금요일에 만나요', 23]"
      ]
     },
     "execution_count": 159,
     "metadata": {},
     "output_type": "execute_result"
    }
   ],
   "source": [
    "dic['인기곡']"
   ]
  },
  {
   "cell_type": "markdown",
   "metadata": {},
   "source": [
    "딕셔너리의 Key   or   Value 만 얻기  \n",
    "    \n",
    "    keys() 함수와 values() 함수를 이용합니다  "
   ]
  },
  {
   "cell_type": "code",
   "execution_count": 161,
   "metadata": {
    "scrolled": true
   },
   "outputs": [
    {
     "name": "stdout",
     "output_type": "stream",
     "text": [
      "dict_keys(['name', 'age', '인기곡'])\n",
      "dict_values(['IU', 27, ['좋은날', '마쉬멜로우', '금요일에 만나요', 23]])\n"
     ]
    }
   ],
   "source": [
    "print(dic.keys())\n",
    "\n",
    "print(dic.values())"
   ]
  },
  {
   "cell_type": "markdown",
   "metadata": {},
   "source": [
    "----------------\n",
    "----------------\n",
    "### 03. 함수 만들기"
   ]
  },
  {
   "cell_type": "markdown",
   "metadata": {},
   "source": [
    "함수는 들어온 입력값을 받아 어떤 처리를 하여 적절한 결괏값을 돌려줍니다.\n",
    "\n",
    "입력값 ---> 함수 ----> 결괏값"
   ]
  },
  {
   "cell_type": "markdown",
   "metadata": {},
   "source": [
    "두 변수를 받아 합을 반환하는 함수를 만들어 볼까요?\n",
    "\n",
    "    a + b = ?"
   ]
  },
  {
   "cell_type": "code",
   "execution_count": 165,
   "metadata": {},
   "outputs": [],
   "source": [
    "def add(a,b):\n",
    "    return a+b\n",
    "\n",
    "##   a 와 b 를 입력 받아 a+b를 출력하는  add 함수를 만들어 보았습니다!\n",
    "##  파이썬에서 함수를 만들때에는 들여쓰기를 해주어야 한다는 점 알아주세요!\n"
   ]
  },
  {
   "cell_type": "code",
   "execution_count": 168,
   "metadata": {
    "scrolled": true
   },
   "outputs": [
    {
     "name": "stdout",
     "output_type": "stream",
     "text": [
      "12\n"
     ]
    }
   ],
   "source": [
    "c = add(5,7)\n",
    "\n",
    "print(c)"
   ]
  },
  {
   "cell_type": "markdown",
   "metadata": {},
   "source": [
    "입력 값이 없는 함수도 있습니다."
   ]
  },
  {
   "cell_type": "code",
   "execution_count": 257,
   "metadata": {},
   "outputs": [],
   "source": [
    "def shout():\n",
    "    print('야호 '*10)"
   ]
  },
  {
   "cell_type": "code",
   "execution_count": 258,
   "metadata": {},
   "outputs": [
    {
     "name": "stdout",
     "output_type": "stream",
     "text": [
      "야호 야호 야호 야호 야호 야호 야호 야호 야호 야호 \n"
     ]
    }
   ],
   "source": [
    "shout()"
   ]
  },
  {
   "cell_type": "markdown",
   "metadata": {},
   "source": [
    "## Ⅲ. 제어문 반복문\n",
    " \n",
    "### 01. IF\n",
    "### 02. For \n",
    "### 03. While"
   ]
  },
  {
   "cell_type": "markdown",
   "metadata": {},
   "source": [
    "-------------------\n",
    "> ### IF 문 \n",
    "\n",
    "if  조건문 :  \n",
    "&nbsp;&nbsp;&nbsp;&nbsp;수행할 문장  \n",
    "&nbsp;&nbsp;&nbsp;&nbsp;수행할 문장  \n",
    "&nbsp;&nbsp;&nbsp;&nbsp;수행할 문장  \n",
    "    \n",
    "~ 할때 ~ 해라 조건을 만들어주는 If 조건문\n",
    "\n",
    "조건문은 비교 연산자 등을 이용하여 원하는 조건을 만들어 줍니다"
   ]
  },
  {
   "cell_type": "markdown",
   "metadata": {},
   "source": [
    "> *비교 연산자*"
   ]
  },
  {
   "cell_type": "markdown",
   "metadata": {},
   "source": [
    "![비교연산자](https:/t1.daumcdn.net/cfile/tistory/2357563D56A8F49C1E)"
   ]
  },
  {
   "cell_type": "markdown",
   "metadata": {},
   "source": [
    "--------------\n",
    "`겨울이라면 현금을 가지고 다녀라` 를 IF 문으로 바꾸어 볼까요? "
   ]
  },
  {
   "cell_type": "code",
   "execution_count": 203,
   "metadata": {},
   "outputs": [
    {
     "name": "stdout",
     "output_type": "stream",
     "text": [
      "현금을 가지고 다녀라\n"
     ]
    }
   ],
   "source": [
    "## 기본적인 if / else 구조 \n",
    "season = '겨울'\n",
    "\n",
    "\n",
    "if season== '겨울':\n",
    "    print('현금을 가지고 다녀라')\n",
    "else:\n",
    "    print('현금 소지는 자유다 ')"
   ]
  },
  {
   "cell_type": "markdown",
   "metadata": {},
   "source": [
    "*IF 조건문 뒤에는 : (콜론) 을 붙이며  수행할 문장 들에 대해서는 들여쓰기를 해야 한다는 점 주의해 주세요!*\n",
    " "
   ]
  },
  {
   "cell_type": "code",
   "execution_count": 204,
   "metadata": {},
   "outputs": [
    {
     "ename": "IndentationError",
     "evalue": "expected an indented block (<ipython-input-204-a48dd39d6e41>, line 5)",
     "output_type": "error",
     "traceback": [
      "\u001b[1;36m  File \u001b[1;32m\"<ipython-input-204-a48dd39d6e41>\"\u001b[1;36m, line \u001b[1;32m5\u001b[0m\n\u001b[1;33m    b = a * 2\u001b[0m\n\u001b[1;37m    ^\u001b[0m\n\u001b[1;31mIndentationError\u001b[0m\u001b[1;31m:\u001b[0m expected an indented block\n"
     ]
    }
   ],
   "source": [
    "## 오류 예시 \n",
    "a = 10\n",
    "\n",
    "if a > 5 :\n",
    "b = a * 2\n",
    "    print(b)"
   ]
  },
  {
   "cell_type": "markdown",
   "metadata": {},
   "source": [
    "    아래와 같은 다수의 조건문도 가능합니다."
   ]
  },
  {
   "cell_type": "code",
   "execution_count": 205,
   "metadata": {},
   "outputs": [
    {
     "name": "stdout",
     "output_type": "stream",
     "text": [
      "붕어빵에 실패했다\n"
     ]
    }
   ],
   "source": [
    "season = '겨울'\n",
    "cash = 500\n",
    "\n",
    "\n",
    "if season== '겨울':\n",
    "    if cash >= 1000:\n",
    "        print('붕어빵을 사먹을 수 있다')\n",
    "    else:\n",
    "        print('붕어빵에 실패했다')\n",
    "else:\n",
    "    print('현금 소지는 자유다')"
   ]
  },
  {
   "cell_type": "markdown",
   "metadata": {},
   "source": [
    " "
   ]
  },
  {
   "cell_type": "markdown",
   "metadata": {},
   "source": [
    " **IF + ELIF 조건문**   "
   ]
  },
  {
   "cell_type": "code",
   "execution_count": null,
   "metadata": {},
   "outputs": [],
   "source": [
    "if 조건식:\n",
    "    코드1\n",
    "elif 조건식:\n",
    "    코드2\n",
    "else:\n",
    "    코드3\n",
    "    "
   ]
  },
  {
   "cell_type": "markdown",
   "metadata": {},
   "source": [
    "IF & ELIF & ELSE  를 이용한 자판기 코드를 만들어 봅시다 "
   ]
  },
  {
   "cell_type": "code",
   "execution_count": 212,
   "metadata": {},
   "outputs": [
    {
     "name": "stdout",
     "output_type": "stream",
     "text": [
      "코카콜라\n"
     ]
    }
   ],
   "source": [
    "button = 3\n",
    " \n",
    "if button == 1:\n",
    "    print('레츠비')\n",
    "elif button == 2:\n",
    "    print('웰치스')\n",
    "elif button == 3:\n",
    "    print('코카콜라')\n",
    "else:\n",
    "    print('제공하지 않는 메뉴')"
   ]
  },
  {
   "cell_type": "markdown",
   "metadata": {},
   "source": [
    " "
   ]
  },
  {
   "cell_type": "markdown",
   "metadata": {},
   "source": [
    "***파이썬의 다양한 조건문***  \n",
    "파이썬은  `in` 과 `not in` 등의 조건문도 사용가능합니다"
   ]
  },
  {
   "cell_type": "code",
   "execution_count": 206,
   "metadata": {},
   "outputs": [
    {
     "data": {
      "text/plain": [
       "True"
      ]
     },
     "execution_count": 206,
     "metadata": {},
     "output_type": "execute_result"
    }
   ],
   "source": [
    "1 in [1,2,3]"
   ]
  },
  {
   "cell_type": "code",
   "execution_count": 207,
   "metadata": {},
   "outputs": [
    {
     "data": {
      "text/plain": [
       "False"
      ]
     },
     "execution_count": 207,
     "metadata": {},
     "output_type": "execute_result"
    }
   ],
   "source": [
    "1 not in [1,2,3,4]"
   ]
  },
  {
   "cell_type": "code",
   "execution_count": 209,
   "metadata": {},
   "outputs": [
    {
     "data": {
      "text/plain": [
       "True"
      ]
     },
     "execution_count": 209,
     "metadata": {},
     "output_type": "execute_result"
    }
   ],
   "source": [
    "'D' in 'Dacon'"
   ]
  },
  {
   "cell_type": "code",
   "execution_count": 210,
   "metadata": {
    "scrolled": true
   },
   "outputs": [
    {
     "data": {
      "text/plain": [
       "False"
      ]
     },
     "execution_count": 210,
     "metadata": {},
     "output_type": "execute_result"
    }
   ],
   "source": [
    "'d' in 'Dacon'"
   ]
  },
  {
   "cell_type": "markdown",
   "metadata": {},
   "source": [
    " "
   ]
  },
  {
   "cell_type": "markdown",
   "metadata": {},
   "source": [
    "> ### 반복문 : For & While "
   ]
  },
  {
   "cell_type": "markdown",
   "metadata": {},
   "source": [
    "for문의 기본 구조:  \n",
    "  \n",
    ">for 변수 in 리스트 (또는 튜플, 문자열):  \n",
    ">>    수행할 문장1  \n",
    "      수행할 문장2  \n",
    "    ...  \n",
    "    \n",
    "*For 문 알고리즘 표 그려보기*"
   ]
  },
  {
   "cell_type": "code",
   "execution_count": 220,
   "metadata": {
    "scrolled": true
   },
   "outputs": [
    {
     "name": "stdout",
     "output_type": "stream",
     "text": [
      "55\n",
      "55\n"
     ]
    }
   ],
   "source": [
    "# 가장 기본적인 for 문 구조\n",
    "## 1 부터 10 까지의 숫자를 더하여 봅시다\n",
    "\n",
    "sum1 = 0\n",
    "for i in [1,2,3,4,5,6,7,8,9,10]:\n",
    "    sum1 += i\n",
    "print(sum1)\n",
    "\n",
    "\n",
    "\n",
    "\n",
    "sum2 = 0\n",
    "for i in range(1,11):\n",
    "    sum2 += i\n",
    "print(sum2)\n",
    "\n",
    "# range(1,11) 은 1 이상 11미만의 정수\n",
    "# range(1,10,2) 은  1 부터 2씩 증가하며 10 미만까지의 정수 "
   ]
  },
  {
   "cell_type": "markdown",
   "metadata": {},
   "source": [
    "리스트를 이용한 For 문"
   ]
  },
  {
   "cell_type": "code",
   "execution_count": 18,
   "metadata": {},
   "outputs": [
    {
     "name": "stdout",
     "output_type": "stream",
     "text": [
      "나는 햄버거가 먹고 싶다\n",
      "나는 피자가 먹고 싶다\n",
      "나는 치킨가 먹고 싶다\n"
     ]
    }
   ],
   "source": [
    "for i in ['햄버거','피자','치킨']:\n",
    "    print('나는', i, '가 먹고 싶다')"
   ]
  },
  {
   "cell_type": "markdown",
   "metadata": {},
   "source": [
    "> ### WHILE 반복문\n",
    "While 반복문의 기본 구조:\n",
    "\n",
    ">while 조건문:  \n",
    ">>    수행할 문장1  \n",
    "      수행할 문장2  \n",
    "    ...  \n",
    "    \n",
    "For 문 과 굉장히 유사한것을 알 수 있죠?"
   ]
  },
  {
   "cell_type": "code",
   "execution_count": 227,
   "metadata": {
    "scrolled": true
   },
   "outputs": [
    {
     "name": "stdout",
     "output_type": "stream",
     "text": [
      "붕어빵 0 마리\n",
      "붕어빵 1 마리\n",
      "붕어빵 2 마리\n",
      "붕어빵 3 마리\n",
      "붕어빵 4 마리\n",
      "붕어빵 5 마리\n"
     ]
    }
   ],
   "source": [
    "## 가장 기본적인 Whiie 반복문 구조\n",
    "\n",
    "i = 0\n",
    "while i <=5:\n",
    "    print('붕어빵',i,'마리')\n",
    "    i += 1 # while 과 for 문의 차이 !"
   ]
  },
  {
   "cell_type": "markdown",
   "metadata": {},
   "source": [
    "`i = 0` 일때 부터 시작하여 `i` 가 1씩 증가되고 있는 것을 볼 수 있죠?  \n",
    "마지막 반복에서 `i=5`일떄  `i`에 1이 더해져 6이 되어 ` i <= 5`라는 \n",
    "\n",
    "조건문에 부합하지 않아   \n",
    "반복문에 멈춘것을 확인 할 수 있습니다. "
   ]
  },
  {
   "cell_type": "code",
   "execution_count": 2,
   "metadata": {
    "scrolled": true
   },
   "outputs": [
    {
     "name": "stdout",
     "output_type": "stream",
     "text": [
      "콜라를 줍니다\n"
     ]
    }
   ],
   "source": [
    "coke = 5\n",
    "\n",
    "while True:\n",
    "    print('콜라를 줍니다')\n",
    "    coke -= 1\n",
    "    \n",
    "    if coke == 0:\n",
    "        print('콜라가 다 떨어졌습니다.')\n",
    "    break    "
   ]
  },
  {
   "cell_type": "markdown",
   "metadata": {},
   "source": [
    "#### 강제로 while 문 빠져나가기  \n",
    "콜라가 다 떨어 질때까지 공짜로 콜라를 주는 자판기를 코드로 만들어 봅시다.   \n",
    "`while True:`를 통해 무한 루프를 만들어 준 후,  \n",
    "콜라의 개수가 0이 되면  break 를 통해  \n",
    "While 반복문을 빠져나가 도록 만들어 보겠습니다."
   ]
  },
  {
   "cell_type": "code",
   "execution_count": 3,
   "metadata": {
    "scrolled": true
   },
   "outputs": [
    {
     "name": "stdout",
     "output_type": "stream",
     "text": [
      "콜라를 줍니다\n",
      "콜라를 줍니다\n",
      "콜라를 줍니다\n",
      "콜라를 줍니다\n",
      "콜라를 줍니다\n",
      "콜라가 다 떨어졌습니다.\n"
     ]
    }
   ],
   "source": [
    "coke = 5\n",
    "\n",
    "while True:\n",
    "    print('콜라를 줍니다')\n",
    "    coke -= 1\n",
    "    \n",
    "    if coke == 0:\n",
    "        print('콜라가 다 떨어졌습니다.')\n",
    "        break"
   ]
  },
  {
   "cell_type": "markdown",
   "metadata": {},
   "source": [
    "만약 break 를 사용하지 않았다면 무한루프 속에 갖혔겠죠?  \n",
    "위 와 같이 무한루프가 생기지 않도록 break 을 잘 사용해 주어야 합니다."
   ]
  },
  {
   "cell_type": "markdown",
   "metadata": {},
   "source": [
    "#### While 문 심화:  "
   ]
  },
  {
   "cell_type": "markdown",
   "metadata": {},
   "source": [
    "자 요번에는 While  문 심화 입니다.  \n",
    "10개의 700원짜리 콜라가 있는 자판기에서 5000원의 돈으로 최대한 많이 콜라를 뽑아보겠습니다.  \n",
    "  \n",
    "+ 조건:\n",
    "    + 무한 루프 `while True:` 사용\n",
    "    + 콜라가 다 떨어졌을 때에는 `'콜라가 다 떨어졌습니다.'` 라고 출력하기\n",
    "    + 돈이 부족할 때에는 `'돈이 부족합니다'` 와 `'남은 콜라는 ㅇㅇ개 입니다'` 출력하기\n",
    "    + 콜라가 다 떨어지거나 돈이 부족하여 끝날시에는 `'거스름돈은 ㅇㅇㅇ원 입니다'` 라고 출력하기 "
   ]
  },
  {
   "cell_type": "code",
   "execution_count": null,
   "metadata": {},
   "outputs": [],
   "source": [
    "coke = 10  \n",
    "money = 5000\n",
    "\n",
    "while True:\n",
    "    if money == 700:\n",
    "        print(\"콜라를 줍니다. 거스름 돈은 0원 입니다\")\n",
    "        coke = coke -1\n",
    "        money -= 700 # -= 설명 \n",
    "    elif money > 700:\n",
    "        print(\"콜라를 줍니다.\")\n",
    "        coke = coke -1\n",
    "        money -= 700\n",
    "    else:\n",
    "        print(\"거스름 돈은\",money,\"입니다.\", \"돈이 부족합니다\")\n",
    "        print(\"남은 콜라는\" ,coke,\"개 입니다.\")\n",
    "        break\n",
    "    if coke == 0:\n",
    "        print(\"거스름 돈은\",money-700,\"입니다\",\"콜라가 다 떨어졌습니다.\")\n",
    "        print(\"판매를 중지 합니다.\")\n",
    "        break"
   ]
  },
  {
   "cell_type": "markdown",
   "metadata": {},
   "source": [
    "_________________"
   ]
  },
  {
   "cell_type": "markdown",
   "metadata": {},
   "source": [
    "> # 파이썬 기초 : 두번째 시간  \n",
    "+ 클래스와 함수\n",
    "+ 모듈과 라이브러리\n",
    "+ 데이터 불러오기\n",
    "+ 판다스 기초\n"
   ]
  },
  {
   "cell_type": "markdown",
   "metadata": {},
   "source": [
    "## 클래스와 함수   \n",
    "클래스를 배우기 앞서!  \n",
    "객체 지향 언어에 대해 알아봅시다  "
   ]
  },
  {
   "cell_type": "markdown",
   "metadata": {},
   "source": [
    "----------------\n",
    "***파이썬은 객체지향 언어!***  \n",
    "+ *`객체지향 언어`란?*   \n",
    "프로그래밍에서 필요한 데이터를 추상화시켜 상태와 행위를 가진 `객체`를 만들고  \n",
    "그 `객체`들 간의 유기적인 상호작용을 통해 로직을 구성하는 프로그래밍 방법입니다.  \n",
    "  \n",
    "+ *그래서 `객체`가 뭔데?*  \n",
    "`클래스` : 붕어빵 틀이라면  \n",
    "`객체` : 붕어빵 틀에서 찍혀 나온 붕어빵  \n",
    "  \n",
    "+ *그래서 객체 지향언어를 왜 쓰는데?*  \n",
    "        \n",
    "    + *코드 재사용이 용이*  \n",
    "    남이 만든 클래스를 가져와서 이용할 수 있고 상속을 통해 확장해서 사용할 수 있음.  \n",
    "  \n",
    "    + *유지보수가 쉬움*  \n",
    "    절차 지향 프로그래밍에서는 코드를 수정해야할 때 일일이 찾아 수정해야하는 반면 객체 지향 프로그래밍에서는 수정해야 할 부분이 클래스 내부에 멤버 변수혹은 메서드로 있기 때문에 해당 부분만 수정하면 됨.   \n",
    "      \n",
    "    + *대형 프로젝트에 적합*  \n",
    "    클래스단위로 모듈화시켜서 개발할 수 있으므로 대형 프로젝트처럼 여러명, 여러회사에서 개발이 필요할 시 업무 분담하기 쉽다.   \n",
    "\n",
    "---------------------"
   ]
  },
  {
   "cell_type": "markdown",
   "metadata": {},
   "source": [
    "+ ### 클래스 \n",
    "클래스는 무엇일까요?  \n",
    "서로 공통점을 갖는 '부류' 라고 생각하시면 쉬울 것 같습니다.  \n",
    "\n",
    "`'아이유'` ,`'태연'`, `'폴킴'` 이 세 명의 가수들의 공통점을 무엇일까요?  \n",
    "세 명 모두  `가수` 라는 공통점을 가지고 있죠.  \n",
    "\n",
    "`가수`라는 것이 하나의 사람이나 물건으로 실제 존재 하지는 않지만,  \n",
    "이러한 부류의 사람들을 묶어주는 단어임을 알 수 있는데요.   \n",
    "이러한 `부류`를 `클래스`라고 생각하시면 될 것 같습니다.  "
   ]
  },
  {
   "cell_type": "markdown",
   "metadata": {},
   "source": [
    "*예시를 한번 볼까요?*  \n",
    "  \n",
    "`가수` 라는 클래스에서  \n",
    "`아이유` 라는 실체(`인스턴스`) 를 만든 후  \n",
    "클래스 내부에 노래를 부르게 하는 함수(`메소드`)를 만들어 보겠습니다. "
   ]
  },
  {
   "cell_type": "code",
   "execution_count": 314,
   "metadata": {},
   "outputs": [
    {
     "data": {
      "text/plain": [
       "'SingSing!'"
      ]
     },
     "execution_count": 314,
     "metadata": {},
     "output_type": "execute_result"
    }
   ],
   "source": [
    "#파이썬에서 객체지향 프로그래밍의 기본 단위인 클래스를 만들기 위해서는 아래와 같이 \"class `ClassName`\" 을 사용하여 정의합니다.  \n",
    "#클래스 이름의 첫글자는 대문자로 해야하는것 꼭 주의하세요!\n",
    "\n",
    "class Singer:                      # 가수라는 클래스 생성\n",
    "    def sing(self):                # 노래부르기 메서드   \n",
    "        return \"SingSing!\"\n",
    "\n",
    " \n",
    "IU = Singer()                   # 아이유를 만들어서\n",
    "IU.sing()                       # 노래를 불러달라 하기!\n",
    "\n"
   ]
  },
  {
   "cell_type": "code",
   "execution_count": 363,
   "metadata": {},
   "outputs": [
    {
     "data": {
      "text/plain": [
       "'SingSing!'"
      ]
     },
     "execution_count": 363,
     "metadata": {},
     "output_type": "execute_result"
    }
   ],
   "source": [
    "BTS = Singer()\n",
    "BTS.sing()"
   ]
  },
  {
   "cell_type": "markdown",
   "metadata": {},
   "source": [
    "    def sing(self):                # 노래부르기 메서드   \n",
    "        return \"SingSing!\"\n",
    "        \n",
    "위 코드에서 self 는 해당 클래스를 받는 객체(인스턴스) 자기자신을 의미 합니다.  \n",
    "  \n",
    "+ 그렇다면 self 를 사용한 이유는 무엇일까요?  \n",
    "\n",
    "`아이유`와 `방탄소년단`이 같은 sing 메서드를 가지기 때문에 서로 구별하기 위해서 사용한 것입니다.  \n",
    "메서드를 정의 할 때는 self를 꼭 써야되겠구나~ 생각하시면 됩니다. "
   ]
  },
  {
   "cell_type": "markdown",
   "metadata": {},
   "source": [
    "### 클래스 심화"
   ]
  },
  {
   "cell_type": "markdown",
   "metadata": {},
   "source": [
    "---------------\n",
    "**자 요번엔 조금 더 재미있는 게임 예제를 통해 클래스를 알아봅시다**  \n",
    "\n",
    "메이*스토리의 도적 캐릭터를 만들어 보겠습니다. "
   ]
  },
  {
   "cell_type": "code",
   "execution_count": 362,
   "metadata": {},
   "outputs": [],
   "source": [
    "class Dojeok:\n",
    "    Lev = 1\n",
    "    Str = 10\n",
    "    Dex = 50\n",
    "    Int = 10\n",
    "    Luck = 100\n",
    "\n",
    "    def attack(self):\n",
    "        return 'Pyo-Chang  : ~~~*'"
   ]
  },
  {
   "cell_type": "code",
   "execution_count": 338,
   "metadata": {},
   "outputs": [
    {
     "data": {
      "text/plain": [
       "100"
      ]
     },
     "execution_count": 338,
     "metadata": {},
     "output_type": "execute_result"
    }
   ],
   "source": [
    "Aruru = Dojeok()\n",
    "\n",
    "Aruru.Luck"
   ]
  },
  {
   "cell_type": "code",
   "execution_count": 339,
   "metadata": {},
   "outputs": [
    {
     "data": {
      "text/plain": [
       "'Pyo-Chang  : ~~~*'"
      ]
     },
     "execution_count": 339,
     "metadata": {},
     "output_type": "execute_result"
    }
   ],
   "source": [
    "Aruru.attack()"
   ]
  },
  {
   "cell_type": "markdown",
   "metadata": {},
   "source": [
    "공격을 하면 표창을 날리는 아루루 캐릭터를 만들었습니다.  \n",
    "\n",
    "사냥을 하면 능력치가 올라갈수 있도록 `hunting` 메소드를 추가해 볼까요?"
   ]
  },
  {
   "cell_type": "code",
   "execution_count": 353,
   "metadata": {},
   "outputs": [],
   "source": [
    "class Dojeok:\n",
    "    #클래스 변수 만들어 주기 \n",
    "    Lev = 1 \n",
    "    Str = 10\n",
    "    Dex = 50\n",
    "    Int = 10\n",
    "    Luck = 100\n",
    "\n",
    "    def attack(self):\n",
    "        return 'Pyo-Chang  : ~~~*'\n",
    "    \n",
    "    def hunting(self):\n",
    "        self.Lev += 1\n",
    "        self.Str += 1\n",
    "        self.Dex += 5\n",
    "        self.Int += 1\n",
    "        self.Luck += 10\n",
    "        return 'Level Up!'"
   ]
  },
  {
   "cell_type": "markdown",
   "metadata": {},
   "source": [
    "자 현재 레벨 과 능력치를 확인한 후  사냥을 해보겠습니다."
   ]
  },
  {
   "cell_type": "code",
   "execution_count": 354,
   "metadata": {},
   "outputs": [],
   "source": [
    "Aruru = Dojeok()"
   ]
  },
  {
   "cell_type": "code",
   "execution_count": 355,
   "metadata": {},
   "outputs": [
    {
     "data": {
      "text/plain": [
       "1"
      ]
     },
     "execution_count": 355,
     "metadata": {},
     "output_type": "execute_result"
    }
   ],
   "source": [
    "Aruru.Lev"
   ]
  },
  {
   "cell_type": "code",
   "execution_count": 356,
   "metadata": {},
   "outputs": [
    {
     "data": {
      "text/plain": [
       "100"
      ]
     },
     "execution_count": 356,
     "metadata": {},
     "output_type": "execute_result"
    }
   ],
   "source": [
    "Aruru.Luck"
   ]
  },
  {
   "cell_type": "code",
   "execution_count": 357,
   "metadata": {},
   "outputs": [
    {
     "data": {
      "text/plain": [
       "'Level Up!'"
      ]
     },
     "execution_count": 357,
     "metadata": {},
     "output_type": "execute_result"
    }
   ],
   "source": [
    "Aruru.hunting()"
   ]
  },
  {
   "cell_type": "code",
   "execution_count": 358,
   "metadata": {},
   "outputs": [
    {
     "data": {
      "text/plain": [
       "2"
      ]
     },
     "execution_count": 358,
     "metadata": {},
     "output_type": "execute_result"
    }
   ],
   "source": [
    "Aruru.Lev"
   ]
  },
  {
   "cell_type": "code",
   "execution_count": 359,
   "metadata": {},
   "outputs": [
    {
     "data": {
      "text/plain": [
       "110"
      ]
     },
     "execution_count": 359,
     "metadata": {},
     "output_type": "execute_result"
    }
   ],
   "source": [
    "Aruru.Luck"
   ]
  },
  {
   "cell_type": "markdown",
   "metadata": {},
   "source": [
    "레벨과 능력치가 오른것을 확인할 수 있죠?"
   ]
  },
  {
   "cell_type": "markdown",
   "metadata": {},
   "source": [
    "-----------------------\n",
    "***클래스의 상속***   \n",
    "객체 지향 프로그래밍의 가장 핵심 기능중 하나인 `상속`입니다.  \n",
    "상속이란 한 클래스가 다른 클래스의 성질을 물려받는 것을 말하는데요.\n",
    "\n",
    "어떤 클래스를 만들 때 처음부터 모든 것을 새로 만들 필요 없이, \n",
    "필요한 성질을 갖고 있는 다른 클래스로부터 상속을 받은 후 원하는 기능을 추가하면  \n",
    "더 빠르게 새로운 클래스를 만들 수 있습니다."
   ]
  },
  {
   "cell_type": "markdown",
   "metadata": {},
   "source": [
    "*위에서 만들어보았던 `Singer` 클래스를 상속받는 댄스가수: `Dancer` 클래스를 만들어 보겠습니다.*"
   ]
  },
  {
   "cell_type": "code",
   "execution_count": 381,
   "metadata": {},
   "outputs": [],
   "source": [
    "class Dancer(Singer):              # 댄스 클래스에 가수라는 클래스 상속\n",
    "    def dance(self):                \n",
    "        return \"!~Dance~ Dance~!\"\n"
   ]
  },
  {
   "cell_type": "markdown",
   "metadata": {},
   "source": [
    "기존 가수의 특징을 가지고 있고 새롭게 추가된 `Dance`메서드도 잘 추가가 되었는지 확인해 봅시다."
   ]
  },
  {
   "cell_type": "code",
   "execution_count": 382,
   "metadata": {},
   "outputs": [
    {
     "data": {
      "text/plain": [
       "'SingSing!'"
      ]
     },
     "execution_count": 382,
     "metadata": {},
     "output_type": "execute_result"
    }
   ],
   "source": [
    "JYP = Dancer()\n",
    "JYP.sing()"
   ]
  },
  {
   "cell_type": "code",
   "execution_count": 383,
   "metadata": {},
   "outputs": [
    {
     "data": {
      "text/plain": [
       "'!~Dance~ Dance~!'"
      ]
     },
     "execution_count": 383,
     "metadata": {},
     "output_type": "execute_result"
    }
   ],
   "source": [
    "JYP.dance()"
   ]
  },
  {
   "cell_type": "markdown",
   "metadata": {},
   "source": [
    "***자 요번에는 객체 변수를 갖는 클래스에 대해 알아봅시다.***"
   ]
  },
  {
   "cell_type": "markdown",
   "metadata": {},
   "source": [
    "두 수를 입력받아 사칙연산을 하는 계산기를 만들어 볼까요?"
   ]
  },
  {
   "cell_type": "code",
   "execution_count": 386,
   "metadata": {},
   "outputs": [],
   "source": [
    "class Calculator:\n",
    "    def setdata(self, first, second):\n",
    "        self.first = first\n",
    "        self.second = second\n",
    "        \n",
    "    def add(self):\n",
    "        result = self.first + self.second\n",
    "        return result\n",
    "    \n",
    "    def mul(self):\n",
    "        result = self.first * self.second\n",
    "        return result\n",
    "    \n",
    "    def sub(self):\n",
    "        result = self.first - self.second\n",
    "        return result\n",
    "    \n",
    "    def div(self):\n",
    "        result = self.first / self.second\n",
    "        return result"
   ]
  },
  {
   "cell_type": "code",
   "execution_count": 387,
   "metadata": {},
   "outputs": [],
   "source": [
    "Cal1 = Calculator()"
   ]
  },
  {
   "cell_type": "markdown",
   "metadata": {},
   "source": [
    "`setdata`메서드를 통해 두 수를 지정해준후 사칙연산을 시행해보겠습니다"
   ]
  },
  {
   "cell_type": "code",
   "execution_count": 398,
   "metadata": {},
   "outputs": [
    {
     "data": {
      "text/plain": [
       "8"
      ]
     },
     "execution_count": 398,
     "metadata": {},
     "output_type": "execute_result"
    }
   ],
   "source": [
    "Cal1.setdata(3,5)\n",
    "\n",
    "Cal1.add()"
   ]
  },
  {
   "cell_type": "code",
   "execution_count": 399,
   "metadata": {},
   "outputs": [
    {
     "data": {
      "text/plain": [
       "15"
      ]
     },
     "execution_count": 399,
     "metadata": {},
     "output_type": "execute_result"
    }
   ],
   "source": [
    "Cal1.mul()"
   ]
  },
  {
   "cell_type": "markdown",
   "metadata": {},
   "source": [
    "요번엔 `setdata` 를 지정하지 않은 `Cal2`를 만들어보겠습니다"
   ]
  },
  {
   "cell_type": "code",
   "execution_count": 400,
   "metadata": {},
   "outputs": [
    {
     "ename": "AttributeError",
     "evalue": "'Calculator' object has no attribute 'first'",
     "output_type": "error",
     "traceback": [
      "\u001b[1;31m---------------------------------------------------------------------------\u001b[0m",
      "\u001b[1;31mAttributeError\u001b[0m                            Traceback (most recent call last)",
      "\u001b[1;32m<ipython-input-400-52a6777b8c70>\u001b[0m in \u001b[0;36m<module>\u001b[1;34m\u001b[0m\n\u001b[0;32m      1\u001b[0m \u001b[0mCal2\u001b[0m \u001b[1;33m=\u001b[0m \u001b[0mCalculator\u001b[0m\u001b[1;33m(\u001b[0m\u001b[1;33m)\u001b[0m\u001b[1;33m\u001b[0m\u001b[1;33m\u001b[0m\u001b[0m\n\u001b[1;32m----> 2\u001b[1;33m \u001b[0mCal2\u001b[0m\u001b[1;33m.\u001b[0m\u001b[0madd\u001b[0m\u001b[1;33m(\u001b[0m\u001b[1;33m)\u001b[0m\u001b[1;33m\u001b[0m\u001b[1;33m\u001b[0m\u001b[0m\n\u001b[0m",
      "\u001b[1;32m<ipython-input-386-970635fd9580>\u001b[0m in \u001b[0;36madd\u001b[1;34m(self)\u001b[0m\n\u001b[0;32m      5\u001b[0m \u001b[1;33m\u001b[0m\u001b[0m\n\u001b[0;32m      6\u001b[0m     \u001b[1;32mdef\u001b[0m \u001b[0madd\u001b[0m\u001b[1;33m(\u001b[0m\u001b[0mself\u001b[0m\u001b[1;33m)\u001b[0m\u001b[1;33m:\u001b[0m\u001b[1;33m\u001b[0m\u001b[1;33m\u001b[0m\u001b[0m\n\u001b[1;32m----> 7\u001b[1;33m         \u001b[0mresult\u001b[0m \u001b[1;33m=\u001b[0m \u001b[0mself\u001b[0m\u001b[1;33m.\u001b[0m\u001b[0mfirst\u001b[0m \u001b[1;33m+\u001b[0m \u001b[0mself\u001b[0m\u001b[1;33m.\u001b[0m\u001b[0msecond\u001b[0m\u001b[1;33m\u001b[0m\u001b[1;33m\u001b[0m\u001b[0m\n\u001b[0m\u001b[0;32m      8\u001b[0m         \u001b[1;32mreturn\u001b[0m \u001b[0mresult\u001b[0m\u001b[1;33m\u001b[0m\u001b[1;33m\u001b[0m\u001b[0m\n\u001b[0;32m      9\u001b[0m \u001b[1;33m\u001b[0m\u001b[0m\n",
      "\u001b[1;31mAttributeError\u001b[0m: 'Calculator' object has no attribute 'first'"
     ]
    }
   ],
   "source": [
    "Cal2 = Calculator()\n",
    "Cal2.add()"
   ]
  },
  {
   "cell_type": "markdown",
   "metadata": {},
   "source": [
    "`setdata`를 지정해주지 않으면 위와 같이 오류가 발생합니다.  \n",
    "번거롭게 클래스를 생성하고 값을 집어 넣는 번거로움을 없애는 방법은 무엇일까요?  \n"
   ]
  },
  {
   "cell_type": "markdown",
   "metadata": {},
   "source": [
    "***생성자 이해하기 feat. __INIT__***"
   ]
  },
  {
   "cell_type": "markdown",
   "metadata": {},
   "source": [
    "초기값을 설정하고 싶을 때에는 생성자를 만들어 주면 됩니다.  `*생성자(Constructor)란 객체가 생성될 때 자동으로 호출되는 메서드*`  \n",
    "파이썬 메서드 이름으로 `__init__` 을 정의하여 사용하게 되면 자동으로 클래스가 만들어질때 호출됩니다.  "
   ]
  },
  {
   "cell_type": "code",
   "execution_count": 402,
   "metadata": {},
   "outputs": [],
   "source": [
    "class Calculator:\n",
    "    def __init__(self,first,second):\n",
    "        self.first = first\n",
    "        self.second = second\n",
    "        \n",
    "    def add(self):\n",
    "        result = self.first + self.second\n",
    "        return result\n",
    "    \n",
    "    def mul(self):\n",
    "        result = self.first * self.second\n",
    "        return result\n",
    "    \n",
    "    def sub(self):\n",
    "        result = self.first - self.second\n",
    "        return result\n",
    "    \n",
    "    def div(self):\n",
    "        result = self.first / self.second\n",
    "        return result"
   ]
  },
  {
   "cell_type": "code",
   "execution_count": 404,
   "metadata": {
    "scrolled": false
   },
   "outputs": [
    {
     "data": {
      "text/plain": [
       "-2"
      ]
     },
     "execution_count": 404,
     "metadata": {},
     "output_type": "execute_result"
    }
   ],
   "source": [
    "Cal3 = Calculator(3,5)\n",
    "Cal3.sub()"
   ]
  },
  {
   "cell_type": "markdown",
   "metadata": {},
   "source": [
    "`__init__`을 이용하여 초기값을 넣어주니 바로 함수를 사용할 수 있는 것을 확인할 수 있습니다. "
   ]
  },
  {
   "cell_type": "markdown",
   "metadata": {},
   "source": [
    "_________________________\n",
    "> ## 모듈과 라이브러리 \n",
    "+ 모듈 == 라이브러리 !\n",
    "\n",
    "모듈이란 함수와 클래스등을 모아 놓은 파이썬 파일입니다.  \n",
    "  \n",
    "만일 개발자가 되어 여러명이서 큰 프로그램을 만드는데  \n",
    "각각 모두가 매번 필요한 함수, 클래스, 변수를 만들어야 한다고 생각하면 매우 비효율적이라고 생각 들지 않나요?   \n",
    "이런 경우 모듈은 빛을 발합니다.  \n",
    "누군가 만들어놓은 모듈을 이용해 효율적으로 일을 처리할 수 있는 것이죠!  "
   ]
  },
  {
   "cell_type": "markdown",
   "metadata": {},
   "source": [
    "*아래의 예시를 보며 모듈 사용법을 익혀 봅시다*  "
   ]
  },
  {
   "cell_type": "code",
   "execution_count": 413,
   "metadata": {},
   "outputs": [],
   "source": [
    "import random  #random 이라는 모듈을 불러오겠다.\n",
    "\n",
    "a = random.random()  # random 모듈에서 random() 함수를 불러와 사용하겠다 \n",
    "\n",
    "b = random.randrange(1, 10) # random 모듈에서 randrange() 함수를 불러와 사용하겠다 \n",
    "                            # 이때 함수 에 대한 설명은 `shift`+`tab`을 눌러 볼 수 있습니다. \n",
    "\n",
    "c = ['a', 'b', 'c', 'd']    # 문자 리스트에 저장 \n",
    "\n",
    "d = random.choice(c)        #리스트중 랜덤 택 1"
   ]
  },
  {
   "cell_type": "code",
   "execution_count": 414,
   "metadata": {},
   "outputs": [
    {
     "data": {
      "text/plain": [
       "0.9664132689267877"
      ]
     },
     "execution_count": 414,
     "metadata": {},
     "output_type": "execute_result"
    }
   ],
   "source": [
    "a"
   ]
  },
  {
   "cell_type": "code",
   "execution_count": 415,
   "metadata": {},
   "outputs": [
    {
     "data": {
      "text/plain": [
       "8"
      ]
     },
     "execution_count": 415,
     "metadata": {},
     "output_type": "execute_result"
    }
   ],
   "source": [
    "b"
   ]
  },
  {
   "cell_type": "code",
   "execution_count": 416,
   "metadata": {},
   "outputs": [
    {
     "data": {
      "text/plain": [
       "['a', 'b', 'c', 'd']"
      ]
     },
     "execution_count": 416,
     "metadata": {},
     "output_type": "execute_result"
    }
   ],
   "source": [
    "c"
   ]
  },
  {
   "cell_type": "code",
   "execution_count": 417,
   "metadata": {},
   "outputs": [
    {
     "data": {
      "text/plain": [
       "'d'"
      ]
     },
     "execution_count": 417,
     "metadata": {},
     "output_type": "execute_result"
    }
   ],
   "source": [
    "d"
   ]
  },
  {
   "cell_type": "markdown",
   "metadata": {},
   "source": [
    "앞으로 배울 판다스와 머신러닝 분석도 이러한 모듈을 사용하여 데이터 분석을 시작 해볼 예정입니다."
   ]
  },
  {
   "cell_type": "markdown",
   "metadata": {},
   "source": [
    "> ## 판다스 기초  \n",
    "    판다스 라이브러리는 데이터를 수집하고 정리하는데 최적화된 도구 입니다.  \n",
    "    \n",
    "    윈도우 명령 프롬프트를 실행하여 판다스 라이브러리를 설치해줍시다  \n",
    "    `pip install pandas` 를 프롬프트 창에 입력해 주세요  \n",
    "    \n",
    "### 데이터 불러오기\n",
    "#### 1. 외부 파일 읽어오기 \n",
    "+ 1-1 csv 파일 \n",
    "데이터 값을 쉼표로 구분하고 있는 csv 파일 입니다.  \n",
    "저희는 pandas 를 이용하여 이 csv 파일을 읽어 올 겁니다.\n",
    "\n",
    "*아나콘다를 설치 하셨으므로 안하셔도 됩니다! *\n"
   ]
  },
  {
   "cell_type": "code",
   "execution_count": 21,
   "metadata": {},
   "outputs": [],
   "source": [
    "import pandas as pd   # pandas 를 불러오고 이를 매번 치기 힘드니 pd 로 축약 하여 사용하겠다\n",
    "\n",
    "df_sample = pd.read_csv(r'C:\\Users\\Damiano\\Desktop\\DACON 강의 자료 - 머신러닝 기초/df_sample.csv') #슬래시 써야됩니다.\n",
    "#df_sample 변수에  판다스에 있는 read_csv 함수를 통해 실습 파일을 불러옵시다.  \n"
   ]
  },
  {
   "cell_type": "code",
   "execution_count": 420,
   "metadata": {},
   "outputs": [
    {
     "data": {
      "text/html": [
       "<div>\n",
       "<style scoped>\n",
       "    .dataframe tbody tr th:only-of-type {\n",
       "        vertical-align: middle;\n",
       "    }\n",
       "\n",
       "    .dataframe tbody tr th {\n",
       "        vertical-align: top;\n",
       "    }\n",
       "\n",
       "    .dataframe thead th {\n",
       "        text-align: right;\n",
       "    }\n",
       "</style>\n",
       "<table border=\"1\" class=\"dataframe\">\n",
       "  <thead>\n",
       "    <tr style=\"text-align: right;\">\n",
       "      <th></th>\n",
       "      <th>name</th>\n",
       "      <th>algol</th>\n",
       "      <th>basic</th>\n",
       "      <th>c++</th>\n",
       "    </tr>\n",
       "  </thead>\n",
       "  <tbody>\n",
       "    <tr>\n",
       "      <td>0</td>\n",
       "      <td>Jerry</td>\n",
       "      <td>A</td>\n",
       "      <td>C</td>\n",
       "      <td>B+</td>\n",
       "    </tr>\n",
       "    <tr>\n",
       "      <td>1</td>\n",
       "      <td>Riah</td>\n",
       "      <td>A+</td>\n",
       "      <td>B</td>\n",
       "      <td>C</td>\n",
       "    </tr>\n",
       "    <tr>\n",
       "      <td>2</td>\n",
       "      <td>Paul</td>\n",
       "      <td>B</td>\n",
       "      <td>B+</td>\n",
       "      <td>C+</td>\n",
       "    </tr>\n",
       "  </tbody>\n",
       "</table>\n",
       "</div>"
      ],
      "text/plain": [
       "    name algol basic c++\n",
       "0  Jerry     A     C  B+\n",
       "1   Riah    A+     B   C\n",
       "2   Paul     B    B+  C+"
      ]
     },
     "execution_count": 420,
     "metadata": {},
     "output_type": "execute_result"
    }
   ],
   "source": [
    "df_sample"
   ]
  },
  {
   "cell_type": "markdown",
   "metadata": {},
   "source": [
    "### 판다스 자료구조 알아보기  \n",
    "+ 시리즈\n",
    "\n",
    "+ 데이터 프레임 \n"
   ]
  },
  {
   "cell_type": "markdown",
   "metadata": {},
   "source": [
    "#### `시리즈`  \n",
    "시리즈는 데이터가 순차적으로 나열된 1 차원 배열의 형태를 갖습니다.  \n",
    "![시리즈](https://t1.daumcdn.net/cfile/tistory/995809335BFBCC922B)"
   ]
  },
  {
   "cell_type": "markdown",
   "metadata": {},
   "source": [
    "\n",
    " **시리즈 만들기**  \n",
    "    딕셔너리와 시리즈의 구조가 비슷하여 딕셔너리를 시리즈로 변환하는 방법을 주로 사용합니다.  "
   ]
  },
  {
   "cell_type": "code",
   "execution_count": 436,
   "metadata": {},
   "outputs": [
    {
     "data": {
      "text/plain": [
       "{'english': 80, 'math': 100, 'science': 95}"
      ]
     },
     "execution_count": 436,
     "metadata": {},
     "output_type": "execute_result"
    }
   ],
   "source": [
    "score = {'english':80, 'math':100, 'science':95} # 위와 같이 딕셔너리를 만들어준 후 \n",
    "score"
   ]
  },
  {
   "cell_type": "code",
   "execution_count": 437,
   "metadata": {},
   "outputs": [
    {
     "data": {
      "text/plain": [
       "english     80\n",
       "math       100\n",
       "science     95\n",
       "dtype: int64"
      ]
     },
     "execution_count": 437,
     "metadata": {},
     "output_type": "execute_result"
    }
   ],
   "source": [
    "score_sr = pd.Series(score)  # 판다스에 있는 series 함수를 이용하여 딕셔너리를 시리즈 구조로 변환하여 새로운 변수에 저장!\n",
    "score_sr"
   ]
  },
  {
   "cell_type": "code",
   "execution_count": 438,
   "metadata": {},
   "outputs": [
    {
     "data": {
      "text/plain": [
       "Index(['english', 'math', 'science'], dtype='object')"
      ]
     },
     "execution_count": 438,
     "metadata": {},
     "output_type": "execute_result"
    }
   ],
   "source": [
    "# index 확인하기\n",
    "score_sr.index"
   ]
  },
  {
   "cell_type": "code",
   "execution_count": 439,
   "metadata": {},
   "outputs": [
    {
     "data": {
      "text/plain": [
       "array([ 80, 100,  95], dtype=int64)"
      ]
     },
     "execution_count": 439,
     "metadata": {},
     "output_type": "execute_result"
    }
   ],
   "source": [
    "# 데이터 값만 확인하기 \n",
    "score_sr.values"
   ]
  },
  {
   "cell_type": "markdown",
   "metadata": {},
   "source": [
    "#### `데이터 프레임`  \n",
    "데이터프레임은 2차원 배열 입니다.  \n",
    "\\\n",
    "행과 열로 만들어지는 2차원 배열 구조를 보면 엑셀과 다른 데이터베이스 구조와 굉장히 유사합니다.  \n",
    "앞에서 보았던 시리즈를 열 벡터라고 한다면 , 데이터 프레임은 여러게의 렬로 이루어진 2차원 벡터 혹은 행렬입니다.\n",
    "![데이터프레임](https://img1.daumcdn.net/thumb/R1280x0/?scode=mtistory2&fname=http%3A%2F%2Fcfile26.uf.tistory.com%2Fimage%2F99FD8D385BFBECE32D2149)"
   ]
  },
  {
   "cell_type": "markdown",
   "metadata": {},
   "source": [
    "**데이터 프레임 만들기**  \n",
    "데이터 프레임 또한 딕셔너리 형식으로 만든 후 데이터 프레임으로 변환하는 방식이 있습니다.  \n"
   ]
  },
  {
   "cell_type": "code",
   "execution_count": 442,
   "metadata": {},
   "outputs": [
    {
     "data": {
      "text/html": [
       "<div>\n",
       "<style scoped>\n",
       "    .dataframe tbody tr th:only-of-type {\n",
       "        vertical-align: middle;\n",
       "    }\n",
       "\n",
       "    .dataframe tbody tr th {\n",
       "        vertical-align: top;\n",
       "    }\n",
       "\n",
       "    .dataframe thead th {\n",
       "        text-align: right;\n",
       "    }\n",
       "</style>\n",
       "<table border=\"1\" class=\"dataframe\">\n",
       "  <thead>\n",
       "    <tr style=\"text-align: right;\">\n",
       "      <th></th>\n",
       "      <th>a0</th>\n",
       "      <th>a1</th>\n",
       "      <th>a2</th>\n",
       "      <th>a3</th>\n",
       "    </tr>\n",
       "  </thead>\n",
       "  <tbody>\n",
       "    <tr>\n",
       "      <td>0</td>\n",
       "      <td>1</td>\n",
       "      <td>4</td>\n",
       "      <td>7</td>\n",
       "      <td>10</td>\n",
       "    </tr>\n",
       "    <tr>\n",
       "      <td>1</td>\n",
       "      <td>2</td>\n",
       "      <td>5</td>\n",
       "      <td>8</td>\n",
       "      <td>11</td>\n",
       "    </tr>\n",
       "    <tr>\n",
       "      <td>2</td>\n",
       "      <td>3</td>\n",
       "      <td>6</td>\n",
       "      <td>9</td>\n",
       "      <td>12</td>\n",
       "    </tr>\n",
       "  </tbody>\n",
       "</table>\n",
       "</div>"
      ],
      "text/plain": [
       "   a0  a1  a2  a3\n",
       "0   1   4   7  10\n",
       "1   2   5   8  11\n",
       "2   3   6   9  12"
      ]
     },
     "execution_count": 442,
     "metadata": {},
     "output_type": "execute_result"
    }
   ],
   "source": [
    "import pandas as pd  \n",
    "\n",
    "#열이름을 key 로 하고 리스트를 value 로 갖는 딕셔너리 만들기 \n",
    "data = {'a0':[1,2,3], 'a1':[4,5,6], 'a2':[7,8,9],'a3':[10,11,12]}\n",
    "\n",
    "#판다스 데이터프레임으로 변환  \n",
    "df = pd.DataFrame(data)\n",
    "\n",
    "df"
   ]
  },
  {
   "cell_type": "markdown",
   "metadata": {},
   "source": [
    "***행 인덱스/열 이름 설정**  \n",
    " 2차원 배열을 DataFrame() 함수 인자로 전달하여 데이터 프레임으로 변환할 때 행 인덱스와 열 이름 속성을 사용자가 직접 지정할 수 있습니다.   \n",
    " > 인덱스에 '철수' '영희' 를 갖고   \n",
    " 열이름으로는 '나이','성별','학교' 배열을 갖는 데이터 프레임을 만들어 봅시다  "
   ]
  },
  {
   "cell_type": "code",
   "execution_count": 22,
   "metadata": {},
   "outputs": [
    {
     "data": {
      "text/html": [
       "<div>\n",
       "<style scoped>\n",
       "    .dataframe tbody tr th:only-of-type {\n",
       "        vertical-align: middle;\n",
       "    }\n",
       "\n",
       "    .dataframe tbody tr th {\n",
       "        vertical-align: top;\n",
       "    }\n",
       "\n",
       "    .dataframe thead th {\n",
       "        text-align: right;\n",
       "    }\n",
       "</style>\n",
       "<table border=\"1\" class=\"dataframe\">\n",
       "  <thead>\n",
       "    <tr style=\"text-align: right;\">\n",
       "      <th></th>\n",
       "      <th>나이</th>\n",
       "      <th>성별</th>\n",
       "      <th>학교</th>\n",
       "    </tr>\n",
       "  </thead>\n",
       "  <tbody>\n",
       "    <tr>\n",
       "      <td>철수</td>\n",
       "      <td>15</td>\n",
       "      <td>남자</td>\n",
       "      <td>신목중</td>\n",
       "    </tr>\n",
       "    <tr>\n",
       "      <td>영희</td>\n",
       "      <td>19</td>\n",
       "      <td>여자</td>\n",
       "      <td>여의도여고</td>\n",
       "    </tr>\n",
       "  </tbody>\n",
       "</table>\n",
       "</div>"
      ],
      "text/plain": [
       "    나이  성별     학교\n",
       "철수  15  남자    신목중\n",
       "영희  19  여자  여의도여고"
      ]
     },
     "execution_count": 22,
     "metadata": {},
     "output_type": "execute_result"
    }
   ],
   "source": [
    "\n",
    "df = pd.DataFrame([[15,'남자','신목중'],[19,'여자','여의도여고']],\n",
    "                 index =['철수','영희'],\n",
    "                 columns =['나이','성별','학교'])\n",
    "\n",
    "df"
   ]
  },
  {
   "cell_type": "markdown",
   "metadata": {},
   "source": [
    "> 행 인덱스와 열 인덱스를 변경하는 법도 알아봅시다."
   ]
  },
  {
   "cell_type": "code",
   "execution_count": 448,
   "metadata": {},
   "outputs": [
    {
     "data": {
      "text/html": [
       "<div>\n",
       "<style scoped>\n",
       "    .dataframe tbody tr th:only-of-type {\n",
       "        vertical-align: middle;\n",
       "    }\n",
       "\n",
       "    .dataframe tbody tr th {\n",
       "        vertical-align: top;\n",
       "    }\n",
       "\n",
       "    .dataframe thead th {\n",
       "        text-align: right;\n",
       "    }\n",
       "</style>\n",
       "<table border=\"1\" class=\"dataframe\">\n",
       "  <thead>\n",
       "    <tr style=\"text-align: right;\">\n",
       "      <th></th>\n",
       "      <th>age</th>\n",
       "      <th>sex</th>\n",
       "      <th>school</th>\n",
       "    </tr>\n",
       "  </thead>\n",
       "  <tbody>\n",
       "    <tr>\n",
       "      <td>재우</td>\n",
       "      <td>15</td>\n",
       "      <td>남자</td>\n",
       "      <td>신목중</td>\n",
       "    </tr>\n",
       "    <tr>\n",
       "      <td>재순</td>\n",
       "      <td>19</td>\n",
       "      <td>여자</td>\n",
       "      <td>여의도여고</td>\n",
       "    </tr>\n",
       "  </tbody>\n",
       "</table>\n",
       "</div>"
      ],
      "text/plain": [
       "    age sex school\n",
       "재우   15  남자    신목중\n",
       "재순   19  여자  여의도여고"
      ]
     },
     "execution_count": 448,
     "metadata": {},
     "output_type": "execute_result"
    }
   ],
   "source": [
    "df.index = ['재우','재순']\n",
    "df.columns =['age','sex','school']\n",
    "\n",
    "df"
   ]
  },
  {
   "cell_type": "markdown",
   "metadata": {},
   "source": [
    "> `rename()` 메서드를 이용하여 원본 객체를 변환하는 방법"
   ]
  },
  {
   "cell_type": "code",
   "execution_count": 451,
   "metadata": {},
   "outputs": [
    {
     "data": {
      "text/html": [
       "<div>\n",
       "<style scoped>\n",
       "    .dataframe tbody tr th:only-of-type {\n",
       "        vertical-align: middle;\n",
       "    }\n",
       "\n",
       "    .dataframe tbody tr th {\n",
       "        vertical-align: top;\n",
       "    }\n",
       "\n",
       "    .dataframe thead th {\n",
       "        text-align: right;\n",
       "    }\n",
       "</style>\n",
       "<table border=\"1\" class=\"dataframe\">\n",
       "  <thead>\n",
       "    <tr style=\"text-align: right;\">\n",
       "      <th></th>\n",
       "      <th>age</th>\n",
       "      <th>sex</th>\n",
       "      <th>school</th>\n",
       "    </tr>\n",
       "  </thead>\n",
       "  <tbody>\n",
       "    <tr>\n",
       "      <td>재우</td>\n",
       "      <td>15</td>\n",
       "      <td>남자</td>\n",
       "      <td>신목중</td>\n",
       "    </tr>\n",
       "    <tr>\n",
       "      <td>재순</td>\n",
       "      <td>19</td>\n",
       "      <td>여자</td>\n",
       "      <td>여의도여고</td>\n",
       "    </tr>\n",
       "  </tbody>\n",
       "</table>\n",
       "</div>"
      ],
      "text/plain": [
       "    age sex school\n",
       "재우   15  남자    신목중\n",
       "재순   19  여자  여의도여고"
      ]
     },
     "execution_count": 451,
     "metadata": {},
     "output_type": "execute_result"
    }
   ],
   "source": [
    "df.rename( columns = {'age':'나이','sex':'성별','school':'학교'})\n",
    "\n",
    "df.rename( index = {'재우':'지형','재순':'지수'})\n",
    "\n",
    "df\n",
    "\n",
    "# 인덱스와 열 이름이 변하지 않았는데요 "
   ]
  },
  {
   "cell_type": "code",
   "execution_count": 452,
   "metadata": {},
   "outputs": [
    {
     "data": {
      "text/html": [
       "<div>\n",
       "<style scoped>\n",
       "    .dataframe tbody tr th:only-of-type {\n",
       "        vertical-align: middle;\n",
       "    }\n",
       "\n",
       "    .dataframe tbody tr th {\n",
       "        vertical-align: top;\n",
       "    }\n",
       "\n",
       "    .dataframe thead th {\n",
       "        text-align: right;\n",
       "    }\n",
       "</style>\n",
       "<table border=\"1\" class=\"dataframe\">\n",
       "  <thead>\n",
       "    <tr style=\"text-align: right;\">\n",
       "      <th></th>\n",
       "      <th>나이</th>\n",
       "      <th>성별</th>\n",
       "      <th>학교</th>\n",
       "    </tr>\n",
       "  </thead>\n",
       "  <tbody>\n",
       "    <tr>\n",
       "      <td>지형</td>\n",
       "      <td>15</td>\n",
       "      <td>남자</td>\n",
       "      <td>신목중</td>\n",
       "    </tr>\n",
       "    <tr>\n",
       "      <td>지수</td>\n",
       "      <td>19</td>\n",
       "      <td>여자</td>\n",
       "      <td>여의도여고</td>\n",
       "    </tr>\n",
       "  </tbody>\n",
       "</table>\n",
       "</div>"
      ],
      "text/plain": [
       "    나이  성별     학교\n",
       "지형  15  남자    신목중\n",
       "지수  19  여자  여의도여고"
      ]
     },
     "execution_count": 452,
     "metadata": {},
     "output_type": "execute_result"
    }
   ],
   "source": [
    "# 아래와 같이 inplace = True 를 설정해주어야 원본 객체가 변경 됩니다\n",
    "df.rename( columns = {'age':'나이','sex':'성별','school':'학교'},inplace=True)\n",
    "\n",
    "df.rename( index = {'재우':'지형','재순':'지수'}, inplace=True)\n",
    "\n",
    "df\n"
   ]
  },
  {
   "cell_type": "markdown",
   "metadata": {},
   "source": [
    "> 행/열 삭제  \n",
    "\n",
    "데이터 프레임의 행/ 열을 삭제하는 명령으로는 `drop()` 메서드가 있습니다.  \n",
    "행을 삭제할때는 축(axis) 옵션으로 `axis=0` 을 입력하거나 별도로 입력하지않습니다.  \n",
    "열을 삭제할때는 `axis=1`을 입력하면 열이 삭제됩니다."
   ]
  },
  {
   "cell_type": "code",
   "execution_count": 487,
   "metadata": {},
   "outputs": [
    {
     "name": "stdout",
     "output_type": "stream",
     "text": [
      "     수학  영어   국어  체육\n",
      "재우  100  98   80  80\n",
      "지형   80  69   75  90\n",
      "성진   70  95  100  90\n",
      "\n",
      "\n",
      "     수학  영어   국어  체육\n",
      "재우  100  98   80  80\n",
      "성진   70  95  100  90\n",
      "\n",
      "\n",
      "     수학  영어  국어  체육\n",
      "재우  100  98  80  80\n"
     ]
    }
   ],
   "source": [
    "import pandas as pd\n",
    "\n",
    "# DataFrame() 함수로 데이터프레임 변환. 변수 df에 저장 \n",
    "exam_data = {'수학' : [ 100, 80, 70], '영어' : [ 98, 69, 95],\n",
    "             '국어' : [ 80, 75, 100], '체육' : [ 80, 90, 90]}\n",
    "\n",
    "df = pd.DataFrame(exam_data, index=['재우', '지형', '성진'])\n",
    "print(df)\n",
    "print('\\n')\n",
    "\n",
    "# 데이터프레임 df를 복제하여 변수 df2에 저장. df2의 1개 행(row)을 삭제\n",
    "df2 = df[:]\n",
    "df2.drop('지형', inplace=True)\n",
    "print(df2)\n",
    "print('\\n')\n",
    "\n",
    "# 데이터프레임 df를 복제하여 변수 df3에 저장. df3의 2개 행(row)을 삭제\n",
    "df3 = df[:]\n",
    "df3.drop(['지형', '성진'], axis=0, inplace=True)\n",
    "print(df3)"
   ]
  },
  {
   "cell_type": "code",
   "execution_count": 488,
   "metadata": {
    "scrolled": true
   },
   "outputs": [
    {
     "name": "stdout",
     "output_type": "stream",
     "text": [
      "    수학  영어   국어   체육\n",
      "재우  90  98   85  100\n",
      "지형  80  89   95   90\n",
      "성진  70  95  100   90\n",
      "\n",
      "\n",
      "    영어   국어   체육\n",
      "재우  98   85  100\n",
      "지형  89   95   90\n",
      "성진  95  100   90\n",
      "\n",
      "\n",
      "    수학   체육\n",
      "재우  90  100\n",
      "지형  80   90\n",
      "성진  70   90\n"
     ]
    }
   ],
   "source": [
    "import pandas as pd\n",
    "\n",
    "# DataFrame() 함수로 데이터프레임 변환. 변수 df에 저장 \n",
    "exam_data = {'수학' : [ 90, 80, 70], '영어' : [ 98, 89, 95],\n",
    "             '국어' : [ 85, 95, 100], '체육' : [ 100, 90, 90]}\n",
    "\n",
    "df = pd.DataFrame(exam_data, index=['재우', '지형', '성진'])\n",
    "print(df)\n",
    "print('\\n')\n",
    "\n",
    "# 데이터프레임 df를 복제하여 변수 df4에 저장. df4의 1개 열(column)을 삭제\n",
    "df4 = df[:]\n",
    "df4.drop('수학', axis=1, inplace=True)\n",
    "print(df4)\n",
    "print('\\n')\n",
    "\n",
    "# 데이터프레임 df를 복제하여 변수 df5에 저장. df5의 2개 열(column)을 삭제\n",
    "df5 = df[:]\n",
    "df5.drop(['영어', '국어'], axis=1, inplace=True)\n",
    "print(df5)"
   ]
  },
  {
   "cell_type": "markdown",
   "metadata": {},
   "source": [
    "> **데이터 프레임  `행`  선택하기**  \n",
    "데이터 프레임의 행 데이터를 선택하기 위해서는 `loc` 와 `iloc` 인덱서를 사용합니다.  \n",
    "인덱스 이름으로 행을 선택할 때에는 loc를 이용하고 , 위치로 인덱스를 사용할 때에는 iloc를 사용합니다.  \n",
    "![행선택0](https://dandyrilla.github.io/images/2017-08-12/fig3.png?gray)\n",
    "![행선택](https://dandyrilla.github.io/images/2017-08-12/fig8.png)"
   ]
  },
  {
   "cell_type": "markdown",
   "metadata": {},
   "source": [
    "**행 선택하기 실습**"
   ]
  },
  {
   "cell_type": "code",
   "execution_count": 489,
   "metadata": {
    "scrolled": true
   },
   "outputs": [
    {
     "data": {
      "text/html": [
       "<div>\n",
       "<style scoped>\n",
       "    .dataframe tbody tr th:only-of-type {\n",
       "        vertical-align: middle;\n",
       "    }\n",
       "\n",
       "    .dataframe tbody tr th {\n",
       "        vertical-align: top;\n",
       "    }\n",
       "\n",
       "    .dataframe thead th {\n",
       "        text-align: right;\n",
       "    }\n",
       "</style>\n",
       "<table border=\"1\" class=\"dataframe\">\n",
       "  <thead>\n",
       "    <tr style=\"text-align: right;\">\n",
       "      <th></th>\n",
       "      <th>수학</th>\n",
       "      <th>영어</th>\n",
       "      <th>국어</th>\n",
       "      <th>체육</th>\n",
       "    </tr>\n",
       "  </thead>\n",
       "  <tbody>\n",
       "    <tr>\n",
       "      <td>재우</td>\n",
       "      <td>90</td>\n",
       "      <td>98</td>\n",
       "      <td>85</td>\n",
       "      <td>100</td>\n",
       "    </tr>\n",
       "    <tr>\n",
       "      <td>지형</td>\n",
       "      <td>80</td>\n",
       "      <td>89</td>\n",
       "      <td>95</td>\n",
       "      <td>90</td>\n",
       "    </tr>\n",
       "    <tr>\n",
       "      <td>성진</td>\n",
       "      <td>70</td>\n",
       "      <td>95</td>\n",
       "      <td>100</td>\n",
       "      <td>90</td>\n",
       "    </tr>\n",
       "  </tbody>\n",
       "</table>\n",
       "</div>"
      ],
      "text/plain": [
       "    수학  영어   국어   체육\n",
       "재우  90  98   85  100\n",
       "지형  80  89   95   90\n",
       "성진  70  95  100   90"
      ]
     },
     "execution_count": 489,
     "metadata": {},
     "output_type": "execute_result"
    }
   ],
   "source": [
    "df"
   ]
  },
  {
   "cell_type": "markdown",
   "metadata": {},
   "source": [
    "**행선택하기**  \n",
    "`재우` 와 `지형`의 성적을 뽑아내 봅시다 \n"
   ]
  },
  {
   "cell_type": "code",
   "execution_count": 490,
   "metadata": {
    "scrolled": true
   },
   "outputs": [
    {
     "data": {
      "text/html": [
       "<div>\n",
       "<style scoped>\n",
       "    .dataframe tbody tr th:only-of-type {\n",
       "        vertical-align: middle;\n",
       "    }\n",
       "\n",
       "    .dataframe tbody tr th {\n",
       "        vertical-align: top;\n",
       "    }\n",
       "\n",
       "    .dataframe thead th {\n",
       "        text-align: right;\n",
       "    }\n",
       "</style>\n",
       "<table border=\"1\" class=\"dataframe\">\n",
       "  <thead>\n",
       "    <tr style=\"text-align: right;\">\n",
       "      <th></th>\n",
       "      <th>수학</th>\n",
       "      <th>영어</th>\n",
       "      <th>국어</th>\n",
       "      <th>체육</th>\n",
       "    </tr>\n",
       "  </thead>\n",
       "  <tbody>\n",
       "    <tr>\n",
       "      <td>재우</td>\n",
       "      <td>90</td>\n",
       "      <td>98</td>\n",
       "      <td>85</td>\n",
       "      <td>100</td>\n",
       "    </tr>\n",
       "    <tr>\n",
       "      <td>지형</td>\n",
       "      <td>80</td>\n",
       "      <td>89</td>\n",
       "      <td>95</td>\n",
       "      <td>90</td>\n",
       "    </tr>\n",
       "  </tbody>\n",
       "</table>\n",
       "</div>"
      ],
      "text/plain": [
       "    수학  영어  국어   체육\n",
       "재우  90  98  85  100\n",
       "지형  80  89  95   90"
      ]
     },
     "execution_count": 490,
     "metadata": {},
     "output_type": "execute_result"
    }
   ],
   "source": [
    "#loc 사용\n",
    "df.loc[['재우','지형']]"
   ]
  },
  {
   "cell_type": "code",
   "execution_count": 491,
   "metadata": {
    "scrolled": true
   },
   "outputs": [
    {
     "data": {
      "text/html": [
       "<div>\n",
       "<style scoped>\n",
       "    .dataframe tbody tr th:only-of-type {\n",
       "        vertical-align: middle;\n",
       "    }\n",
       "\n",
       "    .dataframe tbody tr th {\n",
       "        vertical-align: top;\n",
       "    }\n",
       "\n",
       "    .dataframe thead th {\n",
       "        text-align: right;\n",
       "    }\n",
       "</style>\n",
       "<table border=\"1\" class=\"dataframe\">\n",
       "  <thead>\n",
       "    <tr style=\"text-align: right;\">\n",
       "      <th></th>\n",
       "      <th>수학</th>\n",
       "      <th>영어</th>\n",
       "      <th>국어</th>\n",
       "      <th>체육</th>\n",
       "    </tr>\n",
       "  </thead>\n",
       "  <tbody>\n",
       "    <tr>\n",
       "      <td>재우</td>\n",
       "      <td>90</td>\n",
       "      <td>98</td>\n",
       "      <td>85</td>\n",
       "      <td>100</td>\n",
       "    </tr>\n",
       "    <tr>\n",
       "      <td>지형</td>\n",
       "      <td>80</td>\n",
       "      <td>89</td>\n",
       "      <td>95</td>\n",
       "      <td>90</td>\n",
       "    </tr>\n",
       "  </tbody>\n",
       "</table>\n",
       "</div>"
      ],
      "text/plain": [
       "    수학  영어  국어   체육\n",
       "재우  90  98  85  100\n",
       "지형  80  89  95   90"
      ]
     },
     "execution_count": 491,
     "metadata": {},
     "output_type": "execute_result"
    }
   ],
   "source": [
    "#iloc 사용\n",
    "df.iloc[[0,1]]"
   ]
  },
  {
   "cell_type": "markdown",
   "metadata": {},
   "source": [
    "**범위를 이용하여 행 뽑아내기**  \n",
    "` : ` 사용하여 범위 지정하기 "
   ]
  },
  {
   "cell_type": "code",
   "execution_count": 492,
   "metadata": {},
   "outputs": [
    {
     "data": {
      "text/html": [
       "<div>\n",
       "<style scoped>\n",
       "    .dataframe tbody tr th:only-of-type {\n",
       "        vertical-align: middle;\n",
       "    }\n",
       "\n",
       "    .dataframe tbody tr th {\n",
       "        vertical-align: top;\n",
       "    }\n",
       "\n",
       "    .dataframe thead th {\n",
       "        text-align: right;\n",
       "    }\n",
       "</style>\n",
       "<table border=\"1\" class=\"dataframe\">\n",
       "  <thead>\n",
       "    <tr style=\"text-align: right;\">\n",
       "      <th></th>\n",
       "      <th>수학</th>\n",
       "      <th>영어</th>\n",
       "      <th>국어</th>\n",
       "      <th>체육</th>\n",
       "    </tr>\n",
       "  </thead>\n",
       "  <tbody>\n",
       "    <tr>\n",
       "      <td>재우</td>\n",
       "      <td>90</td>\n",
       "      <td>98</td>\n",
       "      <td>85</td>\n",
       "      <td>100</td>\n",
       "    </tr>\n",
       "    <tr>\n",
       "      <td>지형</td>\n",
       "      <td>80</td>\n",
       "      <td>89</td>\n",
       "      <td>95</td>\n",
       "      <td>90</td>\n",
       "    </tr>\n",
       "    <tr>\n",
       "      <td>성진</td>\n",
       "      <td>70</td>\n",
       "      <td>95</td>\n",
       "      <td>100</td>\n",
       "      <td>90</td>\n",
       "    </tr>\n",
       "  </tbody>\n",
       "</table>\n",
       "</div>"
      ],
      "text/plain": [
       "    수학  영어   국어   체육\n",
       "재우  90  98   85  100\n",
       "지형  80  89   95   90\n",
       "성진  70  95  100   90"
      ]
     },
     "execution_count": 492,
     "metadata": {},
     "output_type": "execute_result"
    }
   ],
   "source": [
    "df.loc['재우':'성진'] # 이름으로 인덱싱 할경우 마지막 포함 \n",
    "## 재우 부터 성진 까지 행을 뽑아냅니다  \n",
    "### loc 를 이용할 때에는 마지막 까지 포함됩니다 "
   ]
  },
  {
   "cell_type": "code",
   "execution_count": 493,
   "metadata": {},
   "outputs": [
    {
     "data": {
      "text/html": [
       "<div>\n",
       "<style scoped>\n",
       "    .dataframe tbody tr th:only-of-type {\n",
       "        vertical-align: middle;\n",
       "    }\n",
       "\n",
       "    .dataframe tbody tr th {\n",
       "        vertical-align: top;\n",
       "    }\n",
       "\n",
       "    .dataframe thead th {\n",
       "        text-align: right;\n",
       "    }\n",
       "</style>\n",
       "<table border=\"1\" class=\"dataframe\">\n",
       "  <thead>\n",
       "    <tr style=\"text-align: right;\">\n",
       "      <th></th>\n",
       "      <th>수학</th>\n",
       "      <th>영어</th>\n",
       "      <th>국어</th>\n",
       "      <th>체육</th>\n",
       "    </tr>\n",
       "  </thead>\n",
       "  <tbody>\n",
       "    <tr>\n",
       "      <td>재우</td>\n",
       "      <td>90</td>\n",
       "      <td>98</td>\n",
       "      <td>85</td>\n",
       "      <td>100</td>\n",
       "    </tr>\n",
       "    <tr>\n",
       "      <td>지형</td>\n",
       "      <td>80</td>\n",
       "      <td>89</td>\n",
       "      <td>95</td>\n",
       "      <td>90</td>\n",
       "    </tr>\n",
       "    <tr>\n",
       "      <td>성진</td>\n",
       "      <td>70</td>\n",
       "      <td>95</td>\n",
       "      <td>100</td>\n",
       "      <td>90</td>\n",
       "    </tr>\n",
       "  </tbody>\n",
       "</table>\n",
       "</div>"
      ],
      "text/plain": [
       "    수학  영어   국어   체육\n",
       "재우  90  98   85  100\n",
       "지형  80  89   95   90\n",
       "성진  70  95  100   90"
      ]
     },
     "execution_count": 493,
     "metadata": {},
     "output_type": "execute_result"
    }
   ],
   "source": [
    "df.iloc[0:3] "
   ]
  },
  {
   "cell_type": "markdown",
   "metadata": {},
   "source": [
    "> #### 데이터 프레임 열 선택하기  \n",
    "열 데이터를 1개 선택할 때는 , 대괄호(`[]`) 안에 열 이름을 따옴표`''` 와 함께 입력하거나  \n",
    "도트`.`다음에 열 이름을 입력하는 두가지 방식을 사용합니다.  \n",
    "![0](https://dandyrilla.github.io/images/2017-08-12/fig1.png?gray)  \n",
    "![1](https://dandyrilla.github.io/images/2017-08-12/fig2.png?gray)"
   ]
  },
  {
   "cell_type": "markdown",
   "metadata": {},
   "source": [
    "**열 선택하기 실습**  "
   ]
  },
  {
   "cell_type": "code",
   "execution_count": 494,
   "metadata": {
    "scrolled": true
   },
   "outputs": [
    {
     "data": {
      "text/html": [
       "<div>\n",
       "<style scoped>\n",
       "    .dataframe tbody tr th:only-of-type {\n",
       "        vertical-align: middle;\n",
       "    }\n",
       "\n",
       "    .dataframe tbody tr th {\n",
       "        vertical-align: top;\n",
       "    }\n",
       "\n",
       "    .dataframe thead th {\n",
       "        text-align: right;\n",
       "    }\n",
       "</style>\n",
       "<table border=\"1\" class=\"dataframe\">\n",
       "  <thead>\n",
       "    <tr style=\"text-align: right;\">\n",
       "      <th></th>\n",
       "      <th>수학</th>\n",
       "      <th>영어</th>\n",
       "      <th>국어</th>\n",
       "      <th>체육</th>\n",
       "    </tr>\n",
       "  </thead>\n",
       "  <tbody>\n",
       "    <tr>\n",
       "      <td>재우</td>\n",
       "      <td>90</td>\n",
       "      <td>98</td>\n",
       "      <td>85</td>\n",
       "      <td>100</td>\n",
       "    </tr>\n",
       "    <tr>\n",
       "      <td>지형</td>\n",
       "      <td>80</td>\n",
       "      <td>89</td>\n",
       "      <td>95</td>\n",
       "      <td>90</td>\n",
       "    </tr>\n",
       "    <tr>\n",
       "      <td>성진</td>\n",
       "      <td>70</td>\n",
       "      <td>95</td>\n",
       "      <td>100</td>\n",
       "      <td>90</td>\n",
       "    </tr>\n",
       "  </tbody>\n",
       "</table>\n",
       "</div>"
      ],
      "text/plain": [
       "    수학  영어   국어   체육\n",
       "재우  90  98   85  100\n",
       "지형  80  89   95   90\n",
       "성진  70  95  100   90"
      ]
     },
     "execution_count": 494,
     "metadata": {},
     "output_type": "execute_result"
    }
   ],
   "source": [
    "df"
   ]
  },
  {
   "cell_type": "code",
   "execution_count": 495,
   "metadata": {
    "scrolled": true
   },
   "outputs": [
    {
     "data": {
      "text/plain": [
       "재우    90\n",
       "지형    80\n",
       "성진    70\n",
       "Name: 수학, dtype: int64"
      ]
     },
     "execution_count": 495,
     "metadata": {},
     "output_type": "execute_result"
    }
   ],
   "source": [
    "df.수학"
   ]
  },
  {
   "cell_type": "code",
   "execution_count": 496,
   "metadata": {
    "scrolled": true
   },
   "outputs": [
    {
     "data": {
      "text/html": [
       "<div>\n",
       "<style scoped>\n",
       "    .dataframe tbody tr th:only-of-type {\n",
       "        vertical-align: middle;\n",
       "    }\n",
       "\n",
       "    .dataframe tbody tr th {\n",
       "        vertical-align: top;\n",
       "    }\n",
       "\n",
       "    .dataframe thead th {\n",
       "        text-align: right;\n",
       "    }\n",
       "</style>\n",
       "<table border=\"1\" class=\"dataframe\">\n",
       "  <thead>\n",
       "    <tr style=\"text-align: right;\">\n",
       "      <th></th>\n",
       "      <th>국어</th>\n",
       "      <th>영어</th>\n",
       "    </tr>\n",
       "  </thead>\n",
       "  <tbody>\n",
       "    <tr>\n",
       "      <td>재우</td>\n",
       "      <td>85</td>\n",
       "      <td>98</td>\n",
       "    </tr>\n",
       "    <tr>\n",
       "      <td>지형</td>\n",
       "      <td>95</td>\n",
       "      <td>89</td>\n",
       "    </tr>\n",
       "    <tr>\n",
       "      <td>성진</td>\n",
       "      <td>100</td>\n",
       "      <td>95</td>\n",
       "    </tr>\n",
       "  </tbody>\n",
       "</table>\n",
       "</div>"
      ],
      "text/plain": [
       "     국어  영어\n",
       "재우   85  98\n",
       "지형   95  89\n",
       "성진  100  95"
      ]
     },
     "execution_count": 496,
     "metadata": {},
     "output_type": "execute_result"
    }
   ],
   "source": [
    "df[['국어','영어']]"
   ]
  },
  {
   "cell_type": "markdown",
   "metadata": {},
   "source": [
    "***범위 슬라이싱 고급 활용***  \n",
    "loc 와 iloc 를 이용하여 원하는 부분을 자유자재로 가져와 사용해 봅시다  \n",
    "\n",
    "> df.loc[`행 좌표`,`열 좌표`]   \n",
    "  \n",
    "  \n",
    "> df.iloc[`행 좌표`,`열 좌표`] "
   ]
  },
  {
   "cell_type": "code",
   "execution_count": 497,
   "metadata": {},
   "outputs": [
    {
     "data": {
      "text/html": [
       "<div>\n",
       "<style scoped>\n",
       "    .dataframe tbody tr th:only-of-type {\n",
       "        vertical-align: middle;\n",
       "    }\n",
       "\n",
       "    .dataframe tbody tr th {\n",
       "        vertical-align: top;\n",
       "    }\n",
       "\n",
       "    .dataframe thead th {\n",
       "        text-align: right;\n",
       "    }\n",
       "</style>\n",
       "<table border=\"1\" class=\"dataframe\">\n",
       "  <thead>\n",
       "    <tr style=\"text-align: right;\">\n",
       "      <th></th>\n",
       "      <th>수학</th>\n",
       "      <th>영어</th>\n",
       "      <th>국어</th>\n",
       "      <th>체육</th>\n",
       "    </tr>\n",
       "  </thead>\n",
       "  <tbody>\n",
       "    <tr>\n",
       "      <td>재우</td>\n",
       "      <td>90</td>\n",
       "      <td>98</td>\n",
       "      <td>85</td>\n",
       "      <td>100</td>\n",
       "    </tr>\n",
       "    <tr>\n",
       "      <td>지형</td>\n",
       "      <td>80</td>\n",
       "      <td>89</td>\n",
       "      <td>95</td>\n",
       "      <td>90</td>\n",
       "    </tr>\n",
       "    <tr>\n",
       "      <td>성진</td>\n",
       "      <td>70</td>\n",
       "      <td>95</td>\n",
       "      <td>100</td>\n",
       "      <td>90</td>\n",
       "    </tr>\n",
       "  </tbody>\n",
       "</table>\n",
       "</div>"
      ],
      "text/plain": [
       "    수학  영어   국어   체육\n",
       "재우  90  98   85  100\n",
       "지형  80  89   95   90\n",
       "성진  70  95  100   90"
      ]
     },
     "execution_count": 497,
     "metadata": {},
     "output_type": "execute_result"
    }
   ],
   "source": [
    "df"
   ]
  },
  {
   "cell_type": "markdown",
   "metadata": {},
   "source": [
    "    재우와 성진이의 영어와 국어점수 뽑아내기"
   ]
  },
  {
   "cell_type": "code",
   "execution_count": 498,
   "metadata": {
    "scrolled": true
   },
   "outputs": [
    {
     "data": {
      "text/html": [
       "<div>\n",
       "<style scoped>\n",
       "    .dataframe tbody tr th:only-of-type {\n",
       "        vertical-align: middle;\n",
       "    }\n",
       "\n",
       "    .dataframe tbody tr th {\n",
       "        vertical-align: top;\n",
       "    }\n",
       "\n",
       "    .dataframe thead th {\n",
       "        text-align: right;\n",
       "    }\n",
       "</style>\n",
       "<table border=\"1\" class=\"dataframe\">\n",
       "  <thead>\n",
       "    <tr style=\"text-align: right;\">\n",
       "      <th></th>\n",
       "      <th>영어</th>\n",
       "      <th>국어</th>\n",
       "    </tr>\n",
       "  </thead>\n",
       "  <tbody>\n",
       "    <tr>\n",
       "      <td>재우</td>\n",
       "      <td>98</td>\n",
       "      <td>85</td>\n",
       "    </tr>\n",
       "    <tr>\n",
       "      <td>성진</td>\n",
       "      <td>95</td>\n",
       "      <td>100</td>\n",
       "    </tr>\n",
       "  </tbody>\n",
       "</table>\n",
       "</div>"
      ],
      "text/plain": [
       "    영어   국어\n",
       "재우  98   85\n",
       "성진  95  100"
      ]
     },
     "execution_count": 498,
     "metadata": {},
     "output_type": "execute_result"
    }
   ],
   "source": [
    "df.loc[['재우','성진'] , ['영어','국어']]"
   ]
  },
  {
   "cell_type": "markdown",
   "metadata": {},
   "source": [
    "> #### 열과 행 추가하기 "
   ]
  },
  {
   "cell_type": "code",
   "execution_count": 499,
   "metadata": {},
   "outputs": [
    {
     "data": {
      "text/html": [
       "<div>\n",
       "<style scoped>\n",
       "    .dataframe tbody tr th:only-of-type {\n",
       "        vertical-align: middle;\n",
       "    }\n",
       "\n",
       "    .dataframe tbody tr th {\n",
       "        vertical-align: top;\n",
       "    }\n",
       "\n",
       "    .dataframe thead th {\n",
       "        text-align: right;\n",
       "    }\n",
       "</style>\n",
       "<table border=\"1\" class=\"dataframe\">\n",
       "  <thead>\n",
       "    <tr style=\"text-align: right;\">\n",
       "      <th></th>\n",
       "      <th>수학</th>\n",
       "      <th>영어</th>\n",
       "      <th>국어</th>\n",
       "      <th>체육</th>\n",
       "      <th>미술</th>\n",
       "    </tr>\n",
       "  </thead>\n",
       "  <tbody>\n",
       "    <tr>\n",
       "      <td>재우</td>\n",
       "      <td>90</td>\n",
       "      <td>98</td>\n",
       "      <td>85</td>\n",
       "      <td>100</td>\n",
       "      <td>90</td>\n",
       "    </tr>\n",
       "    <tr>\n",
       "      <td>지형</td>\n",
       "      <td>80</td>\n",
       "      <td>89</td>\n",
       "      <td>95</td>\n",
       "      <td>90</td>\n",
       "      <td>100</td>\n",
       "    </tr>\n",
       "    <tr>\n",
       "      <td>성진</td>\n",
       "      <td>70</td>\n",
       "      <td>95</td>\n",
       "      <td>100</td>\n",
       "      <td>90</td>\n",
       "      <td>95</td>\n",
       "    </tr>\n",
       "  </tbody>\n",
       "</table>\n",
       "</div>"
      ],
      "text/plain": [
       "    수학  영어   국어   체육   미술\n",
       "재우  90  98   85  100   90\n",
       "지형  80  89   95   90  100\n",
       "성진  70  95  100   90   95"
      ]
     },
     "execution_count": 499,
     "metadata": {},
     "output_type": "execute_result"
    }
   ],
   "source": [
    "# 열 추가 \n",
    "## 미술 과목의 성적을 추가 해봅시다\n",
    "## 재우:90  지형:100 성진:95\n",
    "\n",
    "df['미술'] = [90,100, 95]\n",
    "\n",
    "df"
   ]
  },
  {
   "cell_type": "code",
   "execution_count": 502,
   "metadata": {},
   "outputs": [
    {
     "data": {
      "text/html": [
       "<div>\n",
       "<style scoped>\n",
       "    .dataframe tbody tr th:only-of-type {\n",
       "        vertical-align: middle;\n",
       "    }\n",
       "\n",
       "    .dataframe tbody tr th {\n",
       "        vertical-align: top;\n",
       "    }\n",
       "\n",
       "    .dataframe thead th {\n",
       "        text-align: right;\n",
       "    }\n",
       "</style>\n",
       "<table border=\"1\" class=\"dataframe\">\n",
       "  <thead>\n",
       "    <tr style=\"text-align: right;\">\n",
       "      <th></th>\n",
       "      <th>수학</th>\n",
       "      <th>영어</th>\n",
       "      <th>국어</th>\n",
       "      <th>체육</th>\n",
       "      <th>미술</th>\n",
       "    </tr>\n",
       "  </thead>\n",
       "  <tbody>\n",
       "    <tr>\n",
       "      <td>재우</td>\n",
       "      <td>90</td>\n",
       "      <td>98</td>\n",
       "      <td>85</td>\n",
       "      <td>100</td>\n",
       "      <td>90</td>\n",
       "    </tr>\n",
       "    <tr>\n",
       "      <td>지형</td>\n",
       "      <td>80</td>\n",
       "      <td>89</td>\n",
       "      <td>95</td>\n",
       "      <td>90</td>\n",
       "      <td>100</td>\n",
       "    </tr>\n",
       "    <tr>\n",
       "      <td>성진</td>\n",
       "      <td>70</td>\n",
       "      <td>95</td>\n",
       "      <td>100</td>\n",
       "      <td>90</td>\n",
       "      <td>95</td>\n",
       "    </tr>\n",
       "    <tr>\n",
       "      <td>형선</td>\n",
       "      <td>90</td>\n",
       "      <td>95</td>\n",
       "      <td>100</td>\n",
       "      <td>95</td>\n",
       "      <td>90</td>\n",
       "    </tr>\n",
       "  </tbody>\n",
       "</table>\n",
       "</div>"
      ],
      "text/plain": [
       "    수학  영어   국어   체육   미술\n",
       "재우  90  98   85  100   90\n",
       "지형  80  89   95   90  100\n",
       "성진  70  95  100   90   95\n",
       "형선  90  95  100   95   90"
      ]
     },
     "execution_count": 502,
     "metadata": {},
     "output_type": "execute_result"
    }
   ],
   "source": [
    "# 행 추가 \n",
    "## 형선 친구의 성적을 추가해봅시다 \n",
    "## 수학;90  영어:95  국어;100  체육:95  미술:90\n",
    "\n",
    "df.loc['형선'] = [90, 95, 100, 95, 90]\n",
    "df"
   ]
  },
  {
   "cell_type": "markdown",
   "metadata": {},
   "source": [
    "> #### 원소 값 변경 하기"
   ]
  },
  {
   "cell_type": "code",
   "execution_count": 505,
   "metadata": {},
   "outputs": [
    {
     "data": {
      "text/html": [
       "<div>\n",
       "<style scoped>\n",
       "    .dataframe tbody tr th:only-of-type {\n",
       "        vertical-align: middle;\n",
       "    }\n",
       "\n",
       "    .dataframe tbody tr th {\n",
       "        vertical-align: top;\n",
       "    }\n",
       "\n",
       "    .dataframe thead th {\n",
       "        text-align: right;\n",
       "    }\n",
       "</style>\n",
       "<table border=\"1\" class=\"dataframe\">\n",
       "  <thead>\n",
       "    <tr style=\"text-align: right;\">\n",
       "      <th></th>\n",
       "      <th>수학</th>\n",
       "      <th>영어</th>\n",
       "      <th>국어</th>\n",
       "      <th>체육</th>\n",
       "      <th>미술</th>\n",
       "    </tr>\n",
       "  </thead>\n",
       "  <tbody>\n",
       "    <tr>\n",
       "      <td>재우</td>\n",
       "      <td>90</td>\n",
       "      <td>98</td>\n",
       "      <td>100</td>\n",
       "      <td>50</td>\n",
       "      <td>90</td>\n",
       "    </tr>\n",
       "    <tr>\n",
       "      <td>지형</td>\n",
       "      <td>80</td>\n",
       "      <td>89</td>\n",
       "      <td>95</td>\n",
       "      <td>90</td>\n",
       "      <td>100</td>\n",
       "    </tr>\n",
       "    <tr>\n",
       "      <td>성진</td>\n",
       "      <td>70</td>\n",
       "      <td>95</td>\n",
       "      <td>100</td>\n",
       "      <td>90</td>\n",
       "      <td>95</td>\n",
       "    </tr>\n",
       "    <tr>\n",
       "      <td>형선</td>\n",
       "      <td>90</td>\n",
       "      <td>95</td>\n",
       "      <td>100</td>\n",
       "      <td>95</td>\n",
       "      <td>90</td>\n",
       "    </tr>\n",
       "  </tbody>\n",
       "</table>\n",
       "</div>"
      ],
      "text/plain": [
       "    수학  영어   국어  체육   미술\n",
       "재우  90  98  100  50   90\n",
       "지형  80  89   95  90  100\n",
       "성진  70  95  100  90   95\n",
       "형선  90  95  100  95   90"
      ]
     },
     "execution_count": 505,
     "metadata": {},
     "output_type": "execute_result"
    }
   ],
   "source": [
    "## 기존 성적 데이터 프레임\n",
    "df"
   ]
  },
  {
   "cell_type": "code",
   "execution_count": 506,
   "metadata": {},
   "outputs": [
    {
     "name": "stdout",
     "output_type": "stream",
     "text": [
      "    수학  영어   국어  체육   미술\n",
      "재우  90  98  100  80   90\n",
      "지형  80  89   95  90  100\n",
      "성진  70  95  100  90   95\n",
      "형선  90  95  100  95   90\n",
      "\n",
      "\n",
      "    수학  영어   국어  체육   미술\n",
      "재우  90  98  100  90   90\n",
      "지형  80  89   95  90  100\n",
      "성진  70  95  100  90   95\n",
      "형선  90  95  100  95   90\n",
      "\n",
      "\n",
      "    수학  영어   국어   체육   미술\n",
      "재우  90  98  100  100   90\n",
      "지형  80  89   95   90  100\n",
      "성진  70  95  100   90   95\n",
      "형선  90  95  100   95   90\n",
      "\n",
      "\n",
      "    수학  영어   국어  체육   미술\n",
      "재우  90  98   50  50   90\n",
      "지형  80  89   95  90  100\n",
      "성진  70  95  100  90   95\n",
      "형선  90  95  100  95   90\n",
      "\n",
      "\n",
      "    수학  영어   국어  체육   미술\n",
      "재우  90  98  100  50   90\n",
      "지형  80  89   95  90  100\n",
      "성진  70  95  100  90   95\n",
      "형선  90  95  100  95   90\n"
     ]
    }
   ],
   "source": [
    "# 데이터프레임 df의 특정 원소를 변경하는 방법: '재우'의 '체육' 점수\n",
    "df.iloc[0][3] = 80\n",
    "print(df)\n",
    "print('\\n')\n",
    "\n",
    "df.loc['재우']['체육'] = 90\n",
    "print(df)\n",
    "print('\\n')\n",
    "\n",
    "df.loc['재우', '체육'] = 100\n",
    "print(df)\n",
    "print('\\n')\n",
    "\n",
    "# 데이터프레임 df의 원소 여러 개를 변경하는 방법: '재우'의 '국어', '체육' 점수\n",
    "df.loc['재우', ['국어', '체육']] = 50\n",
    "print(df)\n",
    "print('\\n')\n",
    "\n",
    "df.loc['재우', ['국어', '체육']] = 100, 50\n",
    "print(df)"
   ]
  },
  {
   "cell_type": "code",
   "execution_count": 507,
   "metadata": {},
   "outputs": [
    {
     "data": {
      "text/html": [
       "<div>\n",
       "<style scoped>\n",
       "    .dataframe tbody tr th:only-of-type {\n",
       "        vertical-align: middle;\n",
       "    }\n",
       "\n",
       "    .dataframe tbody tr th {\n",
       "        vertical-align: top;\n",
       "    }\n",
       "\n",
       "    .dataframe thead th {\n",
       "        text-align: right;\n",
       "    }\n",
       "</style>\n",
       "<table border=\"1\" class=\"dataframe\">\n",
       "  <thead>\n",
       "    <tr style=\"text-align: right;\">\n",
       "      <th></th>\n",
       "      <th>수학</th>\n",
       "      <th>영어</th>\n",
       "      <th>국어</th>\n",
       "      <th>체육</th>\n",
       "      <th>미술</th>\n",
       "    </tr>\n",
       "  </thead>\n",
       "  <tbody>\n",
       "    <tr>\n",
       "      <td>재우</td>\n",
       "      <td>90</td>\n",
       "      <td>98</td>\n",
       "      <td>100</td>\n",
       "      <td>50</td>\n",
       "      <td>90</td>\n",
       "    </tr>\n",
       "    <tr>\n",
       "      <td>지형</td>\n",
       "      <td>80</td>\n",
       "      <td>89</td>\n",
       "      <td>95</td>\n",
       "      <td>90</td>\n",
       "      <td>100</td>\n",
       "    </tr>\n",
       "    <tr>\n",
       "      <td>성진</td>\n",
       "      <td>70</td>\n",
       "      <td>95</td>\n",
       "      <td>100</td>\n",
       "      <td>90</td>\n",
       "      <td>95</td>\n",
       "    </tr>\n",
       "    <tr>\n",
       "      <td>형선</td>\n",
       "      <td>90</td>\n",
       "      <td>95</td>\n",
       "      <td>100</td>\n",
       "      <td>95</td>\n",
       "      <td>90</td>\n",
       "    </tr>\n",
       "  </tbody>\n",
       "</table>\n",
       "</div>"
      ],
      "text/plain": [
       "    수학  영어   국어  체육   미술\n",
       "재우  90  98  100  50   90\n",
       "지형  80  89   95  90  100\n",
       "성진  70  95  100  90   95\n",
       "형선  90  95  100  95   90"
      ]
     },
     "execution_count": 507,
     "metadata": {},
     "output_type": "execute_result"
    }
   ],
   "source": [
    "df"
   ]
  }
 ],
 "metadata": {
  "kernelspec": {
   "display_name": "Python 3",
   "language": "python",
   "name": "python3"
  },
  "language_info": {
   "codemirror_mode": {
    "name": "ipython",
    "version": 3
   },
   "file_extension": ".py",
   "mimetype": "text/x-python",
   "name": "python",
   "nbconvert_exporter": "python",
   "pygments_lexer": "ipython3",
   "version": "3.7.3"
  }
 },
 "nbformat": 4,
 "nbformat_minor": 2
}
