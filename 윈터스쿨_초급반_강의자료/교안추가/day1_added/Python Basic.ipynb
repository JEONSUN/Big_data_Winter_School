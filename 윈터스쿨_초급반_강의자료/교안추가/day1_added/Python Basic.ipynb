{
 "cells": [
  {
   "cell_type": "markdown",
   "metadata": {},
   "source": [
    "# Python Basic"
   ]
  },
  {
   "cell_type": "markdown",
   "metadata": {},
   "source": [
    "># 1st Week\n",
    "    >### 1단계 파이썬 기초"
   ]
  },
  {
   "cell_type": "markdown",
   "metadata": {},
   "source": [
    "## 자주 쓰는 단축키"
   ]
  },
  {
   "cell_type": "markdown",
   "metadata": {},
   "source": [
    "#### 코드 실행\n",
    "\n",
    "- **Ctrl + Enter** : 선택한 셀 실행\n",
    "\n",
    "- **Shift + Enter** : 선택한 셀을 실행하고 다음 셀로 넘어감\n",
    "\n",
    "- 여러 셀을 선택하고 한꺼번에 구동할 수도 있다."
   ]
  },
  {
   "cell_type": "markdown",
   "metadata": {},
   "source": [
    "#### 셀 추가\n",
    "- A: 새로운 셀을 선택한 셀 위에 추가\n",
    "- B: 새로운 셀을 선택한 셀 아래에 추가"
   ]
  },
  {
   "cell_type": "markdown",
   "metadata": {},
   "source": [
    "#### 셀 복사/붙여넣기 & 삭제하기/되돌리기\n",
    "\n",
    "- **X**: 선택한 셀을 잘라내기\n",
    "- **C**: 선택한 셀을 복사하기\n",
    "- **Y**: 복사한 셀을 선택한 셀 아래에 붙여넣기\n",
    "- **D,D**: 선택한 셀을 삭제하기\n",
    "- **Z**: 시행 되돌리기"
   ]
  },
  {
   "cell_type": "markdown",
   "metadata": {},
   "source": [
    "#### 기타\n",
    "\n",
    "- **Ctrl+B**: 디렉토리창 숨기기/보이기\n",
    "- 함수에 커서를 두고 **Shift+Tab** : 함수 설명 보기(파라미터 확인시 용이)\n",
    "- **Settings**:\n",
    "jupyter Theme - 테마변경, Advanced Setting Editor - 기타 설정 변경 가능"
   ]
  },
  {
   "cell_type": "code",
   "execution_count": 1,
   "metadata": {},
   "outputs": [
    {
     "name": "stdout",
     "output_type": "stream",
     "text": [
      "The Zen of Python, by Tim Peters\n",
      "\n",
      "Beautiful is better than ugly.\n",
      "Explicit is better than implicit.\n",
      "Simple is better than complex.\n",
      "Complex is better than complicated.\n",
      "Flat is better than nested.\n",
      "Sparse is better than dense.\n",
      "Readability counts.\n",
      "Special cases aren't special enough to break the rules.\n",
      "Although practicality beats purity.\n",
      "Errors should never pass silently.\n",
      "Unless explicitly silenced.\n",
      "In the face of ambiguity, refuse the temptation to guess.\n",
      "There should be one-- and preferably only one --obvious way to do it.\n",
      "Although that way may not be obvious at first unless you're Dutch.\n",
      "Now is better than never.\n",
      "Although never is often better than *right* now.\n",
      "If the implementation is hard to explain, it's a bad idea.\n",
      "If the implementation is easy to explain, it may be a good idea.\n",
      "Namespaces are one honking great idea -- let's do more of those!\n"
     ]
    }
   ],
   "source": [
    "import this"
   ]
  },
  {
   "cell_type": "markdown",
   "metadata": {},
   "source": [
    "# 2. 패키지 설치\n",
    "\n",
    "- 아니콘다 프롬포트에서는 **pip install 패키지명**\n",
    "- 주피터 노트북에서는 **!pip install 패키지명**"
   ]
  },
  {
   "cell_type": "markdown",
   "metadata": {},
   "source": [
    "# 3. 파이썬 기본 문법\n",
    "\n",
    "   ### 01. 기초 자료형"
   ]
  },
  {
   "cell_type": "markdown",
   "metadata": {},
   "source": [
    "# 데이터의 자료형 변환\n",
    ">#### 범주형\n",
    "- 순서형\n",
    "- 명목형\n",
    "\n",
    "\n",
    "\n",
    ">#### 숫자형\n",
    "- 정수형\n",
    "- 실수형\n",
    "- 8진법, 16진법"
   ]
  },
  {
   "cell_type": "markdown",
   "metadata": {},
   "source": [
    "### **정수형**\n",
    "\n",
    "\n",
    "양수, 음수, 0의 정수형 자료"
   ]
  },
  {
   "cell_type": "code",
   "execution_count": 2,
   "metadata": {},
   "outputs": [
    {
     "data": {
      "text/plain": [
       "int"
      ]
     },
     "execution_count": 2,
     "metadata": {},
     "output_type": "execute_result"
    }
   ],
   "source": [
    "type(112) # type: 자료형의 타입을 알려주는 함수"
   ]
  },
  {
   "cell_type": "code",
   "execution_count": 3,
   "metadata": {},
   "outputs": [
    {
     "name": "stdout",
     "output_type": "stream",
     "text": [
      "<class 'int'>\n",
      "<class 'int'>\n",
      "<class 'int'>\n"
     ]
    }
   ],
   "source": [
    "# 결과값을 출력해주는 print 함수를 통해 양수 음주 0의 자료 Type을 알아봅시다.\n",
    "\n",
    "print(type(112))\n",
    "print(type(-112))\n",
    "print(type(0))"
   ]
  },
  {
   "cell_type": "markdown",
   "metadata": {},
   "source": [
    "###  **실수형**\n",
    "\n",
    "소수점이 포함되는 숫자"
   ]
  },
  {
   "cell_type": "code",
   "execution_count": 4,
   "metadata": {},
   "outputs": [
    {
     "name": "stdout",
     "output_type": "stream",
     "text": [
      "<class 'float'>\n"
     ]
    }
   ],
   "source": [
    "print(type(-0.12))"
   ]
  },
  {
   "cell_type": "markdown",
   "metadata": {},
   "source": [
    "### **숫자형 자료의 사칙연산**\n",
    "\n",
    "- 더하기 빼기"
   ]
  },
  {
   "cell_type": "code",
   "execution_count": 5,
   "metadata": {},
   "outputs": [
    {
     "name": "stdout",
     "output_type": "stream",
     "text": [
      "16\n",
      "<class 'int'>\n"
     ]
    }
   ],
   "source": [
    "# a 변수에 11 저장\n",
    "a=11\n",
    "# b 변수에 5 저장\n",
    "b=5\n",
    "\n",
    "print(a+b)\n",
    "\n",
    "print(type(a+b))"
   ]
  },
  {
   "cell_type": "code",
   "execution_count": 6,
   "metadata": {},
   "outputs": [
    {
     "name": "stdout",
     "output_type": "stream",
     "text": [
      "5.0\n",
      "<class 'float'>\n"
     ]
    }
   ],
   "source": [
    "c=6.0\n",
    "\n",
    "print(a-c)\n",
    "\n",
    "# float ,형을 이용하여 사칙연산 시행시 float으로 변환\n",
    "print(type(a-c))"
   ]
  },
  {
   "cell_type": "markdown",
   "metadata": {},
   "source": [
    "- 곱하기 나누기 제곱"
   ]
  },
  {
   "cell_type": "code",
   "execution_count": 7,
   "metadata": {},
   "outputs": [
    {
     "name": "stdout",
     "output_type": "stream",
     "text": [
      "30\n",
      "3.3333333333333335\n",
      "1000\n"
     ]
    }
   ],
   "source": [
    "a = 10\n",
    "b = 3\n",
    "print(a*b) # 곱하기\n",
    "print(a/b) # 나누기\n",
    "print(a**b) # 제곱"
   ]
  },
  {
   "cell_type": "code",
   "execution_count": 8,
   "metadata": {},
   "outputs": [
    {
     "name": "stdout",
     "output_type": "stream",
     "text": [
      "3\n",
      "1\n"
     ]
    }
   ],
   "source": [
    "a=10\n",
    "b=3\n",
    "# 몫만 구하기\n",
    "print(a//b)\n",
    "# 나머지 반환\n",
    "print(a%b)"
   ]
  },
  {
   "cell_type": "markdown",
   "metadata": {},
   "source": [
    ">## 문자열 자료형\n",
    "- **string : 단어, 문자들로 구성된 집합**\n",
    "\n",
    "'HELLO',\n",
    "\"안녕!\"\n",
    "\n",
    "문자열 자료형의 경우 위와 같이 '',\"\"로 둘러싸주면 됨."
   ]
  },
  {
   "cell_type": "code",
   "execution_count": 9,
   "metadata": {},
   "outputs": [
    {
     "data": {
      "text/plain": [
       "str"
      ]
     },
     "execution_count": 9,
     "metadata": {},
     "output_type": "execute_result"
    }
   ],
   "source": [
    "type(\"Hello\")"
   ]
  },
  {
   "cell_type": "code",
   "execution_count": 10,
   "metadata": {},
   "outputs": [
    {
     "data": {
      "text/plain": [
       "str"
      ]
     },
     "execution_count": 10,
     "metadata": {},
     "output_type": "execute_result"
    }
   ],
   "source": [
    "type(\"안녕!\")"
   ]
  },
  {
   "cell_type": "code",
   "execution_count": 11,
   "metadata": {},
   "outputs": [
    {
     "data": {
      "text/plain": [
       "str"
      ]
     },
     "execution_count": 11,
     "metadata": {},
     "output_type": "execute_result"
    }
   ],
   "source": [
    "type(\"Let's start Python!\") # 문자열 안에 '' 포함하고 싶을시 큰따옴표\"\"로 둘러싸면 됨"
   ]
  },
  {
   "cell_type": "markdown",
   "metadata": {},
   "source": [
    "***\n",
    "### 자주 사용하는 **이스케이프 코드** 알아보기\n",
    "    \\n\t:  문자열 안에서 줄을 바꿀 때 사용  \n",
    "    \\t\t:  문자열 사이에 탭 간격을 줄 때 사용  \n",
    "    \\\\\t:  문자 \\를 그대로 표현할 때 사용  \n",
    "    \\'\t:  작은따옴표(')를 그대로 표현할 때 사용  \n",
    "    \\\"\t:  큰따옴표(\")를 그대로 표현할 때 사용  \n",
    "***"
   ]
  },
  {
   "cell_type": "code",
   "execution_count": 12,
   "metadata": {},
   "outputs": [
    {
     "name": "stdout",
     "output_type": "stream",
     "text": [
      "Hello \n",
      " \t 'World' \n",
      "\n"
     ]
    }
   ],
   "source": [
    "print( 'Hello \\n \\t \\'World\\' \\n')"
   ]
  },
  {
   "cell_type": "markdown",
   "metadata": {},
   "source": [
    "### 문자열의 사칙연산\n",
    "\n",
    "- 파이썬은 특별하게 문자열을 더하고 곱할수 있음."
   ]
  },
  {
   "cell_type": "code",
   "execution_count": 13,
   "metadata": {},
   "outputs": [
    {
     "name": "stdout",
     "output_type": "stream",
     "text": [
      "백견이불여일타\n"
     ]
    }
   ],
   "source": [
    "a='백견이'\n",
    "b='불여일타'\n",
    "print(a+b)"
   ]
  },
  {
   "cell_type": "code",
   "execution_count": 14,
   "metadata": {},
   "outputs": [
    {
     "name": "stdout",
     "output_type": "stream",
     "text": [
      "영차영차\n",
      "영차영차영차영차영차영차영차영차영차영차\n"
     ]
    }
   ],
   "source": [
    "c='영차'\n",
    "\n",
    "print(c*2)\n",
    "print(c*10)"
   ]
  },
  {
   "cell_type": "code",
   "execution_count": 15,
   "metadata": {},
   "outputs": [
    {
     "data": {
      "text/plain": [
       "17"
      ]
     },
     "execution_count": 15,
     "metadata": {},
     "output_type": "execute_result"
    }
   ],
   "source": [
    "# 문자열 길이 구하기\n",
    "string_='Data Science Camp'\n",
    "\n",
    "len(string_ ) # 파이썬 내장함수인 len은 띄어쓰기를 포함한 문자열의 길이를 확인"
   ]
  },
  {
   "cell_type": "code",
   "execution_count": 16,
   "metadata": {},
   "outputs": [
    {
     "data": {
      "text/plain": [
       "'D'"
      ]
     },
     "execution_count": 16,
     "metadata": {},
     "output_type": "execute_result"
    }
   ],
   "source": [
    "# 문자열 인덱싱 , 원하는 특정 문자만 뽑아내기\n",
    "string_[0]  # 첫번째 문자만 출력"
   ]
  },
  {
   "cell_type": "code",
   "execution_count": 17,
   "metadata": {},
   "outputs": [
    {
     "data": {
      "text/plain": [
       "'p'"
      ]
     },
     "execution_count": 17,
     "metadata": {},
     "output_type": "execute_result"
    }
   ],
   "source": [
    "# 마지막 문자 풀력\n",
    "string_[-1]"
   ]
  },
  {
   "cell_type": "code",
   "execution_count": 18,
   "metadata": {},
   "outputs": [
    {
     "data": {
      "text/plain": [
       "'D'"
      ]
     },
     "execution_count": 18,
     "metadata": {},
     "output_type": "execute_result"
    }
   ],
   "source": [
    "# 문자열 슬라이싱\n",
    "string_[0:1] # 범위의 마지막 문자는 포함되지않습니다. - 문자열의 첫번째 값만 출력"
   ]
  },
  {
   "cell_type": "code",
   "execution_count": 19,
   "metadata": {},
   "outputs": [
    {
     "data": {
      "text/plain": [
       "'Science Camp'"
      ]
     },
     "execution_count": 19,
     "metadata": {},
     "output_type": "execute_result"
    }
   ],
   "source": [
    "# 6번째 문자부터 끝까지 출력\n",
    "string_[5:]"
   ]
  },
  {
   "cell_type": "code",
   "execution_count": 20,
   "metadata": {},
   "outputs": [
    {
     "data": {
      "text/plain": [
       "'Data '"
      ]
     },
     "execution_count": 20,
     "metadata": {},
     "output_type": "execute_result"
    }
   ],
   "source": [
    "# 처음부터 5번째까지 출력\n",
    "string_[:5]"
   ]
  },
  {
   "cell_type": "code",
   "execution_count": 21,
   "metadata": {},
   "outputs": [
    {
     "data": {
      "text/plain": [
       "'Science'"
      ]
     },
     "execution_count": 21,
     "metadata": {},
     "output_type": "execute_result"
    }
   ],
   "source": [
    "string_[5:12]"
   ]
  },
  {
   "cell_type": "code",
   "execution_count": 22,
   "metadata": {},
   "outputs": [
    {
     "data": {
      "text/plain": [
       "'Camp'"
      ]
     },
     "execution_count": 22,
     "metadata": {},
     "output_type": "execute_result"
    }
   ],
   "source": [
    "# -를 사용하면 뒤에서부터 순서를 셀 수 있습니다.\n",
    "# Camp만 출력하기\n",
    "\n",
    "string_[-4:] # 뒤에서 4번째 숫자부터 끝까지 출력하기"
   ]
  },
  {
   "cell_type": "markdown",
   "metadata": {},
   "source": [
    "\n",
    ">### 리스트 자료형\n",
    "숫자형 자료와 문자열 자료 등을 하나의 집합으로 모을 수 있는 리스트 입니다.\n"
   ]
  },
  {
   "cell_type": "code",
   "execution_count": 23,
   "metadata": {},
   "outputs": [],
   "source": [
    "# 여러가지 구조의 리스트\n",
    "\n",
    "a = [] #비어있는 리스트\n",
    "\n",
    "b = [0,1,2] # 숫자형 자료가 들어있는 리스트\n",
    "\n",
    "c = ['data','Science','too','easy'] # 문자형 자료\n",
    "\n",
    "d = [0,1,'data','Science'] # 숫자 + 문자열\n",
    "\n",
    "e = [2,0,['too','easy']]# 숫자+ 문자열 리스트 - 리스트가 포함된 중첩 리스트"
   ]
  },
  {
   "cell_type": "code",
   "execution_count": 24,
   "metadata": {},
   "outputs": [
    {
     "name": "stdout",
     "output_type": "stream",
     "text": [
      "[] \n",
      "\n",
      "[0, 1, 2] \n",
      "\n",
      "['data', 'Science', 'too', 'easy'] \n",
      "\n",
      "[0, 1, 'data', 'Science'] \n",
      "\n",
      "[2, 0, ['too', 'easy']] \n",
      "\n"
     ]
    }
   ],
   "source": [
    "# print( type(a) ,'\\n')\n",
    "\n",
    "print(a,'\\n')\n",
    "print(b ,'\\n')\n",
    "print(c ,'\\n')\n",
    "print(d ,'\\n')\n",
    "print(e ,'\\n')"
   ]
  },
  {
   "cell_type": "markdown",
   "metadata": {},
   "source": [
    "### 리스트 자료  심화\n",
    "+ 리스트 길이 구하기\n",
    "+ 인덱싱\n",
    "+ 슬라이싱 \n",
    "+ 리스트 관련 함수"
   ]
  },
  {
   "cell_type": "code",
   "execution_count": 32,
   "metadata": {},
   "outputs": [],
   "source": [
    "list_ = ['Data', 'Science', 101, 'Camp'] # 파이썬에서는 이미 list 라는 함수가 있기 때문에 "
   ]
  },
  {
   "cell_type": "code",
   "execution_count": 34,
   "metadata": {},
   "outputs": [
    {
     "data": {
      "text/plain": [
       "4"
      ]
     },
     "execution_count": 34,
     "metadata": {},
     "output_type": "execute_result"
    }
   ],
   "source": [
    "# 리스트 길이 구하기\n",
    "len(list_)"
   ]
  },
  {
   "cell_type": "code",
   "execution_count": 35,
   "metadata": {},
   "outputs": [
    {
     "name": "stdout",
     "output_type": "stream",
     "text": [
      "Science \n",
      "\n",
      "['Science', 101] \n",
      "\n",
      "<class 'str'> \n",
      "\n",
      "<class 'list'>\n"
     ]
    }
   ],
   "source": [
    "# 리스트 인덱싱과 슬라이싱\n",
    "\n",
    "print(list_[1], '\\n')\n",
    "print(list_[1:3], '\\n')\n",
    "\n",
    "# 리스트에서 인덱싱과 슬라이싱을 했을때의 자료 Type! \n",
    "print(type(list_[1]) ,'\\n')\n",
    "print( type(list_[1:3]))"
   ]
  },
  {
   "cell_type": "markdown",
   "metadata": {},
   "source": [
    "#### list도 연산이 가능"
   ]
  },
  {
   "cell_type": "code",
   "execution_count": 36,
   "metadata": {},
   "outputs": [
    {
     "name": "stdout",
     "output_type": "stream",
     "text": [
      "[1, 2, 3, 1, 2, 3]\n",
      "[1, 2, 3, 'Hello', 'World']\n"
     ]
    }
   ],
   "source": [
    "a = [1, 2, 3]\n",
    "b = ['Hello', 'World']\n",
    "\n",
    "print(a*2)\n",
    "print(a+b)\n",
    "\n",
    "#### 주의 할 점 ####\n",
    "# 아래와 같이 서로 다른 Type 의 자료형을 더해줄 경우에는 Error 가 뜹니다 \n",
    "# 같은 자료 구조 끼리만 연산 가능   ex) 숫자&숫자 , 문자&문자, 리스트&리스트\n",
    "\n",
    "#  print( a[0] + b[1])"
   ]
  },
  {
   "cell_type": "markdown",
   "metadata": {},
   "source": [
    "#### 추가\n",
    "list 함수"
   ]
  },
  {
   "cell_type": "code",
   "execution_count": 37,
   "metadata": {},
   "outputs": [],
   "source": [
    "list_ = [2, 1, 3, 4]"
   ]
  },
  {
   "cell_type": "code",
   "execution_count": 38,
   "metadata": {},
   "outputs": [
    {
     "name": "stdout",
     "output_type": "stream",
     "text": [
      "[2, 1, 3, 4, 5]\n"
     ]
    }
   ],
   "source": [
    "# 리스트에 요소 추가하기 : append\n",
    "\n",
    "list_.append(5)\n",
    "\n",
    "print(list_)"
   ]
  },
  {
   "cell_type": "code",
   "execution_count": 39,
   "metadata": {},
   "outputs": [
    {
     "name": "stdout",
     "output_type": "stream",
     "text": [
      "[2, 'and', 1, 3, 4, 5]\n"
     ]
    }
   ],
   "source": [
    "# 원하는 위치에 요소 삽입하기 : insert\n",
    "\n",
    "list_.insert(1, 'and')\n",
    "\n",
    "print(list_)"
   ]
  },
  {
   "cell_type": "code",
   "execution_count": 40,
   "metadata": {},
   "outputs": [
    {
     "name": "stdout",
     "output_type": "stream",
     "text": [
      "[2, 1, 3, 4, 5]\n"
     ]
    }
   ],
   "source": [
    "# 리스트 요소 제거 : remove\n",
    "# remove(*)는 리스트에서 첫 번째로 나오는 *을 삭제하는 함수입니다\n",
    "\n",
    "list_.remove('and')\n",
    "print(list_)"
   ]
  },
  {
   "cell_type": "code",
   "execution_count": 41,
   "metadata": {},
   "outputs": [
    {
     "name": "stdout",
     "output_type": "stream",
     "text": [
      "[1, 2, 3, 4, 5]\n"
     ]
    }
   ],
   "source": [
    "# 리스트 정렬 : sort\n",
    "\n",
    "list_.sort()\n",
    "\n",
    "print(list_)"
   ]
  },
  {
   "cell_type": "code",
   "execution_count": 42,
   "metadata": {},
   "outputs": [
    {
     "name": "stdout",
     "output_type": "stream",
     "text": [
      "[5, 4, 3, 2, 1]\n"
     ]
    }
   ],
   "source": [
    "# 역순으로 정렬도 할 수 있습니다 \n",
    "# sort 뒤를 클릭 후 shift + tab 을 눌러 보시면  'sort'함수의 value 들을 확인 할 수 있습니다\n",
    "list_.sort(reverse= True)  # 역순을 True 로 설정하면!\n",
    "\n",
    "print( list_) #  거꾸로 배열이 됨을 확인 할 수 있습니다"
   ]
  },
  {
   "cell_type": "markdown",
   "metadata": {},
   "source": [
    "> ### 튜플 자료형\n",
    "리스트와 거의 유사하지만  \n",
    "차이점은 값을 *수정 및 삭제* 가 불가하다는 점이 다릅니다"
   ]
  },
  {
   "cell_type": "code",
   "execution_count": 43,
   "metadata": {},
   "outputs": [],
   "source": [
    "tuple_=(1,2,3,4)"
   ]
  },
  {
   "cell_type": "code",
   "execution_count": 44,
   "metadata": {},
   "outputs": [
    {
     "ename": "AttributeError",
     "evalue": "'tuple' object has no attribute 'append'",
     "output_type": "error",
     "traceback": [
      "\u001b[1;31m---------------------------------------------------------------------------\u001b[0m",
      "\u001b[1;31mAttributeError\u001b[0m                            Traceback (most recent call last)",
      "\u001b[1;32m<ipython-input-44-729b10570cdb>\u001b[0m in \u001b[0;36m<module>\u001b[1;34m\u001b[0m\n\u001b[1;32m----> 1\u001b[1;33m \u001b[0mtuple_\u001b[0m\u001b[1;33m.\u001b[0m\u001b[0mappend\u001b[0m\u001b[1;33m(\u001b[0m\u001b[1;36m5\u001b[0m\u001b[1;33m)\u001b[0m  \u001b[1;31m# 5 를 추가하려하자 Error 가 발생!\u001b[0m\u001b[1;33m\u001b[0m\u001b[1;33m\u001b[0m\u001b[0m\n\u001b[0m",
      "\u001b[1;31mAttributeError\u001b[0m: 'tuple' object has no attribute 'append'"
     ]
    }
   ],
   "source": [
    "tuple_.append(5)  # 5 를 추가하려하자 Error 가 발생!"
   ]
  },
  {
   "cell_type": "markdown",
   "metadata": {},
   "source": [
    "> ### 딕셔너리 자료형  \n",
    "  \n",
    "     이름: 송해  \n",
    "     출생년도 : 1927\n",
    "     방송 : 전국노래자랑  \n",
    "\n",
    "위 와 같이 대응 되는 구조를 갖는 자료를 딕셔너리 자료형이라고 합니다  \n",
    "\n",
    "Key 를 통해 Value를 얻는 구조 입니다.  \n",
    "\n",
    "*{Key1:Value1,  Key2:Value2,  Key3:Value3,  ...}*  "
   ]
  },
  {
   "cell_type": "code",
   "execution_count": 46,
   "metadata": {},
   "outputs": [
    {
     "name": "stdout",
     "output_type": "stream",
     "text": [
      "{'name': 'IU', 'age': 27, '인기곡': ['좋은날', '마쉬멜로우', '금요일에 만나요', 23]}\n",
      "<class 'dict'>\n"
     ]
    }
   ],
   "source": [
    "dic =  { 'name':'IU' , 'age':27 ,'인기곡':['좋은날','마쉬멜로우','금요일에 만나요',23] }\n",
    "\n",
    "print(type(dic))"
   ]
  },
  {
   "cell_type": "markdown",
   "metadata": {},
   "source": [
    "딕셔너리에서 Key 를 사용하여 Value 얻기\n",
    "\n",
    "    아이유의 인기곡을 불러옵시다 \n",
    "    \n",
    "    Dict['Key'] 와 같이 대괄호를 이용하여 불러옵니다 "
   ]
  },
  {
   "cell_type": "code",
   "execution_count": 47,
   "metadata": {},
   "outputs": [
    {
     "data": {
      "text/plain": [
       "['좋은날', '마쉬멜로우', '금요일에 만나요', 23]"
      ]
     },
     "execution_count": 47,
     "metadata": {},
     "output_type": "execute_result"
    }
   ],
   "source": [
    "dic['인기곡']"
   ]
  },
  {
   "cell_type": "markdown",
   "metadata": {},
   "source": [
    "딕셔너리의 Key   or   Value 만 얻기  \n",
    "    \n",
    "    keys() 함수와 values() 함수를 이용합니다  "
   ]
  },
  {
   "cell_type": "code",
   "execution_count": 48,
   "metadata": {},
   "outputs": [
    {
     "name": "stdout",
     "output_type": "stream",
     "text": [
      "dict_keys(['name', 'age', '인기곡'])\n",
      "dict_values(['IU', 27, ['좋은날', '마쉬멜로우', '금요일에 만나요', 23]])\n"
     ]
    }
   ],
   "source": [
    "print(dic.keys())\n",
    "\n",
    "print(dic.values())"
   ]
  },
  {
   "cell_type": "markdown",
   "metadata": {},
   "source": [
    "----------------\n",
    "----------------\n",
    "### 03. 함수 만들기"
   ]
  },
  {
   "cell_type": "markdown",
   "metadata": {},
   "source": [
    "함수는 들어온 입력값을 받아 어떤 처리를 하여 적절한 결괏값을 돌려줍니다.\n",
    "\n",
    "입력값 ---> 함수 ----> 결괏값"
   ]
  },
  {
   "cell_type": "markdown",
   "metadata": {},
   "source": [
    "두 변수를 받아 합을 반환하는 함수를 만들어 볼까요?\n",
    "\n",
    "    a + b = ?"
   ]
  },
  {
   "cell_type": "code",
   "execution_count": 49,
   "metadata": {},
   "outputs": [],
   "source": [
    "def add(a,b):\n",
    "    return a+b\n",
    "\n",
    "#   a 와 b 를 입력 받아 a+b를 출력하는  add 함수를 만듦."
   ]
  },
  {
   "cell_type": "code",
   "execution_count": 51,
   "metadata": {},
   "outputs": [
    {
     "name": "stdout",
     "output_type": "stream",
     "text": [
      "12\n"
     ]
    }
   ],
   "source": [
    "c = add(5,7)\n",
    "\n",
    "print(c)"
   ]
  },
  {
   "cell_type": "code",
   "execution_count": 52,
   "metadata": {},
   "outputs": [],
   "source": [
    "def shout():\n",
    "    print('야호'*10)"
   ]
  },
  {
   "cell_type": "code",
   "execution_count": 53,
   "metadata": {},
   "outputs": [
    {
     "name": "stdout",
     "output_type": "stream",
     "text": [
      "야호야호야호야호야호야호야호야호야호야호\n"
     ]
    }
   ],
   "source": [
    "shout()"
   ]
  },
  {
   "cell_type": "markdown",
   "metadata": {},
   "source": [
    "## 4. 제어문 반복문\n",
    " \n",
    "### 01. IF\n",
    "### 02. For \n",
    "### 03. While"
   ]
  },
  {
   "cell_type": "markdown",
   "metadata": {},
   "source": [
    "> ### IF 문 \n",
    "\n",
    "if  조건문 :  \n",
    "&nbsp;&nbsp;&nbsp;&nbsp;수행할 문장  \n",
    "&nbsp;&nbsp;&nbsp;&nbsp;수행할 문장  \n",
    "&nbsp;&nbsp;&nbsp;&nbsp;수행할 문장  \n",
    "    \n",
    "~ 할때 ~ 해라 조건을 만들어주는 If 조건문\n",
    "\n",
    "조건문은 비교 연산자 등을 이용하여 원하는 조건을 만들어 줍니다"
   ]
  },
  {
   "cell_type": "markdown",
   "metadata": {},
   "source": [
    ">### 비교연산자\n",
    "![비교연산자](https:/t1.daumcdn.net/cfile/tistory/2357563D56A8F49C1E)"
   ]
  },
  {
   "cell_type": "code",
   "execution_count": 54,
   "metadata": {},
   "outputs": [
    {
     "name": "stdout",
     "output_type": "stream",
     "text": [
      "내일 점심을 정해와라\n"
     ]
    }
   ],
   "source": [
    "name = \"유승우\"\n",
    "\n",
    "if name == \"유승우\":\n",
    "    print(\"내일 점심을 정해와라\")\n",
    "else:\n",
    "    print(\"없으면 국밥으로\")"
   ]
  },
  {
   "cell_type": "markdown",
   "metadata": {},
   "source": [
    "*IF 조건문 뒤에는 : (콜론) 을 붙이며  수행할 문장 들에 대해서는 들여쓰기를 해야 한다는 점 주의*"
   ]
  },
  {
   "cell_type": "code",
   "execution_count": 69,
   "metadata": {},
   "outputs": [
    {
     "name": "stdout",
     "output_type": "stream",
     "text": [
      "술\n"
     ]
    }
   ],
   "source": [
    "name = \"박상희\"\n",
    "lunch = \"버거킹 자리 있음\"\n",
    "\n",
    "if name == \"유승우\":\n",
    "    if lunch == \"버거킹 자리 있음\":\n",
    "        print(\"몬스터 메가 x\")\n",
    "    else:\n",
    "        print(\"국밥\")\n",
    "else:\n",
    "    print(\"술\")"
   ]
  },
  {
   "cell_type": "markdown",
   "metadata": {},
   "source": [
    "#### If + Elif 조건문 "
   ]
  },
  {
   "cell_type": "code",
   "execution_count": 76,
   "metadata": {},
   "outputs": [
    {
     "name": "stdout",
     "output_type": "stream",
     "text": [
      "다틀렸다\n"
     ]
    }
   ],
   "source": [
    "name = \"1\"\n",
    "if name == \"2\":\n",
    "    print(\"2\")\n",
    "elif name == \"3\":\n",
    "    print(\"3\")\n",
    "elif name ==\"0\":\n",
    "    print(\"0\")\n",
    "else:\n",
    "    print(\"다틀렸다\")"
   ]
  },
  {
   "cell_type": "markdown",
   "metadata": {},
   "source": [
    "***파이썬의 다양한 조건문***  \n",
    "파이썬은  `in` 과 `not in` 등의 조건문도 사용가능합니다."
   ]
  },
  {
   "cell_type": "code",
   "execution_count": 77,
   "metadata": {},
   "outputs": [
    {
     "data": {
      "text/plain": [
       "True"
      ]
     },
     "execution_count": 77,
     "metadata": {},
     "output_type": "execute_result"
    }
   ],
   "source": [
    "1 in [1,2,3]"
   ]
  },
  {
   "cell_type": "code",
   "execution_count": 79,
   "metadata": {},
   "outputs": [
    {
     "data": {
      "text/plain": [
       "False"
      ]
     },
     "execution_count": 79,
     "metadata": {},
     "output_type": "execute_result"
    }
   ],
   "source": [
    "1 not in [1,2,3]"
   ]
  },
  {
   "cell_type": "code",
   "execution_count": 80,
   "metadata": {},
   "outputs": [
    {
     "data": {
      "text/plain": [
       "True"
      ]
     },
     "execution_count": 80,
     "metadata": {},
     "output_type": "execute_result"
    }
   ],
   "source": [
    "'D' in 'DACON'"
   ]
  },
  {
   "cell_type": "code",
   "execution_count": 81,
   "metadata": {},
   "outputs": [
    {
     "data": {
      "text/plain": [
       "False"
      ]
     },
     "execution_count": 81,
     "metadata": {},
     "output_type": "execute_result"
    }
   ],
   "source": [
    "'d' in 'Dacon'"
   ]
  },
  {
   "cell_type": "markdown",
   "metadata": {},
   "source": [
    "> ### 반복문 : For & While"
   ]
  },
  {
   "cell_type": "markdown",
   "metadata": {},
   "source": [
    "for문의 기본 구조:  \n",
    "  \n",
    ">for 변수 in 리스트 (또는 튜플, 문자열):  \n",
    ">>    수행할 문장1  \n",
    "      수행할 문장2  \n",
    "    ...  \n",
    "    \n",
    "*For 문 알고리즘 표 그려보기*"
   ]
  },
  {
   "cell_type": "code",
   "execution_count": 83,
   "metadata": {},
   "outputs": [
    {
     "name": "stdout",
     "output_type": "stream",
     "text": [
      "55\n",
      "55\n",
      "25\n"
     ]
    }
   ],
   "source": [
    "# 가장 기본적인 for 문 구조\n",
    "## 1 부터 10 까지의 숫자를 더하여 봅시다\n",
    "\n",
    "sum1 = 0\n",
    "for i in [1,2,3,4,5,6,7,8,9,10]:\n",
    "    sum1 += i\n",
    "print(sum1)\n",
    "\n",
    "\n",
    "\n",
    "\n",
    "sum2 = 0\n",
    "for i in range(1,11):\n",
    "    sum2 += i\n",
    "print(sum2)\n",
    "\n",
    "# range(1,11) 은 1 이상 11미만의 정수\n",
    "# range(1,10,2) 은  1 부터 2씩 증가하며 10 미만까지의 정수 \n",
    "\n",
    "sum3=0\n",
    "for i in range(1,10,2):\n",
    "    sum3= sum3+i\n",
    "print(sum3)"
   ]
  },
  {
   "cell_type": "markdown",
   "metadata": {},
   "source": [
    "#### 리스트를 이용한 For 문"
   ]
  },
  {
   "cell_type": "code",
   "execution_count": 90,
   "metadata": {},
   "outputs": [
    {
     "name": "stdout",
     "output_type": "stream",
     "text": [
      "다이나믹 듀오 맵고\n",
      "다이나믹 듀오 짜고\n",
      "다이나믹 듀오 단거\n"
     ]
    }
   ],
   "source": [
    "for i in ['맵고','짜고','단거']:\n",
    "    print('다이나믹','듀오',i)"
   ]
  },
  {
   "cell_type": "markdown",
   "metadata": {},
   "source": [
    "> ### WHILE 반복문\n",
    "While 반복문의 기본 구조:\n",
    "\n",
    ">while 조건문:  \n",
    ">>    수행할 문장1  \n",
    "      수행할 문장2  \n",
    "    ...  \n",
    "    \n",
    "For 문 과 굉장히 유사한것을 알 수 있죠?"
   ]
  },
  {
   "cell_type": "code",
   "execution_count": 91,
   "metadata": {},
   "outputs": [
    {
     "name": "stdout",
     "output_type": "stream",
     "text": [
      "붕어빵 0 마리\n",
      "붕어빵 1 마리\n",
      "붕어빵 2 마리\n",
      "붕어빵 3 마리\n",
      "붕어빵 4 마리\n",
      "붕어빵 5 마리\n"
     ]
    }
   ],
   "source": [
    "## 가장 기본적인 Whiie 반복문 구조\n",
    "\n",
    "i = 0\n",
    "while i <=5:\n",
    "    print('붕어빵',i,'마리')\n",
    "    i += 1 # while 과 for 문의 차이 !"
   ]
  },
  {
   "cell_type": "code",
   "execution_count": 99,
   "metadata": {},
   "outputs": [
    {
     "name": "stdout",
     "output_type": "stream",
     "text": [
      "콜라를 줍니다\n"
     ]
    }
   ],
   "source": [
    "coke = 5\n",
    "\n",
    "while True:\n",
    "    print('콜라를 줍니다')\n",
    "    coke -= 1\n",
    "    \n",
    "    if coke == 0:\n",
    "        print('콜라가 다 떨어졌습니다.')\n",
    "    break    "
   ]
  },
  {
   "cell_type": "markdown",
   "metadata": {},
   "source": [
    "강제로 while 문 빠져나가기\n",
    "\n",
    "콜라가 다 떨어 질때까지 공짜로 콜라를 주는 자판기를 코드로 만들어 봅시다.\n",
    "\n",
    "while True:를 통해 무한 루프를 만들어 준 후,\n",
    "\n",
    "콜라의 개수가 0이 되면 break 를 통해\n",
    "\n",
    "While 반복문을 빠져나가 도록 만들어 보겠습니다."
   ]
  },
  {
   "cell_type": "code",
   "execution_count": 100,
   "metadata": {},
   "outputs": [
    {
     "name": "stdout",
     "output_type": "stream",
     "text": [
      "콜라를 줍니다\n",
      "콜라를 줍니다\n",
      "콜라를 줍니다\n",
      "콜라를 줍니다\n",
      "콜라를 줍니다\n",
      "콜라가 다 떨어졌습니다.\n"
     ]
    }
   ],
   "source": [
    "coke = 5\n",
    "\n",
    "while True:\n",
    "    print('콜라를 줍니다')\n",
    "    coke -= 1\n",
    "    \n",
    "    if coke == 0:\n",
    "        print('콜라가 다 떨어졌습니다.')\n",
    "        break   "
   ]
  },
  {
   "cell_type": "code",
   "execution_count": 103,
   "metadata": {},
   "outputs": [
    {
     "name": "stdout",
     "output_type": "stream",
     "text": [
      "콜라를 줍니다.\n",
      "콜라를 줍니다.\n",
      "콜라를 줍니다.\n",
      "콜라를 줍니다.\n",
      "콜라를 줍니다.\n",
      "콜라를 줍니다.\n",
      "콜라를 줍니다.\n",
      "거스름 돈은 100 입니다. 돈이 부족합니다\n",
      "남은 콜라는 3 개 입니다.\n"
     ]
    }
   ],
   "source": [
    "coke = 10  \n",
    "money = 5000\n",
    "\n",
    "while True:\n",
    "    if money == 700:\n",
    "        print(\"콜라를 줍니다. 거스름 돈은 0원 입니다\")\n",
    "        coke = coke -1\n",
    "        money -= 700 # -= 설명 \n",
    "    elif money > 700:\n",
    "        print(\"콜라를 줍니다.\")\n",
    "        coke = coke -1\n",
    "        money -= 700\n",
    "    else:\n",
    "        print(\"거스름 돈은\",money,\"입니다.\", \"돈이 부족합니다\")\n",
    "        print(\"남은 콜라는\" ,coke,\"개 입니다.\")\n",
    "        break\n",
    "    if coke == 0:\n",
    "        print(\"거스름 돈은\",money-700,\"입니다\",\"콜라가 다 떨어졌습니다.\")\n",
    "        print(\"판매를 중지 합니다.\")\n",
    "        break"
   ]
  },
  {
   "cell_type": "code",
   "execution_count": null,
   "metadata": {},
   "outputs": [],
   "source": []
  },
  {
   "cell_type": "code",
   "execution_count": null,
   "metadata": {},
   "outputs": [],
   "source": []
  },
  {
   "cell_type": "code",
   "execution_count": null,
   "metadata": {},
   "outputs": [],
   "source": []
  },
  {
   "cell_type": "code",
   "execution_count": null,
   "metadata": {},
   "outputs": [],
   "source": []
  }
 ],
 "metadata": {
  "kernelspec": {
   "display_name": "Python 3",
   "language": "python",
   "name": "python3"
  },
  "language_info": {
   "codemirror_mode": {
    "name": "ipython",
    "version": 3
   },
   "file_extension": ".py",
   "mimetype": "text/x-python",
   "name": "python",
   "nbconvert_exporter": "python",
   "pygments_lexer": "ipython3",
   "version": "3.7.3"
  }
 },
 "nbformat": 4,
 "nbformat_minor": 2
}
